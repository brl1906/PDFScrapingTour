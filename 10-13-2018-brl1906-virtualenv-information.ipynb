{
 "cells": [
  {
   "cell_type": "markdown",
   "metadata": {},
   "source": [
    "### use: \n",
    "1. [camelot](https://pypi.org/project/camelot-py/)\n",
    "2. [PyPDF2](https://github.com/mstamy2/PyPDF2)\n",
    "3. [tabula](https://github.com/chezou/tabula-py)\n",
    "4. [ocrmypdf](https://ocrmypdf.readthedocs.io/en/latest/)\n",
    "5. [textract](https://textract.readthedocs.io/en/latest/installation.html)\n",
    "6. [pytesseract](https://pypi.org/project/pytesseract/)"
   ]
  },
  {
   "cell_type": "markdown",
   "metadata": {},
   "source": [
    "#### Trouble shooting across various package needs to create virtualenv with each system I wanted to test out\n",
    "* \n",
    "#### installing <i>ocrmypdf</i> was done via brew and required an update of xcode on my system\n",
    "* the ocrmypdf [documentation](https://ocrmypdf.readthedocs.io/en/latest/installation.html#homebrew) worked like a charm; it is a homebrew formula.  \n",
    "as simple as:  ```brew install ocrmypdf```\n",
    "#### installing <i>textract</i> required me to clone the repo into the virtual environment and change two lines in one of the setup files that was generating a failed import. \n",
    "```pocketsphinx-python/deps/sphinxbase/src/libsphinxad/ad_openal.c```\n",
    "* the textract [documentation](https://textract.readthedocs.io/en/latest/installation.html) was helpful\n",
    "* [this link](https://github.com/bambocher/pocketsphinx-python/issues/28) was even more helpful in troubleshooting the error and editing a C file in one of the dependencies\n",
    "#### installing <i>camelot-py</i> may require installation of opencv-python in order to get the cv2 dependency\n",
    "* using ```pip freeze``` you can search the returned modules for presence of opencv\n",
    "* if you need **cv2** in the virtual enviornment run ```pip install opencv-python```"
   ]
  },
  {
   "cell_type": "markdown",
   "metadata": {},
   "source": [
    "## <font color=green> Building Final Environment</font>\n",
    "\n",
    "After sucessfully creating individual environments for each library to test, I created a new virtual environment to contain each package and dependency and burned the old environments. \n",
    "* *<font color=grey>added jupyter, numpy and pandas to the final virtual enviornment</font>*"
   ]
  },
  {
   "cell_type": "code",
   "execution_count": null,
   "metadata": {
    "collapsed": true
   },
   "outputs": [],
   "source": []
  }
 ],
 "metadata": {
  "kernelspec": {
   "display_name": "Python 3",
   "language": "python",
   "name": "python3"
  },
  "language_info": {
   "codemirror_mode": {
    "name": "ipython",
    "version": 3
   },
   "file_extension": ".py",
   "mimetype": "text/x-python",
   "name": "python",
   "nbconvert_exporter": "python",
   "pygments_lexer": "ipython3",
   "version": "3.6.3"
  }
 },
 "nbformat": 4,
 "nbformat_minor": 2
}
