{
 "cells": [
  {
   "cell_type": "markdown",
   "metadata": {
    "slideshow": {
     "slide_type": "skip"
    }
   },
   "source": [
    "jupyter nbconvert 10-2018-brl1906-presentation.ipynb --to slides --post serve\n"
   ]
  },
  {
   "cell_type": "code",
   "execution_count": 1,
   "metadata": {
    "collapsed": true,
    "slideshow": {
     "slide_type": "skip"
    }
   },
   "outputs": [],
   "source": [
    "import numpy as np \n",
    "import pandas as pd\n",
    "import time\n",
    "\n",
    "# for pdf manipulation\n",
    "import camelot \n",
    "import ocrmypdf\n",
    "import PyPDF2\n",
    "import pdf2image\n",
    "import pytesseract\n",
    "import tabula\n",
    "import textract\n",
    "\n",
    "from datetime import datetime\n",
    "from IPython.display import IFrame, HTML, display"
   ]
  },
  {
   "cell_type": "markdown",
   "metadata": {
    "slideshow": {
     "slide_type": "slide"
    }
   },
   "source": [
    "# <font color=orange>PYTHON FOR THE GOVERNMENT WORKER</font>\n",
    "\n",
    "\n",
    "## <font color=darkblue>superheroes in public service: flying away with pdf data</font>\n"
   ]
  },
  {
   "cell_type": "code",
   "execution_count": 2,
   "metadata": {
    "collapsed": true,
    "slideshow": {
     "slide_type": "skip"
    }
   },
   "outputs": [],
   "source": [
    "def target_audience():\n",
    "    display(HTML(\"<table><tr><td><img src='images/venn-diagram-audience.png'></td></tr></table>\"))"
   ]
  },
  {
   "cell_type": "markdown",
   "metadata": {
    "slideshow": {
     "slide_type": "slide"
    }
   },
   "source": [
    "![](images/venn-diagram-audience.png)"
   ]
  },
  {
   "cell_type": "code",
   "execution_count": 3,
   "metadata": {
    "slideshow": {
     "slide_type": "skip"
    }
   },
   "outputs": [
    {
     "data": {
      "text/html": [
       "<table><tr><td><img src='images/venn-diagram-audience.png'></td></tr></table>"
      ],
      "text/plain": [
       "<IPython.core.display.HTML object>"
      ]
     },
     "metadata": {},
     "output_type": "display_data"
    }
   ],
   "source": [
    "target_audience()"
   ]
  },
  {
   "cell_type": "markdown",
   "metadata": {
    "slideshow": {
     "slide_type": "slide"
    }
   },
   "source": [
    "## Unlocking PDF Data for Public Management, Analysis, Prioritization\n"
   ]
  },
  {
   "cell_type": "markdown",
   "metadata": {
    "slideshow": {
     "slide_type": "slide"
    }
   },
   "source": [
    "1. inspector general prioritization, \n",
    "2. change order frequency or distribution or standard deviation on amounts, \n",
    "3. digitizing non PII data for your agency to free up leased space occupied by boxes, \n",
    "4. unlocking process related data trapped in pdfs to incorporate into some open data process for your agency "
   ]
  },
  {
   "cell_type": "code",
   "execution_count": 4,
   "metadata": {
    "collapsed": true,
    "slideshow": {
     "slide_type": "skip"
    }
   },
   "outputs": [],
   "source": [
    "def target_pdf_data():\n",
    "    display(HTML(\"<table><tr><td><img src='images/lock-image.png'></td></tr></table>\"))\n",
    "    for data_type in ['document descriptive data', 'high level metadata',\n",
    "                     'document structure', 'tabular data', 'images','text']:\n",
    "        print(data_type)"
   ]
  },
  {
   "cell_type": "code",
   "execution_count": 48,
   "metadata": {
    "slideshow": {
     "slide_type": "slide"
    }
   },
   "outputs": [
    {
     "data": {
      "text/html": [
       "<table><tr><td><img src='images/lock-image.png'></td></tr></table>"
      ],
      "text/plain": [
       "<IPython.core.display.HTML object>"
      ]
     },
     "metadata": {},
     "output_type": "display_data"
    },
    {
     "name": "stdout",
     "output_type": "stream",
     "text": [
      "document descriptive data\n",
      "high level metadata\n",
      "document structure\n",
      "tabular data\n",
      "images\n",
      "text\n"
     ]
    }
   ],
   "source": [
    "target_pdf_data()"
   ]
  },
  {
   "cell_type": "markdown",
   "metadata": {
    "slideshow": {
     "slide_type": "slide"
    }
   },
   "source": [
    "# <font color=purple>How do I get this information on page 4 of this 72 page pdf document in Excel?</font>\n"
   ]
  },
  {
   "cell_type": "code",
   "execution_count": 8,
   "metadata": {
    "collapsed": true,
    "slideshow": {
     "slide_type": "skip"
    }
   },
   "outputs": [],
   "source": [
    "def original_question():\n",
    "    questions = ['Only once?', 'Paid service license?','Free service data ether?',\n",
    "                'Scanned vs. Searchable?', 'Text vs. Tabular?', \n",
    "                'Target data or data type dependent on a feature of the PDF?',\n",
    "                'Are there tools to handle this efficiently in Python?',\n",
    "                'How does performance of the tool correspond to problem scale & use case?']\n",
    "\n",
    "    for i, Q in enumerate(questions):\n",
    "        print('{}. {}'.format(i+1, Q))"
   ]
  },
  {
   "cell_type": "code",
   "execution_count": 9,
   "metadata": {
    "slideshow": {
     "slide_type": "slide"
    }
   },
   "outputs": [
    {
     "name": "stdout",
     "output_type": "stream",
     "text": [
      "1. Only once?\n",
      "2. Paid service license?\n",
      "3. Free service data ether?\n",
      "4. Scanned vs. Searchable?\n",
      "5. Text vs. Tabular?\n",
      "6. Target data or data type dependent on a feature of the PDF?\n",
      "7. Are there tools to handle this efficiently in Python?\n",
      "8. How does performance of the tool correspond to problem scale & use case?\n"
     ]
    }
   ],
   "source": [
    "original_question()"
   ]
  },
  {
   "cell_type": "markdown",
   "metadata": {
    "slideshow": {
     "slide_type": "slide"
    }
   },
   "source": [
    "# <font color=black>7 libraries</font>\n",
    "# <font color=orange>Opportunities</font> & <font color=green>Limitations</font> \n",
    "# <font color=black>What Could An Effective Workflow Look Like Analyzing PDF Data?"
   ]
  },
  {
   "cell_type": "code",
   "execution_count": 12,
   "metadata": {
    "collapsed": true,
    "slideshow": {
     "slide_type": "skip"
    }
   },
   "outputs": [],
   "source": [
    "def public_pdfs():\n",
    "    display(HTML(\"<table><tr><td><img src='images/camelot-example-no-table-detection.png' width=900, hieght=700></td><td><img src='data/img_data/active-license-10-18-2018.png' width=1200, hieght=1200></td></tr></table>\"))\n",
    "    display(HTML(\"<table><tr><td><img src='data/img_data/page4-10-20-2018-pdf2image.png' width=1100, hieght=1100></td><td><img src='images/epa-first-page.png'><td><img src='images/rotated-table.png'></td></tr></table>\"))\n"
   ]
  },
  {
   "cell_type": "code",
   "execution_count": 13,
   "metadata": {
    "scrolled": true,
    "slideshow": {
     "slide_type": "slide"
    }
   },
   "outputs": [
    {
     "data": {
      "text/html": [
       "<table><tr><td><img src='images/camelot-example-no-table-detection.png' width=900, hieght=700></td><td><img src='data/img_data/active-license-10-18-2018.png' width=1200, hieght=1200></td></tr></table>"
      ],
      "text/plain": [
       "<IPython.core.display.HTML object>"
      ]
     },
     "metadata": {},
     "output_type": "display_data"
    },
    {
     "data": {
      "text/html": [
       "<table><tr><td><img src='data/img_data/page4-10-20-2018-pdf2image.png' width=1100, hieght=1100></td><td><img src='images/epa-first-page.png'><td><img src='images/rotated-table.png'></td></tr></table>"
      ],
      "text/plain": [
       "<IPython.core.display.HTML object>"
      ]
     },
     "metadata": {},
     "output_type": "display_data"
    }
   ],
   "source": [
    "public_pdfs()"
   ]
  },
  {
   "cell_type": "markdown",
   "metadata": {
    "slideshow": {
     "slide_type": "slide"
    }
   },
   "source": [
    "## document files + libraries"
   ]
  },
  {
   "cell_type": "code",
   "execution_count": 15,
   "metadata": {
    "collapsed": true,
    "slideshow": {
     "slide_type": "slide"
    }
   },
   "outputs": [],
   "source": [
    "################################ pdfs that are searchable documents -- the good \n",
    "searchable_pdf_amort_file = 'data/pdf_data/exhibita-10-20-2018.pdf'\n",
    "searchable_pdf_amort_page4_file =  'page4-10-15-2018.pdf'\n",
    "searchable_pdf_rotated_file = 'data/pdf_data/camelot-twisted.pdf'\n",
    "searchable_pdf_license_file = 'data/pdf_data/active_licenses.pdf'\n",
    "searchable_pdf_fuel_file = 'data/pdf_data/camelot-example.pdf'\n",
    "\n",
    "################### scanned pdf documents with no acessible elements -- the bad\n",
    "file = 'data/pdf_data/Final Exhibit A to Equipment Lease #29.pdf'\n",
    "scanned_pdf_amort_file = 'data/pdf_data/Final Exhibit A to Equipment Lease #29.pdf'\n",
    "scanned_pdf_epa_file = 'data/pdf_data/epa-letter.pdf'\n",
    "\n",
    "######################################################### image files -- the ugly\n",
    "png_amort_page4_image_file = 'data/img_data/page4-10-17-2018-pdf2image.png'\n",
    "png_license_page2_image_file = 'data/img_data/active-license-page2-10-18-2018.png'\n",
    "png_epa_image_file = 'data/img_data/epa-letter.png' "
   ]
  },
  {
   "cell_type": "code",
   "execution_count": 16,
   "metadata": {
    "collapsed": true,
    "slideshow": {
     "slide_type": "slide"
    }
   },
   "outputs": [],
   "source": [
    "# for pdf data manipulation\n",
    "import textract\n",
    "import PyPDF2\n",
    "import pdf2image\n",
    "import ocrmypdf\n",
    "import pytesseract\n",
    "import camelot \n",
    "import tabula"
   ]
  },
  {
   "cell_type": "markdown",
   "metadata": {
    "slideshow": {
     "slide_type": "slide"
    }
   },
   "source": [
    "# <font color=purple>working with textract</font>"
   ]
  },
  {
   "cell_type": "markdown",
   "metadata": {
    "slideshow": {
     "slide_type": "slide"
    }
   },
   "source": [
    "### <font color=green>summary</font>\n",
    "1. the [documentation](https://textract.readthedocs.io/en/stable/)\n",
    "2. Appears optimized for raw text and ocr process not table dectection or document feature inspection. \n",
    "3. Describes its value proposition as bringing together abilities under a single package for extracting text or 'dark data' from any file type: \n",
    "\n",
    "\n",
    "[.csv, .doc, .docx, .gif, .jpg, .jpeg, .html, .pdf, .txt, .xlsx, .wav] etc..."
   ]
  },
  {
   "cell_type": "markdown",
   "metadata": {
    "slideshow": {
     "slide_type": "skip"
    }
   },
   "source": [
    "**textract handles searchable pdfs**"
   ]
  },
  {
   "cell_type": "code",
   "execution_count": 51,
   "metadata": {
    "slideshow": {
     "slide_type": "skip"
    }
   },
   "outputs": [
    {
     "data": {
      "text/plain": [
       "b'6453\\n\\n5844\\n\\n5161\\n\\n4403\\n\\nKarnataka\\n\\nAndhra Pradesh\\n\\nMaharashtra\\n\\nGujarat\\n\\nNNMB\\n\\n* Data not available\\n\\n38742\\n\\n*\\n\\nUttar Pradesh\\n\\nPooled\\n\\n*\\n\\n3756\\n\\nWest Bengal\\n\\nOrissa\\n\\n*\\n\\n7387\\n\\nTamil Nadu\\n\\nMadhya Pradesh\\n\\n5738\\n\\n1975-79\\n\\nKerala\\n\\nState\\n\\n53618\\n\\n*\\n\\n*\\n\\n5540\\n\\n*\\n\\n5374\\n\\n7796\\n\\n9920\\n\\n8138\\n\\n10217\\n\\n6633\\n\\n1988-90\\n\\n60601\\n\\n*\\n\\n*\\n\\n12024\\n\\n*\\n\\n4866\\n\\n6883\\n\\n9545\\n\\n12606\\n\\n5813\\n\\n8864\\n\\n1996-97\\n\\n(No. of individuals)\\n\\n86898\\n\\n9860\\n\\n8047\\n\\n8473\\n\\n7942\\n\\n9645\\n\\n9525\\n\\n8300\\n\\n8958\\n\\n7851\\n\\n8297\\n\\n2011-12\\n\\nNutritional Assessment\\n\\n72\\n\\n4459\\n\\n581\\n\\n423\\n\\n398\\n\\n470\\n\\n477\\n\\n467\\n\\n557\\n\\n428\\n\\n413\\n\\n245\\n\\nIYCF Practices\\n(No. of mothers:\\n2011-12)\\n\\n21918\\n\\n2139\\n\\n2058\\n\\n2040\\n\\n1965\\n\\n2687\\n\\n2368\\n\\n1899\\n\\n2467\\n\\n2134\\n\\n2161\\n\\nMen\\n\\n14312\\n\\n1185\\n\\n1413\\n\\n1093\\n\\n1579\\n\\n2122\\n\\n1417\\n\\n1111\\n\\n1628\\n\\n1119\\n\\n1645\\n\\nMen\\n\\n18519\\n\\n1366\\n\\n2027\\n\\n1628\\n\\n1709\\n\\n2503\\n\\n1599\\n\\n1529\\n\\n2028\\n\\n1739\\n\\n2391\\n\\nWomen\\n\\nFasting Blood Sugar\\n(No. of adults:\\n2011-12)\\n\\nRural-Third Repeat Survey 2011-12\\n\\n27041\\n\\n2415\\n\\n2743\\n\\n2624\\n\\n2150\\n\\n3021\\n\\n2648\\n\\n2493\\n\\n2894\\n\\n2858\\n\\n3195\\n\\nWomen\\n\\nBlood Pressure\\n(No. of adults:\\n2011-12)\\n\\nTable 1 : STATE WISE COVERAGE PARTICULARS BY PERIOD OF SURVEY (Contd...)\\n\\n\\x0c'"
      ]
     },
     "execution_count": 51,
     "metadata": {},
     "output_type": "execute_result"
    }
   ],
   "source": [
    "textract.process(searchable_pdf_rotated_file)"
   ]
  },
  {
   "cell_type": "code",
   "execution_count": 52,
   "metadata": {
    "slideshow": {
     "slide_type": "skip"
    }
   },
   "outputs": [
    {
     "data": {
      "text/plain": [
       "b'Zi-LLOg Aening yeedey pulyL-lesny\\n\\nek\\n\\n@WNN\\n\\nejqe|rene jou eyeq ,\\n\\n \\n\\n \\n\\n \\n\\n \\n\\n \\n\\n \\n\\n \\n\\n \\n\\n \\n\\n \\n\\n \\n\\n \\n\\n \\n\\n \\n\\n \\n\\n \\n\\n \\n\\n \\n\\n \\n\\n \\n\\n6LS8h zlevh byoze | s16lz 6Sbb 86898 tog09 | gi9es | zrzee pajood\\n9961 S8Lt SLv2 6E12 18s 0986 * * * ysepeld Jenn\\n2202 lvl erle gsoz ety 208 * * * jeBueg Isom\\n8z91 \\xc2\\xa3601 veoe ovoz 86e eve veoz | orss | gsve essuO\\n60L1 6ZS1 ogiz S961 OLb 2r6L * * * ysepeid eAypeyy\\ne0sz zzz 1z0e 89% LLy Sr96 goer | ples | Ory yere{ng\\n6651 Zivk svoz g9ez L9\\xc2\\xa2 gzs6 e889 | 9622 lols eqqysereyey\\\\\\n6zS1 LELE e6rz 6681 zgs ooee sps6 | 0266 | pr8S | Ysepeld B1YpUY\\n8z0z 8z91 vesz Lave Ser 868 goozt | gelg | esr9 eyeyewey\\n6EL1 6LLL ggez vel2 ely 1S8Z eles | Zbzol | zeez npeNn [we\\nL6ez P91 ele 1912 Srz 26z8 voss | eeg99 | sels eye10y\\n\\nUaLO AA ue uawom | uel (ei-ti0z zi-tioz | 26-9661 | 06-8861 | 62-SZ6L\\n\\n(2t-LL0z (21-LL0z :SJ9YJOW Jo ON) (syenp!alpul jo *ON) aes\\n:synpe 40 ON) HINpe JO \\xe2\\x80\\x98ON) seoioeld JOA\\n\\naeBns poojg Busey\\n\\n \\n\\n \\n\\nainssaid poo|g\\n\\n \\n\\n \\n\\njuawissassy JeuoN INN\\n\\n \\n\\n \\n\\n \\n\\nPIUOD) AAAUYNS 4O GOIYAd AG SHV INOILYVd JOVYAAOO JSIM ALVLS : Fade\\n\\n \\n\\x0c'"
      ]
     },
     "execution_count": 52,
     "metadata": {},
     "output_type": "execute_result"
    }
   ],
   "source": [
    "# tesseract method on textract doesn't auto handle rotated pages but pdftotext method does\n",
    "textract.process(searchable_pdf_rotated_file, extension='pdf', method='tesseract')"
   ]
  },
  {
   "cell_type": "code",
   "execution_count": 53,
   "metadata": {
    "slideshow": {
     "slide_type": "skip"
    }
   },
   "outputs": [
    {
     "data": {
      "text/plain": [
       "b'6453\\n\\n5844\\n\\n5161\\n\\n4403\\n\\nKarnataka\\n\\nAndhra Pradesh\\n\\nMaharashtra\\n\\nGujarat\\n\\nNNMB\\n\\n* Data not available\\n\\n38742\\n\\n*\\n\\nUttar Pradesh\\n\\nPooled\\n\\n*\\n\\n3756\\n\\nWest Bengal\\n\\nOrissa\\n\\n*\\n\\n7387\\n\\nTamil Nadu\\n\\nMadhya Pradesh\\n\\n5738\\n\\n1975-79\\n\\nKerala\\n\\nState\\n\\n53618\\n\\n*\\n\\n*\\n\\n5540\\n\\n*\\n\\n5374\\n\\n7796\\n\\n9920\\n\\n8138\\n\\n10217\\n\\n6633\\n\\n1988-90\\n\\n60601\\n\\n*\\n\\n*\\n\\n12024\\n\\n*\\n\\n4866\\n\\n6883\\n\\n9545\\n\\n12606\\n\\n5813\\n\\n8864\\n\\n1996-97\\n\\n(No. of individuals)\\n\\n86898\\n\\n9860\\n\\n8047\\n\\n8473\\n\\n7942\\n\\n9645\\n\\n9525\\n\\n8300\\n\\n8958\\n\\n7851\\n\\n8297\\n\\n2011-12\\n\\nNutritional Assessment\\n\\n72\\n\\n4459\\n\\n581\\n\\n423\\n\\n398\\n\\n470\\n\\n477\\n\\n467\\n\\n557\\n\\n428\\n\\n413\\n\\n245\\n\\nIYCF Practices\\n(No. of mothers:\\n2011-12)\\n\\n21918\\n\\n2139\\n\\n2058\\n\\n2040\\n\\n1965\\n\\n2687\\n\\n2368\\n\\n1899\\n\\n2467\\n\\n2134\\n\\n2161\\n\\nMen\\n\\n14312\\n\\n1185\\n\\n1413\\n\\n1093\\n\\n1579\\n\\n2122\\n\\n1417\\n\\n1111\\n\\n1628\\n\\n1119\\n\\n1645\\n\\nMen\\n\\n18519\\n\\n1366\\n\\n2027\\n\\n1628\\n\\n1709\\n\\n2503\\n\\n1599\\n\\n1529\\n\\n2028\\n\\n1739\\n\\n2391\\n\\nWomen\\n\\nFasting Blood Sugar\\n(No. of adults:\\n2011-12)\\n\\nRural-Third Repeat Survey 2011-12\\n\\n27041\\n\\n2415\\n\\n2743\\n\\n2624\\n\\n2150\\n\\n3021\\n\\n2648\\n\\n2493\\n\\n2894\\n\\n2858\\n\\n3195\\n\\nWomen\\n\\nBlood Pressure\\n(No. of adults:\\n2011-12)\\n\\nTable 1 : STATE WISE COVERAGE PARTICULARS BY PERIOD OF SURVEY (Contd...)\\n\\n\\x0c'"
      ]
     },
     "execution_count": 53,
     "metadata": {},
     "output_type": "execute_result"
    }
   ],
   "source": [
    "textract.process(searchable_pdf_rotated_file, extension='pdf', method='pdftotext' )"
   ]
  },
  {
   "cell_type": "code",
   "execution_count": 54,
   "metadata": {
    "slideshow": {
     "slide_type": "slide"
    }
   },
   "outputs": [
    {
     "data": {
      "text/plain": [
       "\"ALPHABETIC LISTING BY TYPE\\nOF ACTIVE LICENSES\\nOKLAHOMA ABLE COMMISSION\\n\\nFEBRUARY 2014 M27 (BUS)\\n\\nLICENSE\\nNUMBER TYPE DBA NAME\\n648765 AAA ALLEGIANT AIR\\n\\nLICENSEE NAME\\nALLEGIANT AIR LLC\\n\\n648766 AAA\\n82030 AAA\\n\\nALLEGIANT AIR\\nAMERICAN AIRLINES\\n\\nALLEGIANT AIR LLC\\nAMERICAN AIRLINES INC\\n\\n509462 AAA\\n\\nAMERICAN AIRLINES\\n\\n509609 AAA\\n\\nAMERICAN EAGLE\\n\\n402986 AAA\\n\\nAMERICAN EAGLE\\n\\nAMERICAN AIRLINES INC\\nAMERICAN EAGLE\\nAIRLINES INC\\nAMERICAN EAGLE\\nAIRLINES INC\\n\\n79145 AAA\\n600941 AAA\\n\\nDELTA AIR LINES\\nENDEAVOR AIR\\n\\n478482 AAA\\n505981 AAA\\n\\nEXPRESSJET AIRLINES\\nSKYWEST AIRLINES\\n\\n429754 AAA\\n\\nSOUTHWEST AIRLINES\\nTULSA INTERNATIONAL\\nAIRPORT\\n\\n429755 AAA\\n\\nUNITED AIRLINES\\nUNITED AIRLINES\\nA SENSU JAPANESE\\n625422 BAW RESTAURANT\\nADAMO'S ROUTE 66\\n464828 BAW ITALIAN VILLA\\n415051 AAA\\n106719 AAA\\n\\n184066 BAW AJANTA\\n547693 BAW AMERICINN OF SAYRE\\nANDOLINI'S PIZZERIA &\\n428377 BAW ITALIAN RESTAURANT\\nASAHI JAPANESE\\n446957 BAW RESTAURANT\\n632501 BAW BACK DOOR BARBECUE\\n598515 BAW BAMBOO THAI BISTRO\\nBANDANA RED'S\\n618693 BAW STEAKHOUSE\\n632575 BAW BASHU LEGENDS\\n543149 BAW BEDLAM BAR-B-Q\\n\\nPREMISE\\nADDRESS\\n7100 TERMINAL DRIVE\\n7777 EAST APACHE\\nSTREET\\n7100 TERMINAL DRIVE\\n\\nABLPDM27\\n3/19/2014\\n\\nCITY\\nOKLAHOMA CITY\\n\\nST\\nOK\\n\\nZIP\\nPHONE NUMBER EXPIRES\\n73159\\n- 2014/12/03\\n\\nTULSA\\nOKLAHOMA CITY\\n\\nOK\\nOK\\n\\n74115\\n73159\\n\\n- 2014/12/16\\n(405) 680-3701 2014/09/14\\n\\n7777 EAST APACHE DRIVE TULSA\\n\\nOK\\n\\n74115\\n\\n(918) 831-6302 2014/08/19\\n\\n7100 TERMINAL DRIVE\\n\\nOKLAHOMA CITY\\n\\nOK\\n\\n73159\\n\\n(405) 680-3701 2014/08/19\\n\\nTULSA\\n\\nOK\\n\\n74115\\n\\n(859) 767-3747 2014/10/22\\n\\n7777 EAST APACHE DRIVE\\nWILL ROGERS AIRPORT\\nDELTA AIR LINES INC\\nBOX 59975\\nENDEAVOR AIR INC\\n7100 TERMINAL DRIVE\\n7100 TERMINAL DRIVE\\nEXPRESSJET AIRLINES INC WILL ROGERS AIRPORT\\nSKYWEST INC\\n7100 TERMINAL DRIVE\\n\\nOKLAHOMA CITY\\nOKLAHOMA CITY\\n\\nOK\\nOK\\n\\n73159\\n73159\\n\\n(404) 773-9745 2014/05/11\\n(901) 348-4100 2015/03/26\\n\\nOKLAHOMA CITY\\nOKLAHOMA CITY\\n\\nOK\\nOK\\n\\n73159\\n73159\\n\\n(832) 353-1201 2014/05/08\\n(405) 634-3000 2014/05/28\\n\\nSOUTHWEST AIRLINES CO 7100 TERMINAL DRIVE\\n\\nOKLAHOMA CITY\\n\\nOK\\n\\n73159\\n\\n(405) 682-4183 2015/02/15\\n\\nSOUTHWEST AIRLINES CO 7777 EAST APACHE DRIVE TULSA\\n\\nOK\\n\\n74115\\n\\n(918) 834-4495 2015/02/16\\n\\nUNITED AIRLINES INC\\nUNITED AIRLINES INC\\n\\nTULSA\\nOKLAHOMA CITY\\n\\nOK\\nOK\\n\\n74115\\n73159\\n\\n(872) 825-8309 2014/05/12\\n(872) 825-8309 2014/04/11\\n\\nTULSA\\n\\nOK\\n\\n74133\\n\\n(918) 252-0333 2015/02/14\\n\\nCLINTON\\n\\nOK\\n\\n73601\\n\\n(580) 323-5900 2015/02/11\\n\\nOKLAHOMA CITY\\n\\nOK\\n\\n73120\\n\\n(405) 752-5283 2014/07/27\\n\\nINFORMAL PARTNERSHIP\\nTADJ INC\\nCABAB N' CURRY INC\\nSAYRE LODGING\\nENTERPRISES LLC\\n\\n7777 EAST APACHE DRIVE\\nWILL ROGERS AIRPORT\\n7123 SOUTH 92ND EAST\\nAVENUE SUITE J\\n2132 WEST GARY\\nBOULEVARD\\n12215 NORTH\\nPENNSYLVANIA\\n2405 SOUTH EL CAMINO\\n12140 EAST 96TH STREET\\nNORTH #106\\n\\nSAYRE\\n\\nOK\\n\\n73662\\n\\n(580) 928-2700 2014/09/08\\n\\nOWASSO\\n\\nOK\\n\\n74055\\n\\n(918) 272-9325 2015/02/10\\n\\n7831 EAST 71ST STREET\\n\\nTULSA\\n\\nOK\\n\\n74133\\n\\n(918) 307-9151 2014/12/22\\n\\n315 NORTHWEST 23RD\\n\\nOKLAHOMA CITY\\n\\nOK\\n\\n73103\\n\\n- 2014/08/01\\n\\nBAMBOO THAI BISTRO INC 5079 SOUTH YALE AVENUE TULSA\\n\\nOK\\n\\n74135\\n\\n(918) 828-0740 2015/03/11\\n\\nBRADSHAW, STEVE_LEN\\n\\nANDOLINI'S LLC\\nJIN CORPORATION\\nSMOKEHOUSE\\nASSOCIATES INC\\n\\nHYH HE CHUANG LLC\\nDEEP FORK HOLDINGS\\nLLC\\n\\n37808 OLD HIGHWAY 270\\n1522 WEST LINDSEY\\nSTREET\\n\\nSHAWNEE\\n\\nOK\\n\\n74804\\n\\n- 2014/08/20\\n\\nNORMAN\\n\\nOK\\n\\n73069\\n\\n- 2014/07/21\\n\\n610 NORTHEAST 50TH\\n\\nOKLAHOMA CITY\\n\\nOK\\n\\n73105\\n\\n(405) 528-7427 2015/02/23\\n\\nPage 1 of 151\\n\\n\\x0cALPHABETIC LISTING BY TYPE\\nOF ACTIVE LICENSES\\nOKLAHOMA ABLE COMMISSION\\n\\nFEBRUARY 2014 M27 (BUS)\\n\\nLICENSE\\nNUMBER TYPE DBA NAME\\n632426 BAW\\n641387 BAW\\n238892 BAW\\n288037 BAW\\n373340 BAW\\n443590 BAW\\n406487 BAW\\n487016 BAW\\n617276 BAW\\n603771 BAW\\n603772 BAW\\n603773 BAW\\n603770 BAW\\n643433 BAW\\n561218 BAW\\n635527 BAW\\n623823 BAW\\n633246 BAW\\n549471 BAW\\n614377 BAW\\n632300 BAW\\n507875 BAW\\n604941 BAW\\n\\nPREMISE\\nADDRESS\\nCITY\\n1831 NORTHWEST CACHE\\nBELLAROMA LLC\\nBELLAROMA LLC\\nROAD\\nLAWTON\\nBLUE BELLE\\n224 WEST HARRISON\\nBLUE BELLE SALOON\\nENTERTAINMENT LLC\\nAVENUE\\nGUTHRIE\\n6231 EAST 61ST STREET\\nBOSTON DELI & GRILL\\nBOSTON DELI & GRILL INC SOUTH\\nTULSA\\n9620 & 9622 NORTH MAY\\nAVENUE\\nCAFFE PRANZO\\nMAZEL TOV INC\\nVILLAGE\\n2170 SOUTH GARNETT\\nCASA SAN MARCOS\\nMORA ENTERPRISES INC ROAD\\nTULSA\\nCEDAR ROCK INN\\nCEDAR ROCK INN LLC\\n4347 WEST 41ST STREET TULSA\\n2727 WEST MEMORIAL\\nCHEFS DI DOMANI\\nENGARD INC\\nROAD\\nOKLAHOMA CITY\\n8703 NORTH OWASSO\\nCLASSIC CIGAR LOUNGE INFORMAL PARTNERSHIP EXPRESSWAY #O\\nOWASSO\\n401 NORTH BROADWAY\\nCOFFEE CUP\\nCOFFEE CUP LLC\\nSTREET\\nPOTEAU\\nCOOLGREENS BEER AND\\nCOOLGREENS\\nWINE LLC\\n14201 NORTH MAY AVENUE OKLAHOMA CITY\\nCOOLGREENS BEER AND\\nCOOLGREENS\\nWINE LLC\\n1189 EAST 15TH SUITE 156 EDMOND\\nCOOLGREENS BEER AND 204 NORTH ROBINSON\\nCOOLGREENS\\nWINE LLC\\nSUITE 150\\nOKLAHOMA CITY\\nCOOLGREENS BEER AND\\nCOOLGREENS\\nWINE LLC\\n3700 WEST ROBINSON\\nNORMAN\\n387 SOUTH COMMERCIAL\\nCOW CREEK CAFE\\nOEME LLC\\nSTREET\\nWELCH\\nDAVINCI'S ITALIAN\\nNAPOLI'S OF STILLWATER 2280 NORTH PERKINS\\nRESTAURANT\\nINC\\nROAD\\nSTILLWATER\\nDIARTI ITALIAN CAFE\\nDIARTI ITALIAN CAFE LLC 2808 8TH STREET\\nWOODWARD\\nDOMENICA ITALIA\\n2033 NORTH KICKAPOO\\nKITCHEN\\nMARINI, DOMENICA\\nAVENUE\\nSHAWNEE\\nELEMENTS ART GALLERY\\nELEMENTS ART GALLERY LLC\\n125 WEST MAIN STREET\\nDURANT\\nFAT GUY'S BURGER\\n140 NORTH GREENWOOD\\nJOINT\\nALSOKC LLC\\nAVENUE\\nTULSA\\nFAT GUY'S BURGER\\n7945 SOUTH MEMORIAL\\nJOINT\\nALSOKC LLC\\nDRIVE\\nTULSA\\nFONTANA ITALIAN\\n854 NORTHWEST 12TH\\nRESTAURANT\\nULAJ, GEZIM\\nSTREET\\nMOORE\\n1945 NORTH KICKAPOO\\nFRATELI'S\\nFRATLI'S INC\\nAVENUE\\nSHAWNEE\\n1010 LONNIE ABBOTT\\nFRESCOS MEXICAN GRILL 19 INC\\nBOULEVARD\\nADA\\nLICENSEE NAME\\n\\nPage 2 of 151\\n\\nABLPDM27\\n3/19/2014\\n\\nST\\n\\nZIP\\n\\nOK\\n\\n73507\\n\\n- 2014/05/16\\n\\nOK\\n\\n73044\\n\\n- 2014/08/27\\n\\nOK\\n\\n74136\\n\\n(918) 492-4745 2014/05/08\\n\\nOK\\n\\n73120\\n\\n(405) 755-3577 2015/03/02\\n\\nOK\\nOK\\n\\n74129\\n74107\\n\\n(918) 437-1718 2014/07/23\\n(918) 447-4493 2014/11/06\\n\\nOK\\n\\n73134\\n\\n(405) 749-2433 2015/01/26\\n\\nOK\\n\\n74055\\n\\n(918) 274-8191 2015/02/10\\n\\nOK\\n\\n74953\\n\\n(918) 647-2622 2014/10/25\\n\\nOK\\n\\n73134\\n\\n(405) 286-9304 2014/07/02\\n\\nOK\\n\\n73013\\n\\n(405) 562-1022 2014/07/02\\n\\nOK\\n\\n73102\\n\\n(405) 600-6444 2014/06/25\\n\\nOK\\n\\n73072\\n\\n(405) 701-5000 2014/06/18\\n\\nOK\\n\\n74369\\n\\n(918) 788-3683 2015/02/23\\n\\nOK\\nOK\\n\\n74075\\n73801\\n\\n(405) 372-0300 2014/10/20\\n- 2014/07/18\\n\\nOK\\n\\n74804\\n\\n- 2014/06/10\\n\\nOK\\n\\n74701\\n\\n- 2014/06/05\\n\\nOK\\n\\n74120\\n\\n(918) 794-7782 2015/04/01\\n\\nOK\\n\\n74133\\n\\n(918) 893-2232 2014/09/19\\n\\nOK\\n\\n73160\\n\\n(405) 703-0911 2014/05/07\\n\\nOK\\n\\n74804\\n\\n(405) 275-6103 2014/08/28\\n\\nOK\\n\\n74820\\n\\n(580) 332-2959 2014/07/15\\n\\nPHONE NUMBER EXPIRES\\n\\n\\x0c\""
      ]
     },
     "execution_count": 54,
     "metadata": {},
     "output_type": "execute_result"
    }
   ],
   "source": [
    "# parse multipage searchable pdf\n",
    "textract.process(searchable_pdf_license_file).decode()"
   ]
  },
  {
   "cell_type": "code",
   "execution_count": 55,
   "metadata": {
    "scrolled": true,
    "slideshow": {
     "slide_type": "skip"
    }
   },
   "outputs": [
    {
     "name": "stdout",
     "output_type": "stream",
     "text": [
      "10-11-2018-brl1906-exploring-pdf-data-scrapers.ipynb\r\n",
      "10-13-2018-brl1906-virtualenv-information.ipynb\r\n",
      "10-15-2018-brl1906-working-with-camelot.ipynb\r\n",
      "10-16-2018-brl1906-working-with-pytesseract.ipynb\r\n",
      "10-16-2018-brl1906-working-with-tabula-py-Copy1.ipynb\r\n",
      "10-16-2018-brl1906-working-with-tabula-py.ipynb\r\n",
      "10-17-2018-brl1906-working-with-pdf2image.ipynb\r\n",
      "10-18-2018-brl1906-working-with-textract.ipynb\r\n",
      "10-2018-brl1906-presentation.ipynb\r\n",
      "10-2018-brl1906-presentation.slides.html\r\n",
      "\u001b[34mdata\u001b[m\u001b[m\r\n",
      "\u001b[34mimages\u001b[m\u001b[m\r\n",
      "outline-talk-thoughts.pptx\r\n",
      "page4-10-14-2018.pdf\r\n",
      "page4-10-15-2018.pdf\r\n",
      "page4-10-19-2018.pdf\r\n",
      "page4-10-20-2018.pdf\r\n",
      "page4-10-21-2018.pdf\r\n",
      "page4-10-22-2018.pdf\r\n",
      "page4-10-23-2018.pdf\r\n",
      "readme.md\r\n",
      "requirements.txt\r\n",
      "\u001b[34mvenv_final\u001b[m\u001b[m\r\n",
      "~$outline-talk-thoughts.pptx\r\n"
     ]
    }
   ],
   "source": [
    "!ls "
   ]
  },
  {
   "cell_type": "markdown",
   "metadata": {
    "slideshow": {
     "slide_type": "slide"
    }
   },
   "source": [
    "**textract hanldes scanned documents & image files**"
   ]
  },
  {
   "cell_type": "code",
   "execution_count": 56,
   "metadata": {
    "slideshow": {
     "slide_type": "skip"
    }
   },
   "outputs": [
    {
     "data": {
      "text/plain": [
       "'AMORTIZATION SCHEDULE\\n\\nPayment Payment Payment Interest Principal Purchase\\nNo. Date Amount Component Component Price\\nLoan 11/9/2017\\n1 5/1/2018 1,100,264.54 273,262.18 827,002.36 18,606,566.47\\n2 11/1/2018  1,100,264.54 271,872.65 828,391.89 17,753,322.82\\n3 5/1/2019 = 1,100,264.54 259,405.35 840,859.19 16,887,237.86\\n4 11/1/2019 1,100,264.54 246,750.42 853,514.12 16,008,118.31\\n5 5/1/2020 = 1,100,264.54 233,905.03 866,359.51 15,115,768.02\\n6 11/1/2020 + 1,100,264.54 220,866.32 879,398.22 14,209,987.85\\n7 5/1/2021 1,100,264.54 207,631.38 892,633.16 13,290,575.70\\n8 11/1/2021 1,100,264.54 194,197.25 906,067.29 12,357,326.39\\n9 5/1/2022 1,100,264.54 180,560.93 919,703.61 11,410,031.67\\n10 11/1/2022 1,100,264.54 166,719.39 933,545.15 10,448,480.17\\n11 5/1/2023 1,100,264.54 152,669.54 947,595.00 9,472,457.32\\n12 11/1/2023 1,100,264.54 138,408.24 961,856.30 8,481,745.33\\n13 5/1/2024 1,100,264.54 123,932.30 976,332.24 7,476,123.12\\n14 11/1/2024 1,100,264.54 109,238.50 991,026.04 6,455,366.30\\n15 5/1/2025 1,100,264.54 94,323.56  1,005,940.98 5,419,247.09\\n16 11/1/2025 = 1,100,264.54 79,184.14 =1,021,080.40 4,367,534.28\\n17 5/1/2026 1,100,264.54 63,816.88  1,036,447.66 3,299,993.19\\n18 11/1/2026 1,100,264.54 48,218.35 1,052,046.19  2,216,385.61\\n19 5/1/2027 1,100,264.54 32,385.05  1,067,879.49 1,116,469.74\\n20 11/1/2027 _ 1,100,264.54 16,313.34 â\\x80\\x94_ 1,083,951.20 0.00\\nTotals 22,005,290.80 3,113,660.80 18,891,630.00\\n\\nUntil Lessee receives written notification to the contrary, all payments due under\\nthe Master Lease and this Schedule A No. 29, including but not limited to Rental\\nPayments, Additional Rents, indemnifications and other sums due and payable\\nunder the Lease are to be paid to and all notices are to be sent to the following\\nrespective addresses:\\n\\nNotices: Rental Payments:\\nGrant Capital Management, Inc. Capital One Public Funding, LLC\\n8894 Stanford Blvd Federal ID No.: 11-2209667\\nSuite 203 Bank: Capital One Bank\\nColumbia, MD 21045 Rtg 065000090\\nBeneficiary: JAMSAB Realty Corp./\\nCapital One Public Funding\\nAC # 3124063607\\n\\nRe: City of Baltimore Schedule A No.29\\n\\n(01047850; A-3\\n\\x0c'"
      ]
     },
     "execution_count": 56,
     "metadata": {},
     "output_type": "execute_result"
    }
   ],
   "source": [
    "textract.process(png_amort_page4_image_file, method='tesseract').decode()"
   ]
  },
  {
   "cell_type": "code",
   "execution_count": 57,
   "metadata": {
    "slideshow": {
     "slide_type": "skip"
    }
   },
   "outputs": [
    {
     "data": {
      "text/plain": [
       "'AMORTIZATION SCHEDULE\\nPayment\\n\\nPayment\\n\\nPayment\\n\\nInterest\\n\\nPrincipal\\n\\nPurchase\\n\\nNo.\\n\\nDate\\n\\nAmount\\n\\nComponent\\n\\nComponent\\n\\nPrice\\n\\nLoan\\n1\\n2\\n\\n11/9/2017\\n5/1/2018\\n11/1/2018\\n\\n1,100,264.54\\n1,100,264.54\\n\\n273,262.18\\n271,872.65\\n\\n827,002.36\\n828,391.89\\n\\n18,606,566.47\\n17,753,322.82\\n\\n3\\n4\\n5\\n\\n5/1/2019\\n11/1/2019\\n5/1/2020\\n\\n1,100,264.54\\n1,100,264.54\\n1,100,264.54\\n\\n259,405.35\\n246,750.42\\n233,905.03\\n\\n840,859.19\\n853,514.12\\n866,359.51\\n\\n16,887,237.86\\n16,008,118.31\\n15,115,768.02\\n\\n6\\n7\\n\\n11/1/2020\\n5/1/2021\\n\\n1,100,264.54\\n1,100,264.54\\n\\n220,866.32\\n207,631.38\\n\\n879,398.22\\n892,633.16\\n\\n14,209,987.85\\n13,290,575.70\\n\\n8\\n9\\n\\n11/1/2021\\n5/1/2022\\n\\n1,100,264.54\\n1,100,264.54\\n\\n194,197.25\\n180,560.93\\n\\n906,067.29\\n919,703.61\\n\\n12,357,326.39\\n11,410,031.67\\n\\n10\\n11\\n\\n11/1/2022\\n5/1/2023\\n\\n1,100,264.54\\n1,100,264.54\\n\\n166,719.39\\n152,669.54\\n\\n933,545.15\\n947,595.00\\n\\n10,448,480.17\\n9,472,457.32\\n\\n12\\n\\n11/1/2023\\n\\n1,100,264.54\\n\\n138,408.24\\n\\n961,856.30\\n\\n8,481,745.33\\n\\n13\\n14\\n\\n5/1/2024\\n11/1/2024\\n\\n1,100,264.54\\n1,100,264.54\\n\\n123,932.30\\n109,238.50\\n\\n976,332.24\\n991,026.04\\n\\n7,476,123.12\\n6,455,366.30\\n\\n15\\n16\\n\\n5/1/2025\\n11/1/2025\\n\\n1,100,264.54\\n1,100,264.54\\n\\n94,323.56\\n79,184.14\\n\\n1,005,940.98\\n1,021,080.40\\n\\n5,419,247.09\\n4,367,534.28\\n\\n17\\n18\\n\\n5/1/2026\\n11/1/2026\\n\\n1,100,264.54\\n1,100,264.54\\n\\n63,816.88\\n48,218.35\\n\\n1,036,447.66\\n1,052,046.19\\n\\n3,299,993.19\\n2,216,385.61\\n\\n19\\n20\\n\\n5/1/2027\\n11/1/2027\\n\\n1,100,264.54\\n1,100,264.54\\n\\n32,385.05\\n16,313.34\\n\\n1,067,879.49\\n1,083,951.20\\n\\n1,116,469.74\\n0.00\\n\\n22,005,290.80\\n\\n3,113,660.80\\n\\n18,891,630.00\\n\\nTotals\\n\\n6.\\n\\nUntil Lessee receives written notiﬁcation to the contrary, all payments due under\\nthe Master Lease and this Schedule A No. 29, including but not limited to Rental\\nPayments, Additional Rents, indemniﬁcations and other sums due and payable\\nunder the Lease are to be paid to and all notices are to be sent to the following\\nrespective addresses:\\nNotices:\\nGrant Capital Management, Inc.\\n8894 Stanford Blvd\\nSuite 203\\nColumbia, MD 21045\\n\\nWm\\n\\nCapital One Public Funding, LLC\\nFederal ID No.: 11-2209667\\nBank: Capital One Bank\\n\\nRtg 065000090\\n\\nBeneﬁciary: JAMSAB Realty Corp./\\nCapital One Public Funding\\n\\nAC # 3124063607\\nRe: City of Baltimore Schedule A No.29\\n[01047850)A-3\\n\\n\\x0c'"
      ]
     },
     "execution_count": 57,
     "metadata": {},
     "output_type": "execute_result"
    }
   ],
   "source": [
    "\n",
    "# using textract without parsing options on the table returns everything\n",
    "# a manual examination for unpacking would be required if working with table\n",
    "textract.process(searchable_pdf_amort_page4_file).decode()"
   ]
  },
  {
   "cell_type": "code",
   "execution_count": 58,
   "metadata": {
    "slideshow": {
     "slide_type": "slide"
    }
   },
   "outputs": [
    {
     "data": {
      "text/plain": [
       "'AMORTIZATION SCHEDULE\\n\\nPayment Payment Payment Interest Principal Purchase\\nNo. Date Amount Component Component Price\\nLoan 11/9/2017\\n1 5/1/2018 1,100,264.54 273,262.18 827,002.36 18,606,566.47\\n2 11/1/2018 —1,100,264.54 271,872.65 828,391.89 17,753,322.82\\n3 5/1/2019 1,100,264.54 259,405.35 840,859.19 16,887,237.86\\n4 11/1/2019 —1,100,264.54 246,750.42 853,514.12 16,008,118.31\\nS 5/1/2020 1,100,264.54 233,905.03 866,359.51 15,115,768.02\\n6 11/1/2020 1,100,264.54 220,866.32 879,398.22 14,209,987.85\\n7 5/1/2021 1,100,264.54 207,631.38 892,633.16 13,290,575.70\\n8 11/1/2021 1,100,264.54 194,197.25 906,067.29 12,357,326.39\\n9 5/1/2022 1,100,264.54 180,560.93 919,703.61 11,410,031.67\\n10 11/1/2022 1,100,264.54 166,719.39 933,545.15 10,448,480.17\\n11 5/1/2023 1,100,264.54 152,669.54 947,595.00 9,472,457.32\\n12 11/1/2023 1,100,264.54 138,408.24 961,856.30 8,481,745.33\\n13 5/1/2024 1,100,264.54 123,932.30 976,332.24 7,476,123.12\\n14 11/1/2024 1,100,264.54 109,238.50 991,026.04 6,455,366.30\\n15 5/1/2025 1,100,264.54 94,323.56  1,005,940.98 5,419,247.09\\n16 11/1/2025 1,100,264.54 79,184.14 = 1,021,080.40 4,367,534.28\\n17 5/1/2026 1,100,264.54 63,816.88  1,036,447.66 3,299,993.19\\n18 11/1/2026 —1,100,264.54 48,218.35 1,052,046.19 2,216,385.61\\n19 5/1/2027 1,100,264.54 32,385.05 1,067,879.49 1,116,469.74\\n20 11/1/2027 _1,100,264.54 16,313.34 —_1,083,951.20 0.00\\nTotals 22,005,290.80 _3,113,660.80 18,891,630.00\\n\\nUntil Lessee receives written notification to the contrary, all payments due under\\nthe Master Lease and this Schedule A No. 29, including but not limited to Rental\\nPayments, Additional Rents, indemnifications and other sums due and payable\\nunder the Lease are to be paid to and all notices are to be sent to the following\\ntespective addresses:\\n\\nNotices: Rental Payments:\\nGrant Capital Management, Inc. Capital One Public Funding, LLC\\n8894 Stanford Blvd Federal ID No.: 11-2209667\\nSuite 203 Bank: Capital One Bank\\nColumbia, MD 21045 Rtg 065000090\\nBeneficiary: JAMSAB Realty Corp./\\nCapital One Public Funding\\nAC # 3124063607\\n\\nRe: City of Baltimore Schedule A No.29\\n\\no1047es0,A-3\\n\\x0c'"
      ]
     },
     "execution_count": 58,
     "metadata": {},
     "output_type": "execute_result"
    }
   ],
   "source": [
    "# doesn't work well with this sort of table that is part of a larger text page\n",
    "# underlying parsing algorighm seems to rely on guestimations on percieved column chunking \n",
    "\n",
    "textract.process(searchable_pdf_amort_page4_file, extension='pdf', method='tesseract').decode()"
   ]
  },
  {
   "cell_type": "code",
   "execution_count": 59,
   "metadata": {
    "slideshow": {
     "slide_type": "skip"
    }
   },
   "outputs": [
    {
     "name": "stdout",
     "output_type": "stream",
     "text": [
      "FEBRUARY\n",
      "2014\n",
      "M27\n",
      "(BUS)\n",
      "LICENSE\n",
      "NUMBER\n",
      "TYPE\n",
      "632426\n",
      "BAW\n",
      "641387\n",
      "BAW\n",
      "238892\n",
      "BAW\n",
      "288037\n",
      "BAW\n",
      "373340\n",
      "BAW\n",
      "443590\n",
      "BAW\n",
      "406487\n",
      "BAW\n",
      "487016\n",
      "BAW\n",
      "617276\n",
      "BAW\n",
      "603771\n",
      "BAW\n",
      "603772\n",
      "BAW\n",
      "603773\n",
      "BAW\n",
      "603770\n",
      "BAW\n",
      "643433\n",
      "BAW\n",
      "561218\n",
      "BAW\n",
      "635527\n",
      "BAW\n",
      "623823\n",
      "BAW\n",
      "633246\n",
      "BAW\n",
      "549471\n",
      "BAW\n",
      "614377\n",
      "BAW\n",
      "632300\n",
      "BAW\n",
      "507875\n",
      "BAW\n",
      "604941\n",
      "BAW\n",
      "DBA\n",
      "NAME\n",
      "BELLAROMA\n",
      "LLC\n",
      "BLUE\n",
      "BELLE\n",
      "SALOON\n",
      "BOSTON\n",
      "DELI\n",
      "&\n",
      "GRILL\n",
      "CAFFE\n",
      "PRANZO\n",
      "CASA\n",
      "SAN\n",
      "MARCOS\n",
      "CEDAR\n",
      "ROCK\n",
      "INN\n",
      "CHEFS\n",
      "DI\n",
      "DOMANI\n",
      "CLASSIC\n",
      "CIGAR\n",
      "LOUNGE\n",
      "COFFEE\n",
      "CUP\n",
      "COOLGREENS\n",
      "COOLGREENS\n",
      "COOLGREENS\n",
      "COOLGREENS\n",
      "COW\n",
      "CREEK\n",
      "CAFE\n",
      "DAVINCI'S\n",
      "ITALIAN\n",
      "RESTAURANT\n",
      "DIARTI\n",
      "ITALIAN\n",
      "CAFE\n",
      "DOMENICA\n",
      "ITALIA\n",
      "KITCHEN\n",
      "ELEMENTS\n",
      "ART\n",
      "GALLERY\n",
      "FAT\n",
      "GUY'S\n",
      "BURGER\n",
      "JOINT\n",
      "FAT\n",
      "GUY'S\n",
      "BURGER\n",
      "JOINT\n",
      "FONTANA\n",
      "ITALIAN\n",
      "RESTAURANT\n",
      "FRATELI'S\n",
      "LICENSEE\n",
      "NAME\n",
      "BELLAROMA\n",
      "LLC\n",
      "BLUE\n",
      "BELLE\n",
      "ENTERTAINMENT\n",
      "LLC\n",
      "BOSTON\n",
      "DELI\n",
      "&\n",
      "GRILL\n",
      "INC\n",
      "MAZEL\n",
      "TOV\n",
      "INC\n",
      "MORA\n",
      "ENTERPRISES\n",
      "INC\n",
      "CEDAR\n",
      "ROCK\n",
      "INN\n",
      "LLC\n",
      "ENGARD\n",
      "INC\n",
      "INFORMAL\n",
      "PARTNERSHIP.\n",
      "COFFEE\n",
      "CUP\n",
      "LLC\n",
      "COOLGREENS\n",
      "BEER\n",
      "AND\n",
      "WINE\n",
      "LLC\n",
      "COOLGREENS\n",
      "BEER\n",
      "AND\n",
      "WINE\n",
      "LLC\n",
      "COOLGREENS\n",
      "BEER\n",
      "AND\n",
      "WINE\n",
      "LLC\n",
      "COOLGREENS\n",
      "BEER\n",
      "AND\n",
      "WINE\n",
      "LLC\n",
      "OEME\n",
      "LLC\n",
      "NAPOLI'S\n",
      "OF\n",
      "STILLWATER\n",
      "INC\n",
      "DIARTI\n",
      "ITALIAN\n",
      "CAFE\n",
      "LLC\n",
      "MARINI,\n",
      "DOMENICA\n",
      "ELEMENTS\n",
      "ART\n",
      "GALLERY\n",
      "LLC\n",
      "ALSOKC\n",
      "LLC\n",
      "ALSOKC\n",
      "LLC\n",
      "ULAJ,\n",
      "GEZIM\n",
      "FRATLI'S\n",
      "INC\n",
      "FRESCOS\n",
      "MEXICAN\n",
      "GRILL\n",
      "19\n",
      "INC\n",
      "ALPHABETIC\n",
      "LISTING\n",
      "BY\n",
      "TYPE\n",
      "OF\n",
      "ACTIVE\n",
      "LICENSES\n",
      "OKLAHOMA\n",
      "ABLE\n",
      "COMMISSION\n",
      "PREMISE\n",
      "ADDRESS\n",
      "CITY\n",
      "1831\n",
      "NORTHWEST\n",
      "CACHE\n",
      "ROAD\n",
      "LAWTON\n",
      "224\n",
      "WEST\n",
      "HARRISON\n",
      "AVENUE\n",
      "GUTHRIE\n",
      "6231\n",
      "EAST\n",
      "61ST\n",
      "STREET\n",
      "SOUTH\n",
      "TULSA\n",
      "9620\n",
      "&\n",
      "9622\n",
      "NORTH\n",
      "MAY\n",
      "AVENUE\n",
      "VILLAGE\n",
      "2170\n",
      "SOUTH\n",
      "GARNETT\n",
      "ROAD\n",
      "TULSA\n",
      "4347\n",
      "WEST\n",
      "41ST\n",
      "STREET\n",
      "TULSA\n",
      "2727\n",
      "WEST\n",
      "MEMORIAL\n",
      "ROAD\n",
      "OKLAHOMA\n",
      "CITY\n",
      "8703\n",
      "NORTH\n",
      "OWASSO\n",
      "EXPRESSWAY\n",
      "#0\n",
      "OWASSO\n",
      "401\n",
      "NORTH\n",
      "BROADWAY\n",
      "STREET\n",
      "POTEAU\n",
      "14201\n",
      "NORTH\n",
      "MAY\n",
      "AVENUE\n",
      "OKLAHOMA\n",
      "CITY\n",
      "1189\n",
      "EAST\n",
      "15TH\n",
      "SUITE\n",
      "156\n",
      "EDMOND\n",
      "204\n",
      "NORTH\n",
      "ROBINSON\n",
      "SUITE\n",
      "150\n",
      "OKLAHOMA\n",
      "CITY\n",
      "3700\n",
      "WEST\n",
      "ROBINSON\n",
      "NORMAN\n",
      "387\n",
      "SOUTH\n",
      "COMMERCIAL\n",
      "STREET\n",
      "WELCH\n",
      "2280\n",
      "NORTH\n",
      "PERKINS\n",
      "ROAD\n",
      "STILLWATER\n",
      "2808\n",
      "8TH\n",
      "STREET\n",
      "WOODWARD\n",
      "2033\n",
      "NORTH\n",
      "KICKAPOO\n",
      "AVENUE\n",
      "SHAWNEE\n",
      "125\n",
      "WEST\n",
      "MAIN\n",
      "STREET\n",
      "DURANT\n",
      "140\n",
      "NORTH\n",
      "GREENWOOD\n",
      "AVENUE\n",
      "TULSA\n",
      "7945\n",
      "SOUTH\n",
      "MEMORIAL\n",
      "DRIVE\n",
      "TULSA\n",
      "854\n",
      "NORTHWEST\n",
      "12TH\n",
      "STREET\n",
      "MOORE\n",
      "1945\n",
      "NORTH\n",
      "KICKAPOO\n",
      "AVENUE\n",
      "SHAWNEE\n",
      "1010\n",
      "LONNIE\n",
      "ABBOTT\n",
      "BOULEVARD\n",
      "ADA\n",
      "Page\n",
      "2\n",
      "of\n",
      "151\n",
      "ST\n",
      "OK\n",
      "OK\n",
      "OK\n",
      "OK\n",
      "OK\n",
      "OK\n",
      "OK\n",
      "OK\n",
      "OK\n",
      "OK\n",
      "OK\n",
      "OK\n",
      "OK\n",
      "OK\n",
      "OK\n",
      "OK\n",
      "OK\n",
      "ZIP\n",
      "73507\n",
      "73044\n",
      "74136\n",
      "73120\n",
      "74129\n",
      "74107\n",
      "73134\n",
      "74055\n",
      "74953\n",
      "73134\n",
      "73013\n",
      "73102\n",
      "73072\n",
      "74369\n",
      "74075\n",
      "73801\n",
      "74804\n",
      "74701\n",
      "74120\n",
      "74133\n",
      "73160\n",
      "74804\n",
      "74820\n",
      "(918)\n",
      "492-4745\n",
      "(405)\n",
      "755-3577\n",
      "(918)\n",
      "437-1718\n",
      "(918)\n",
      "447-4493\n",
      "(405)\n",
      "749-2433\n",
      "(918)\n",
      "274-8191\n",
      "(918)\n",
      "647-2622\n",
      "(405)\n",
      "286-9304\n",
      "(405)\n",
      "562-1022\n",
      "(405)\n",
      "600-6444\n",
      "(405)\n",
      "701-5000\n",
      "(918)\n",
      "788-3683\n",
      "(405)\n",
      "372-0300\n",
      "(918)\n",
      "794-7782\n",
      "(918)\n",
      "893-2232\n",
      "(405)\n",
      "703-0911\n",
      "(405)\n",
      "275-6103\n",
      "(580)\n",
      "332-2959\n",
      "ABLPDM27\n",
      "3/19/2014\n",
      "PHONE\n",
      "NUMBER\n",
      "EXPIRES\n",
      "2014/05/16\n",
      "2014/08/27\n",
      "2014/05/08\n",
      "2015/03/02\n",
      "2014/07/23\n",
      "2014/11/06\n",
      "2015/01/26\n",
      "2015/02/10\n",
      "2014/10/25\n",
      "2014/07/02\n",
      "2014/07/02\n",
      "2014/06/25\n",
      "2014/06/18\n",
      "2015/02/23\n",
      "2014/10/20\n",
      "2014/07/18\n",
      "2014/06/10\n",
      "2014/06/05\n",
      "2015/04/01\n",
      "2014/09/19\n",
      "2014/05/07\n",
      "2014/08/28\n",
      "2014/07/15\n"
     ]
    }
   ],
   "source": [
    "# processing image file\n",
    "for line in textract.process(png_license_page2_image_file).decode().split():\n",
    "    print(line)\n",
    "    "
   ]
  },
  {
   "cell_type": "code",
   "execution_count": 60,
   "metadata": {
    "slideshow": {
     "slide_type": "slide"
    }
   },
   "outputs": [
    {
     "data": {
      "text/plain": [
       "'% UNITED STATES ENVIRONMENTAL PROTECTION AGENCY\\n8 WASHINGTON, D.C. 20460\\n=\\né\\n\\nSAMPLE LETTER\\n\\n \\n\\nIb THE ADMINISTRATOR\\n\\nDear Governor:\\n\\nThere is no higher priority for the U.S. Environmental Protection Agency (EPA) than protecting public\\nhealth and ensuring the safety of our nation’s drinking water. Under the Safe Drinking Water Act\\n(SDWA), «State» and most other states have the primary responsibility for the implementation and\\nenforcement of drinking water regulations, while EPA is tasked with oversight of state efforts. Recent\\nevents in Flint, Michigan and other U.S. cities, have led to important discussions about the safety of our\\nnation’s drinking water supplies, which is why I am writing to you today.\\n\\n1 am asking you to join me in taking action to strengthen protection of our nation’s drinking water,\\nwhich is a shared responsibility involving state, tribal, local and federal governments, system owners\\nand operators, consumers and other stakeholders. We must work together to address the broad set of\\nchallenges and opportunities we face — including in the areas of infrastructure finance and investment,\\nscience, technology, legacy and emerging contaminants, regulatory oversight, risk assessment and\\npublic engagement and education.\\n\\nAs part of the EPA’s immediate effort to properly oversee state implementation of the Lead and Copper\\nRule, my staff will be meeting with every state drinking water program across the country to ensure that\\nstates are taking appropriate actions to identify and address lead action level exceedances and fully\\nimplementing and enforcing this important rule. I ask that you encourage your state agency to give this\\neffort the highest priority, consistent with our shared commitment and partnership to address lead risks.\\n\\nIn the near-term, | also ask for your leadership in taking action to enhance public transparency and\\naccountability in the implementation of the Lead and Copper Rule to assure the public that all levels of\\ngovernment are working together to address lead risks. By separate letter, the EPA’s Office of Water has\\nwritten to the head of your state primacy agency detailing our requests and recommendations. In that\\nletter we urge enhanced efforts to provide the public with better and quicker information on risks\\nassociated with lead in drinking water and how to abate them. We also ask states to promptly inform\\nresidents of lead sample results from their homes, as well as the general public where systems are\\nexperiencing high lead levels. And we point out the tremendous value of using public websites to\\ndisclose state lead sampling protocols and guidance, lead sampling results, and water system inventories\\nof lead service lines. This is the most effective approach to assure the public that we are doing\\neverything we can to work together to address lead risk, and I would ask your support to take these steps\\nquickly.\\n\\nInternet Address (URL) @ http /www epa gov\\nRecycled/Recyclable @ Printed with Vegetable Oil Based Inks on 100% Postconsumer, Process Chlonne Free Recycled Paper\\n\\x0cIn the coming weeks and months, we will be working with states and other stakeholders to identify\\nstrategies and actions to improve the safety and sustainability of our drinking water systems, including:\\n\\n¢ ensuring adequate and sustained investment in, and attention to, regulatory oversight at all levels\\nof government;\\n\\n¢ using information technology to enhance transparency and accountability with regard to\\nreporting and public availability of drinking water compliance data;\\n\\ne leveraging additional funding sources to finance maintenance, upgrading and replacement of\\naging infrastructure, especially for poor and overburdened communities; and\\n\\n¢ identifying technology and infrastructure to address both existing and emerging contaminants.\\n\\nThank you in advance for your support to ensure that we are fulfilling our joint responsibility for the\\nprotection of public health and to restore public confidence in our shared work to ensure safe drinking\\nwater for the American people. Please do not hesitate to contact me, and your staff can always contact\\n\\nMark Rupp, Deputy Associate Administrator for Intergovernmental Relations, at rupp.mark(@epa.gov or\\n(202) 564-7178.\\n\\nAs always, the EPA appreciates your leadership and engagement as a partner in our efforts to protect\\npublic health and the environment.\\n\\nSincerely,\\n\\nGina McCarthy\\n\\x0c'"
      ]
     },
     "execution_count": 60,
     "metadata": {},
     "output_type": "execute_result"
    }
   ],
   "source": [
    "# handles the entire file and returns whole file object as bytes, not just individual pages\n",
    "textract.process(scanned_pdf_epa_file, extension='pdf', method='tesseract').decode()"
   ]
  },
  {
   "cell_type": "code",
   "execution_count": 61,
   "metadata": {
    "slideshow": {
     "slide_type": "skip"
    }
   },
   "outputs": [
    {
     "data": {
      "text/plain": [
       "'AMORTIZATION SCHEDULE\\nPayment\\n\\nPayment\\n\\nPayment\\n\\nInterest\\n\\nPrincipal\\n\\nPurchase\\n\\nNo.\\n\\nDate\\n\\nAmount\\n\\nComponent\\n\\nComponent\\n\\nPrice\\n\\nLoan\\n1\\n2\\n\\n11/9/2017\\n5/1/2018\\n11/1/2018\\n\\n1,100,264.54\\n1,100,264.54\\n\\n273,262.18\\n271,872.65\\n\\n827,002.36\\n828,391.89\\n\\n18,606,566.47\\n17,753,322.82\\n\\n3\\n4\\n5\\n\\n5/1/2019\\n11/1/2019\\n5/1/2020\\n\\n1,100,264.54\\n1,100,264.54\\n1,100,264.54\\n\\n259,405.35\\n246,750.42\\n233,905.03\\n\\n840,859.19\\n853,514.12\\n866,359.51\\n\\n16,887,237.86\\n16,008,118.31\\n15,115,768.02\\n\\n6\\n7\\n\\n11/1/2020\\n5/1/2021\\n\\n1,100,264.54\\n1,100,264.54\\n\\n220,866.32\\n207,631.38\\n\\n879,398.22\\n892,633.16\\n\\n14,209,987.85\\n13,290,575.70\\n\\n8\\n9\\n\\n11/1/2021\\n5/1/2022\\n\\n1,100,264.54\\n1,100,264.54\\n\\n194,197.25\\n180,560.93\\n\\n906,067.29\\n919,703.61\\n\\n12,357,326.39\\n11,410,031.67\\n\\n10\\n11\\n\\n11/1/2022\\n5/1/2023\\n\\n1,100,264.54\\n1,100,264.54\\n\\n166,719.39\\n152,669.54\\n\\n933,545.15\\n947,595.00\\n\\n10,448,480.17\\n9,472,457.32\\n\\n12\\n\\n11/1/2023\\n\\n1,100,264.54\\n\\n138,408.24\\n\\n961,856.30\\n\\n8,481,745.33\\n\\n13\\n14\\n\\n5/1/2024\\n11/1/2024\\n\\n1,100,264.54\\n1,100,264.54\\n\\n123,932.30\\n109,238.50\\n\\n976,332.24\\n991,026.04\\n\\n7,476,123.12\\n6,455,366.30\\n\\n15\\n16\\n\\n5/1/2025\\n11/1/2025\\n\\n1,100,264.54\\n1,100,264.54\\n\\n94,323.56\\n79,184.14\\n\\n1,005,940.98\\n1,021,080.40\\n\\n5,419,247.09\\n4,367,534.28\\n\\n17\\n18\\n\\n5/1/2026\\n11/1/2026\\n\\n1,100,264.54\\n1,100,264.54\\n\\n63,816.88\\n48,218.35\\n\\n1,036,447.66\\n1,052,046.19\\n\\n3,299,993.19\\n2,216,385.61\\n\\n19\\n20\\n\\n5/1/2027\\n11/1/2027\\n\\n1,100,264.54\\n1,100,264.54\\n\\n32,385.05\\n16,313.34\\n\\n1,067,879.49\\n1,083,951.20\\n\\n1,116,469.74\\n0.00\\n\\n22,005,290.80\\n\\n3,113,660.80\\n\\n18,891,630.00\\n\\nTotals\\n\\n6.\\n\\nUntil Lessee receives written notiﬁcation to the contrary, all payments due under\\nthe Master Lease and this Schedule A No. 29, including but not limited to Rental\\nPayments, Additional Rents, indemniﬁcations and other sums due and payable\\nunder the Lease are to be paid to and all notices are to be sent to the following\\nrespective addresses:\\nNotices:\\nGrant Capital Management, Inc.\\n8894 Stanford Blvd\\nSuite 203\\nColumbia, MD 21045\\n\\nWm\\n\\nCapital One Public Funding, LLC\\nFederal ID No.: 11-2209667\\nBank: Capital One Bank\\n\\nRtg 065000090\\n\\nBeneﬁciary: JAMSAB Realty Corp./\\nCapital One Public Funding\\n\\nAC # 3124063607\\nRe: City of Baltimore Schedule A No.29\\n[01047850)A-3\\n\\n\\x0c'"
      ]
     },
     "execution_count": 61,
     "metadata": {},
     "output_type": "execute_result"
    }
   ],
   "source": [
    "# doesn't work well with this sort of table that is part of a larger text page\n",
    "textract.process(searchable_pdf_amort_page4_file, extension='pdf', method='pdftotext').decode()"
   ]
  },
  {
   "cell_type": "markdown",
   "metadata": {
    "slideshow": {
     "slide_type": "skip"
    }
   },
   "source": [
    "<font><b>A line by line inspection of the return from the </b>```method='pdftotext'```<b> matches how <font color=purple>ocrmypdf</font> returns a scanned pdf</b></font>"
   ]
  },
  {
   "cell_type": "markdown",
   "metadata": {
    "slideshow": {
     "slide_type": "slide"
    }
   },
   "source": [
    "### pdftotext on a space separated table within a text page, an improvement..."
   ]
  },
  {
   "cell_type": "markdown",
   "metadata": {
    "slideshow": {
     "slide_type": "slide"
    }
   },
   "source": [
    "Better? \n",
    "\n",
    "Best? \n",
    "\n",
    "Not column chunking but parsing in horizontal blocks across perceived rows and 'cell sizes'"
   ]
  },
  {
   "cell_type": "code",
   "execution_count": 62,
   "metadata": {
    "slideshow": {
     "slide_type": "skip"
    }
   },
   "outputs": [
    {
     "data": {
      "text/plain": [
       "['AMORTIZATION',\n",
       " 'SCHEDULE',\n",
       " 'Payment',\n",
       " 'Payment',\n",
       " 'Payment',\n",
       " 'Interest',\n",
       " 'Principal',\n",
       " 'Purchase',\n",
       " 'No.',\n",
       " 'Date',\n",
       " 'Amount',\n",
       " 'Component',\n",
       " 'Component',\n",
       " 'Price',\n",
       " 'Loan',\n",
       " '1',\n",
       " '2',\n",
       " '11/9/2017',\n",
       " '5/1/2018',\n",
       " '11/1/2018',\n",
       " '1,100,264.54',\n",
       " '1,100,264.54',\n",
       " '273,262.18',\n",
       " '271,872.65',\n",
       " '827,002.36',\n",
       " '828,391.89',\n",
       " '18,606,566.47',\n",
       " '17,753,322.82',\n",
       " '3',\n",
       " '4',\n",
       " '5',\n",
       " '5/1/2019',\n",
       " '11/1/2019',\n",
       " '5/1/2020',\n",
       " '1,100,264.54',\n",
       " '1,100,264.54',\n",
       " '1,100,264.54',\n",
       " '259,405.35',\n",
       " '246,750.42',\n",
       " '233,905.03',\n",
       " '840,859.19',\n",
       " '853,514.12',\n",
       " '866,359.51',\n",
       " '16,887,237.86',\n",
       " '16,008,118.31',\n",
       " '15,115,768.02',\n",
       " '6',\n",
       " '7',\n",
       " '11/1/2020',\n",
       " '5/1/2021',\n",
       " '1,100,264.54',\n",
       " '1,100,264.54',\n",
       " '220,866.32',\n",
       " '207,631.38',\n",
       " '879,398.22',\n",
       " '892,633.16',\n",
       " '14,209,987.85',\n",
       " '13,290,575.70',\n",
       " '8',\n",
       " '9',\n",
       " '11/1/2021',\n",
       " '5/1/2022',\n",
       " '1,100,264.54',\n",
       " '1,100,264.54',\n",
       " '194,197.25',\n",
       " '180,560.93',\n",
       " '906,067.29',\n",
       " '919,703.61',\n",
       " '12,357,326.39',\n",
       " '11,410,031.67',\n",
       " '10',\n",
       " '11',\n",
       " '11/1/2022',\n",
       " '5/1/2023',\n",
       " '1,100,264.54',\n",
       " '1,100,264.54',\n",
       " '166,719.39',\n",
       " '152,669.54',\n",
       " '933,545.15',\n",
       " '947,595.00',\n",
       " '10,448,480.17',\n",
       " '9,472,457.32',\n",
       " '12',\n",
       " '11/1/2023',\n",
       " '1,100,264.54',\n",
       " '138,408.24',\n",
       " '961,856.30',\n",
       " '8,481,745.33',\n",
       " '13',\n",
       " '14',\n",
       " '5/1/2024',\n",
       " '11/1/2024',\n",
       " '1,100,264.54',\n",
       " '1,100,264.54',\n",
       " '123,932.30',\n",
       " '109,238.50',\n",
       " '976,332.24',\n",
       " '991,026.04',\n",
       " '7,476,123.12',\n",
       " '6,455,366.30',\n",
       " '15',\n",
       " '16',\n",
       " '5/1/2025',\n",
       " '11/1/2025',\n",
       " '1,100,264.54',\n",
       " '1,100,264.54',\n",
       " '94,323.56',\n",
       " '79,184.14',\n",
       " '1,005,940.98',\n",
       " '1,021,080.40',\n",
       " '5,419,247.09',\n",
       " '4,367,534.28',\n",
       " '17',\n",
       " '18',\n",
       " '5/1/2026',\n",
       " '11/1/2026',\n",
       " '1,100,264.54',\n",
       " '1,100,264.54',\n",
       " '63,816.88',\n",
       " '48,218.35',\n",
       " '1,036,447.66',\n",
       " '1,052,046.19',\n",
       " '3,299,993.19',\n",
       " '2,216,385.61',\n",
       " '19',\n",
       " '20',\n",
       " '5/1/2027',\n",
       " '11/1/2027',\n",
       " '1,100,264.54',\n",
       " '1,100,264.54',\n",
       " '32,385.05',\n",
       " '16,313.34',\n",
       " '1,067,879.49',\n",
       " '1,083,951.20',\n",
       " '1,116,469.74',\n",
       " '0.00',\n",
       " '22,005,290.80',\n",
       " '3,113,660.80',\n",
       " '18,891,630.00',\n",
       " 'Totals',\n",
       " '6.',\n",
       " 'Until',\n",
       " 'Lessee',\n",
       " 'receives',\n",
       " 'written',\n",
       " 'notiﬁcation',\n",
       " 'to',\n",
       " 'the',\n",
       " 'contrary,',\n",
       " 'all',\n",
       " 'payments',\n",
       " 'due',\n",
       " 'under',\n",
       " 'the',\n",
       " 'Master',\n",
       " 'Lease',\n",
       " 'and',\n",
       " 'this',\n",
       " 'Schedule',\n",
       " 'A',\n",
       " 'No.',\n",
       " '29,',\n",
       " 'including',\n",
       " 'but',\n",
       " 'not',\n",
       " 'limited',\n",
       " 'to',\n",
       " 'Rental',\n",
       " 'Payments,',\n",
       " 'Additional',\n",
       " 'Rents,',\n",
       " 'indemniﬁcations',\n",
       " 'and',\n",
       " 'other',\n",
       " 'sums',\n",
       " 'due',\n",
       " 'and',\n",
       " 'payable',\n",
       " 'under',\n",
       " 'the',\n",
       " 'Lease',\n",
       " 'are',\n",
       " 'to',\n",
       " 'be',\n",
       " 'paid',\n",
       " 'to',\n",
       " 'and',\n",
       " 'all',\n",
       " 'notices',\n",
       " 'are',\n",
       " 'to',\n",
       " 'be',\n",
       " 'sent',\n",
       " 'to',\n",
       " 'the',\n",
       " 'following',\n",
       " 'respective',\n",
       " 'addresses:',\n",
       " 'Notices:',\n",
       " 'Grant',\n",
       " 'Capital',\n",
       " 'Management,',\n",
       " 'Inc.',\n",
       " '8894',\n",
       " 'Stanford',\n",
       " 'Blvd',\n",
       " 'Suite',\n",
       " '203',\n",
       " 'Columbia,',\n",
       " 'MD',\n",
       " '21045',\n",
       " 'Wm',\n",
       " 'Capital',\n",
       " 'One',\n",
       " 'Public',\n",
       " 'Funding,',\n",
       " 'LLC',\n",
       " 'Federal',\n",
       " 'ID',\n",
       " 'No.:',\n",
       " '11-2209667',\n",
       " 'Bank:',\n",
       " 'Capital',\n",
       " 'One',\n",
       " 'Bank',\n",
       " 'Rtg',\n",
       " '065000090',\n",
       " 'Beneﬁciary:',\n",
       " 'JAMSAB',\n",
       " 'Realty',\n",
       " 'Corp./',\n",
       " 'Capital',\n",
       " 'One',\n",
       " 'Public',\n",
       " 'Funding',\n",
       " 'AC',\n",
       " '#',\n",
       " '3124063607',\n",
       " 'Re:',\n",
       " 'City',\n",
       " 'of',\n",
       " 'Baltimore',\n",
       " 'Schedule',\n",
       " 'A',\n",
       " 'No.29',\n",
       " '[01047850)A-3']"
      ]
     },
     "execution_count": 62,
     "metadata": {},
     "output_type": "execute_result"
    }
   ],
   "source": [
    "# the pdftotext method is better for this case but not best still for handling \n",
    "# these types of tables because while it doesn't 'column chunk', it parses\n",
    "# in horizontal blocks across perceived rows and 'cell sizes' to construct rows\n",
    "textract.process(searchable_pdf_amort_page4_file, extension='pdf', method='pdftotext').decode().split()"
   ]
  },
  {
   "cell_type": "code",
   "execution_count": 63,
   "metadata": {
    "slideshow": {
     "slide_type": "slide"
    }
   },
   "outputs": [
    {
     "data": {
      "text/plain": [
       "['AMORTIZATION',\n",
       " 'SCHEDULE',\n",
       " 'Payment',\n",
       " 'Payment',\n",
       " 'Payment',\n",
       " 'Interest',\n",
       " 'Principal',\n",
       " 'Purchase',\n",
       " 'No.',\n",
       " 'Date',\n",
       " 'Amount',\n",
       " 'Component',\n",
       " 'Component',\n",
       " 'Price',\n",
       " 'Loan',\n",
       " '1',\n",
       " '2',\n",
       " '11/9/2017',\n",
       " '5/1/2018',\n",
       " '11/1/2018',\n",
       " '1,100,264.54',\n",
       " '1,100,264.54',\n",
       " '273,262.18',\n",
       " '271,872.65',\n",
       " '827,002.36',\n",
       " '828,391.89',\n",
       " '18,606,566.47',\n",
       " '17,753,322.82',\n",
       " '3',\n",
       " '4',\n",
       " '5',\n",
       " '5/1/2019',\n",
       " '11/1/2019',\n",
       " '5/1/2020',\n",
       " '1,100,264.54',\n",
       " '1,100,264.54',\n",
       " '1,100,264.54',\n",
       " '259,405.35',\n",
       " '246,750.42',\n",
       " '233,905.03',\n",
       " '840,859.19',\n",
       " '853,514.12',\n",
       " '866,359.51',\n",
       " '16,887,237.86',\n",
       " '16,008,118.31',\n",
       " '15,115,768.02',\n",
       " '6',\n",
       " '7',\n",
       " '11/1/2020',\n",
       " '5/1/2021',\n",
       " '1,100,264.54',\n",
       " '1,100,264.54',\n",
       " '220,866.32',\n",
       " '207,631.38',\n",
       " '879,398.22',\n",
       " '892,633.16',\n",
       " '14,209,987.85',\n",
       " '13,290,575.70',\n",
       " '8',\n",
       " '9',\n",
       " '11/1/2021',\n",
       " '5/1/2022',\n",
       " '1,100,264.54',\n",
       " '1,100,264.54',\n",
       " '194,197.25',\n",
       " '180,560.93',\n",
       " '906,067.29',\n",
       " '919,703.61',\n",
       " '12,357,326.39',\n",
       " '11,410,031.67',\n",
       " '10',\n",
       " '11',\n",
       " '11/1/2022',\n",
       " '5/1/2023',\n",
       " '1,100,264.54',\n",
       " '1,100,264.54',\n",
       " '166,719.39',\n",
       " '152,669.54',\n",
       " '933,545.15',\n",
       " '947,595.00',\n",
       " '10,448,480.17',\n",
       " '9,472,457.32',\n",
       " '12',\n",
       " '11/1/2023',\n",
       " '1,100,264.54',\n",
       " '138,408.24',\n",
       " '961,856.30',\n",
       " '8,481,745.33',\n",
       " '13',\n",
       " '14',\n",
       " '5/1/2024',\n",
       " '11/1/2024',\n",
       " '1,100,264.54',\n",
       " '1,100,264.54',\n",
       " '123,932.30',\n",
       " '109,238.50',\n",
       " '976,332.24',\n",
       " '991,026.04',\n",
       " '7,476,123.12',\n",
       " '6,455,366.30',\n",
       " '15',\n",
       " '16',\n",
       " '5/1/2025',\n",
       " '11/1/2025',\n",
       " '1,100,264.54',\n",
       " '1,100,264.54',\n",
       " '94,323.56',\n",
       " '79,184.14',\n",
       " '1,005,940.98',\n",
       " '1,021,080.40',\n",
       " '5,419,247.09',\n",
       " '4,367,534.28',\n",
       " '17',\n",
       " '18',\n",
       " '5/1/2026',\n",
       " '11/1/2026',\n",
       " '1,100,264.54',\n",
       " '1,100,264.54',\n",
       " '63,816.88',\n",
       " '48,218.35',\n",
       " '1,036,447.66',\n",
       " '1,052,046.19',\n",
       " '3,299,993.19',\n",
       " '2,216,385.61',\n",
       " '19',\n",
       " '20',\n",
       " '5/1/2027',\n",
       " '11/1/2027',\n",
       " '1,100,264.54',\n",
       " '1,100,264.54',\n",
       " '32,385.05',\n",
       " '16,313.34',\n",
       " '1,067,879.49',\n",
       " '1,083,951.20',\n",
       " '1,116,469.74',\n",
       " '0.00',\n",
       " '22,005,290.80',\n",
       " '3,113,660.80',\n",
       " '18,891,630.00',\n",
       " 'Totals',\n",
       " '6.',\n",
       " 'Until',\n",
       " 'Lessee',\n",
       " 'receives',\n",
       " 'written',\n",
       " 'notiﬁcation',\n",
       " 'to',\n",
       " 'the',\n",
       " 'contrary,',\n",
       " 'all',\n",
       " 'payments',\n",
       " 'due',\n",
       " 'under',\n",
       " 'the',\n",
       " 'Master',\n",
       " 'Lease',\n",
       " 'and',\n",
       " 'this',\n",
       " 'Schedule',\n",
       " 'A',\n",
       " 'No.',\n",
       " '29,',\n",
       " 'including',\n",
       " 'but',\n",
       " 'not',\n",
       " 'limited',\n",
       " 'to',\n",
       " 'Rental',\n",
       " 'Payments,',\n",
       " 'Additional',\n",
       " 'Rents,',\n",
       " 'indemniﬁcations',\n",
       " 'and',\n",
       " 'other',\n",
       " 'sums',\n",
       " 'due',\n",
       " 'and',\n",
       " 'payable',\n",
       " 'under',\n",
       " 'the',\n",
       " 'Lease',\n",
       " 'are',\n",
       " 'to',\n",
       " 'be',\n",
       " 'paid',\n",
       " 'to',\n",
       " 'and',\n",
       " 'all',\n",
       " 'notices',\n",
       " 'are',\n",
       " 'to',\n",
       " 'be',\n",
       " 'sent',\n",
       " 'to',\n",
       " 'the',\n",
       " 'following',\n",
       " 'respective',\n",
       " 'addresses:',\n",
       " 'Notices:',\n",
       " 'Grant',\n",
       " 'Capital',\n",
       " 'Management,',\n",
       " 'Inc.',\n",
       " '8894',\n",
       " 'Stanford',\n",
       " 'Blvd',\n",
       " 'Suite',\n",
       " '203',\n",
       " 'Columbia,',\n",
       " 'MD',\n",
       " '21045',\n",
       " 'Wm',\n",
       " 'Capital',\n",
       " 'One',\n",
       " 'Public',\n",
       " 'Funding,',\n",
       " 'LLC',\n",
       " 'Federal',\n",
       " 'ID',\n",
       " 'No.:',\n",
       " '11-2209667',\n",
       " 'Bank:',\n",
       " 'Capital',\n",
       " 'One',\n",
       " 'Bank',\n",
       " 'Rtg',\n",
       " '065000090',\n",
       " 'Beneﬁciary:',\n",
       " 'JAMSAB',\n",
       " 'Realty',\n",
       " 'Corp./',\n",
       " 'Capital',\n",
       " 'One',\n",
       " 'Public',\n",
       " 'Funding',\n",
       " 'AC',\n",
       " '#',\n",
       " '3124063607',\n",
       " 'Re:',\n",
       " 'City',\n",
       " 'of',\n",
       " 'Baltimore',\n",
       " 'Schedule',\n",
       " 'A',\n",
       " 'No.29',\n",
       " '[01047850)A-3']"
      ]
     },
     "execution_count": 63,
     "metadata": {},
     "output_type": "execute_result"
    }
   ],
   "source": [
    "textract.process(searchable_pdf_amort_page4_file, extension='pdf', method='pdftotext').decode().split()"
   ]
  },
  {
   "cell_type": "code",
   "execution_count": 64,
   "metadata": {
    "slideshow": {
     "slide_type": "slide"
    }
   },
   "outputs": [
    {
     "data": {
      "text/plain": [
       "'% UNITED STATES ENVIRONMENTAL PROTECTION AGENCY\\n8 WASHINGTON, D.C. 20460\\n=\\né\\n\\nSAMPLE LETTER\\n\\n \\n\\nIb THE ADMINISTRATOR\\n\\nDear Governor:\\n\\nThere is no higher priority for the U.S. Environmental Protection Agency (EPA) than protecting public\\nhealth and ensuring the safety of our nation’s drinking water. Under the Safe Drinking Water Act\\n(SDWA), «State» and most other states have the primary responsibility for the implementation and\\nenforcement of drinking water regulations, while EPA is tasked with oversight of state efforts. Recent\\nevents in Flint, Michigan and other U.S. cities, have led to important discussions about the safety of our\\nnation’s drinking water supplies, which is why I am writing to you today.\\n\\n1 am asking you to join me in taking action to strengthen protection of our nation’s drinking water,\\nwhich is a shared responsibility involving state, tribal, local and federal governments, system owners\\nand operators, consumers and other stakeholders. We must work together to address the broad set of\\nchallenges and opportunities we face — including in the areas of infrastructure finance and investment,\\nscience, technology, legacy and emerging contaminants, regulatory oversight, risk assessment and\\npublic engagement and education.\\n\\nAs part of the EPA’s immediate effort to properly oversee state implementation of the Lead and Copper\\nRule, my staff will be meeting with every state drinking water program across the country to ensure that\\nstates are taking appropriate actions to identify and address lead action level exceedances and fully\\nimplementing and enforcing this important rule. I ask that you encourage your state agency to give this\\neffort the highest priority, consistent with our shared commitment and partnership to address lead risks.\\n\\nIn the near-term, | also ask for your leadership in taking action to enhance public transparency and\\naccountability in the implementation of the Lead and Copper Rule to assure the public that all levels of\\ngovernment are working together to address lead risks. By separate letter, the EPA’s Office of Water has\\nwritten to the head of your state primacy agency detailing our requests and recommendations. In that\\nletter we urge enhanced efforts to provide the public with better and quicker information on risks\\nassociated with lead in drinking water and how to abate them. We also ask states to promptly inform\\nresidents of lead sample results from their homes, as well as the general public where systems are\\nexperiencing high lead levels. And we point out the tremendous value of using public websites to\\ndisclose state lead sampling protocols and guidance, lead sampling results, and water system inventories\\nof lead service lines. This is the most effective approach to assure the public that we are doing\\neverything we can to work together to address lead risk, and I would ask your support to take these steps\\nquickly.\\n\\nInternet Address (URL) @ http /www epa gov\\nRecycled/Recyclable @ Printed with Vegetable Oil Based Inks on 100% Postconsumer, Process Chlonne Free Recycled Paper\\n\\x0cIn the coming weeks and months, we will be working with states and other stakeholders to identify\\nstrategies and actions to improve the safety and sustainability of our drinking water systems, including:\\n\\n¢ ensuring adequate and sustained investment in, and attention to, regulatory oversight at all levels\\nof government;\\n\\n¢ using information technology to enhance transparency and accountability with regard to\\nreporting and public availability of drinking water compliance data;\\n\\ne leveraging additional funding sources to finance maintenance, upgrading and replacement of\\naging infrastructure, especially for poor and overburdened communities; and\\n\\n¢ identifying technology and infrastructure to address both existing and emerging contaminants.\\n\\nThank you in advance for your support to ensure that we are fulfilling our joint responsibility for the\\nprotection of public health and to restore public confidence in our shared work to ensure safe drinking\\nwater for the American people. Please do not hesitate to contact me, and your staff can always contact\\n\\nMark Rupp, Deputy Associate Administrator for Intergovernmental Relations, at rupp.mark(@epa.gov or\\n(202) 564-7178.\\n\\nAs always, the EPA appreciates your leadership and engagement as a partner in our efforts to protect\\npublic health and the environment.\\n\\nSincerely,\\n\\nGina McCarthy\\n\\x0c'"
      ]
     },
     "execution_count": 64,
     "metadata": {},
     "output_type": "execute_result"
    }
   ],
   "source": [
    "# using the pdf extension and tesseract options handles text only (no tables) very well\n",
    "textract.process(scanned_pdf_epa_file, extension='pdf', method='tesseract').decode()"
   ]
  },
  {
   "cell_type": "markdown",
   "metadata": {
    "slideshow": {
     "slide_type": "slide"
    }
   },
   "source": [
    "### <font color=orange>fairy dust:  textract</font>\n",
    "\n",
    "1. Using options pdf & tesseract method return good results when the PDF is just text and not a table.  Seems optimized for raw text documents. \n",
    "2. It can procss and return entire documents as objects instead of creating separate page objects that may need to be stored or managed as separate variables\n",
    "3. Because textract handles a wide range of file formats, documents don't require pre-processing to convert across filetypes. Depending on the usecase, need and project scale, this means potentially eliminating steps in the workflow"
   ]
  },
  {
   "cell_type": "code",
   "execution_count": null,
   "metadata": {
    "collapsed": true,
    "slideshow": {
     "slide_type": "skip"
    }
   },
   "outputs": [],
   "source": []
  },
  {
   "cell_type": "markdown",
   "metadata": {
    "slideshow": {
     "slide_type": "slide"
    }
   },
   "source": [
    "<font color=red><b>5-6 minute function execution</b></font>\n",
    "\n",
    "\n",
    "```python \n",
    "amort_document_text = textract.process(file, method='tesseract')```"
   ]
  },
  {
   "cell_type": "code",
   "execution_count": 65,
   "metadata": {
    "slideshow": {
     "slide_type": "skip"
    }
   },
   "outputs": [
    {
     "name": "stdout",
     "output_type": "stream",
     "text": [
      "execution time: 3.498610234260559 minutes\n"
     ]
    }
   ],
   "source": [
    "import time\n",
    "start = time.time()\n",
    "amort_document_text = textract.process(file, method='tesseract')\n",
    "end = time.time()\n",
    "print('execution time: {} minutes'.format((end - start)/60))"
   ]
  },
  {
   "cell_type": "code",
   "execution_count": 66,
   "metadata": {
    "slideshow": {
     "slide_type": "slide"
    }
   },
   "outputs": [
    {
     "data": {
      "text/plain": [
       "'INDEX\\n\\nAMENDED AND RESTATED MASTER EQUIPMENT LEASE/PURCHASE\\n\\nAGREEMENT By and Between FIRST MUNICIPAL CREDIT CORPORATION,\\nas Lessor and MAYOR AND CITY COUNCIL OF BALTIMORE, as Lessee Dated\\n\\nas of MARCH 17, 2004\\n\\nExhibit A Schedule A No. 29\\n\\nAttachment A Form of Lessee’s Acceptance Certificate\\nAttachment B Form of Essential Use Certificate\\nAttachment C Form of Certificate of Appropriation.\\nAttachment D Form of Incumbency Certificate\\nAttachment E Lessee Opinion of Counsel\\nAttachment F Tax Opinion\\n\\nAttachment G Authorizing Resolution\\n\\nAttachment H UCC’s\\n\\n10. Attachment I Form 8038G\\n\\n11. Attachment J Cross-Receipt\\n\\n12. Attachment K Tax and Section 148 Certificate\\n\\neC PAA YM PF YN\\n\\n13. Escrow Agreement\\n\\n14. Notice of Assignment\\n\\n15. Acknowledgment and Consent of Lessee\\n16. Questionnaire for Self-Insurance\\n\\n17. Declaration of Official Intent\\n\\x0cEXHIBIT A TO AMENDED AND RESTATED MASTER EQUIPMENT\\nLEASE/PURCHASE AGREEMENT\\n\\nDated: November 9, 2017\\n\\nTHIS SCHEDULE A No. 29 to the AMENDED AND RESTATED MASTER\\nEQUIPMENT LEASE/PURCHASE AGREEMENT, by and between GRANT CAPITAL\\nMANAGEMENT, INC., successor to First Municipal Credit Corporation, as lessor (\"Lessor\")\\nand the MAYOR AND CITY COUNCIL OF BALTIMORE, as lessee (\"Lessee\") dated as of\\nMarch 17, 2004, as amended by a First Amendment to Amended and Restated Master Equipment\\nLease/Purchase Agreement dated February 26, 2009; a Second Amendment to Amended and\\nRestated Master Equipment Lease/Purchase Agreement dated August 6, 2009 and a Third\\nAmendment to Amended and Restated Master Equipment Lease/Purchase Agreement dated as of\\nOctober 28, 2009, (the “Lease”), by and between Lessor and Lessee (as amended, modified and\\nsupplemented from time to time, “Schedule A No. 29” and together with the Master Lease, the\\n\"Lease\"). All of the provisions of the Lease are incorporated herein by reference and capitalized\\nterms used herein and not defined shall have the meanings assigned them in the Lease.\\n\\n1. Pursuant to the Lease, Lessor hereby leases and lets to Lessee, and Lessee hereby\\nleases from Lessor, subject to the provisions of the Lease, the Equipment identified\\nbelow:\\n\\nVarious vehicles as part of the fifth phase of Lessee’s Vehicle Fleet Replacement\\nProgram. The description of the Equipment shall be deemed to be supplemented\\nby the descriptions of the Equipment included in the Payment Request Forms\\nsubmitted to Manufacturers and Traders Trust Company, as escrow agent,\\npursuant to the Escrow Agreement dated as of November 9, 2017, among Lessor,\\nLessee and Manufacturers and Traders Trust Company, as escrow agent, which\\ndescription shall be deemed to be incorporated herein.\\n\\n2. As of the date of this Schedule A No. 29, Lessee has not taken possession of any of\\nthe Equipment shown above. It is expected that by twelve (12) months from the date\\nof this Schedule No. 29, Lessee will have taken possession of all items shown above\\nand that an Acceptance Certificate, or Acceptance Certificates, will be signed by\\nLessee and delivered to Lessor on or before twelve (12) months from the date of this\\nSchedule A No. 29.\\n\\n3. Lessee hereby certifies that the description of the Equipment set forth above is\\naccurate. The Equipment identified in paragraph 1 above shall, at all times be located\\nat:\\n\\nVarious locations within the City of Baltimore\\n\\ncoroaasopA-1\\n\\x0cThe following terms are applicable to the lease/purchase of the Equipment set\\nforth in this Schedule A No. 29:\\n\\n(a) Lease Term Commencement Date: The date of execution and delivery\\nof this Schedule A No. 29, including all attachments thereto, and the\\nsatisfaction of all conditions of the Lease.\\n\\n(b) Lease Term: (i) the Original Lease Term is the period beginning with the\\nLease Term Commencement Date and ending on the last day of the Fiscal\\nYear of the City following the execution of this Schedule A No. 29; and\\n(ii) thereafter, the initial Renewal Lease Term is the period beginning with\\nthe first day of the Fiscal Year following the termination of the Original\\nLease Term and ending on the last day of that Fiscal Year; and (iii) each\\nRenewal Lease Term thereafter is a period beginning on the first day of\\nthe Fiscal Year following the termination of the previous Renewal Lease\\nTerm and ending on the last day of such Fiscal Year.\\n\\n(c) Lease Term Interest Rate: 3.01%\\n\\n(d) Lessee’s Fiscal Year End: June 30\\n\\n(e) Lessee’s Appropriation Period: 1 year\\n\\n() Maximum Amount: The amount equal to $18,891,630.00\\n(g) Number of Renewal Lease Terms: 9\\n\\nThe Lease Proceeds which Lessor shall provide to Lessee in connection with this\\nSchedule A No. 29 is $18,891,630.00 of which $0 is for payment of the costs of\\nissuing this Schedule A No. 29. Such Lease Proceeds shall be deposited directly\\ninto the Equipment Acquisition Account in accordance with that certain Escrow\\nAgreement, dated as of November 9, 2017, by and among Manufacturers and\\nTraders Trust Company, as escrow agent (the “Escrow Agent’), Lessor and\\nLessee (the “Escrow Agreement’) and disbursed for payments of the Total\\nContract Price of the Equipment, or portions thereof, upon receipt by Lessor of an\\nAcceptance Certificate, or Acceptance Certificates, executed by Lessee. The\\nEquipment Acquisition Account shall be established with the Escrow Agent.\\n\\nInterest on the Lease Proceeds shall accrue from the date hereof and the payment\\ndates and will be calculated based on a 3.01% rate. Payments are semi-annual in\\narrears.\\n\\nThe Rental Payments amounts (including the principal and interest components\\nthereof are as follows:\\n\\nor047es0)A-2\\n\\x0cAMORTIZATION SCHEDULE\\n\\nPayment Payment Payment Interest Principal Purchase\\nNo. Date Amount Component Component Price\\nLoan 11/9/2017\\n1 5/1/2018 1,100,264.54 273,262.18 827,002.36 18,606,566.47\\n2 11/1/2018 —1,100,264.54 271,872.65 828,391.89 17,753,322.82\\n3 5/1/2019 1,100,264.54 259,405.35 840,859.19 16,887,237.86\\n4 11/1/2019 —1,100,264.54 246,750.42 853,514.12 16,008,118.31\\nS 5/1/2020 1,100,264.54 233,905.03 866,359.51 15,115,768.02\\n6 11/1/2020 1,100,264.54 220,866.32 879,398.22 14,209,987.85\\n7 5/1/2021 1,100,264.54 207,631.38 892,633.16 13,290,575.70\\n8 11/1/2021 1,100,264.54 194,197.25 906,067.29 12,357,326.39\\n9 5/1/2022 1,100,264.54 180,560.93 919,703.61 11,410,031.67\\n10 11/1/2022 1,100,264.54 166,719.39 933,545.15 10,448,480.17\\n11 5/1/2023 1,100,264.54 152,669.54 947,595.00 9,472,457.32\\n12 11/1/2023 1,100,264.54 138,408.24 961,856.30 8,481,745.33\\n13 5/1/2024 1,100,264.54 123,932.30 976,332.24 7,476,123.12\\n14 11/1/2024 1,100,264.54 109,238.50 991,026.04 6,455,366.30\\n15 5/1/2025 1,100,264.54 94,323.56  1,005,940.98 5,419,247.09\\n16 11/1/2025 1,100,264.54 79,184.14 = 1,021,080.40 4,367,534.28\\n17 5/1/2026 1,100,264.54 63,816.88  1,036,447.66 3,299,993.19\\n18 11/1/2026 —1,100,264.54 48,218.35 1,052,046.19 2,216,385.61\\n19 5/1/2027 1,100,264.54 32,385.05 1,067,879.49 1,116,469.74\\n20 11/1/2027 _1,100,264.54 16,313.34 —_1,083,951.20 0.00\\nTotals 22,005,290.80 _3,113,660.80 18,891,630.00\\n\\nUntil Lessee receives written notification to the contrary, all payments due under\\nthe Master Lease and this Schedule A No. 29, including but not limited to Rental\\nPayments, Additional Rents, indemnifications and other sums due and payable\\nunder the Lease are to be paid to and all notices are to be sent to the following\\ntespective addresses:\\n\\nNotices: Rental Payments:\\nGrant Capital Management, Inc. Capital One Public Funding, LLC\\n8894 Stanford Blvd Federal ID No.: 11-2209667\\nSuite 203 Bank: Capital One Bank\\nColumbia, MD 21045 Rtg 065000090\\nBeneficiary: JAMSAB Realty Corp./\\nCapital One Public Funding\\nAC # 3124063607\\n\\nRe: City of Baltimore Schedule A No.29\\n\\no1047es0,A-3\\n\\x0c10.\\n\\n11.\\n\\n12.\\n\\n13.\\n\\n14.\\n\\nLessee further represents, covenants and warrants that it will not take, cause to be\\ntaken or fail to take any action which will cause the interest component of any\\nRental Payments to be or become subject to federal income taxation under the\\nCode and that all of its representations, covenants and warranties of Lessee\\ncontained in the Master Lease were true and accurate as of the date made, remain\\ntrue and accurate as of the date of this Schedule A No. 29 and are hereby\\nreaffirmed.\\n\\nLessee shall deliver or cause to be delivered an opinion of counsel concurrently\\nwith the execution and delivery of Schedule A No. 29, in the form of Attachment\\nF to Exhibit A of the Master Lease and execute an IRS Form 8038-G prepared by\\nBond Counsel to the Lessee and concurrently presented to Lessor with the\\nexecution and delivery of this Schedule A No. 29, substantially in the form of\\nAttachment J to Exhibit A of the Master Lease. Lessee shall deliver or cause to\\nbe delivered an opinion of nationally recognized bond counsel acceptable to\\nLessor concurrently with the execution and delivery of this Schedule A No. 29 as\\nto the tax-exempt nature of the Interest Component of Rental Payments\\nthereunder and such other matters as may be specified by Lessor.\\n\\nLessee shall deliver or cause to be delivered concurrently with the execution and\\ndelivery of this Schedule A No. 29. all of the documents set forth in Attachments\\nA through L hereto which are incorporated herein by reference thereto, in the\\nrespective forms of Attachments A through L to Exhibit A of the Master Lease,\\nalong with invoices, MSO’s and applications for titles for any vehicles to be\\nacquired with Lease Proceeds of Schedule A No. 29, if any. Lessee shall deliver\\nits Acceptance Certificate, or Acceptance Certificates, in the form of Attachment\\nA to Exhibit A of the Master Lease in accordance with the terms hereof.\\n\\nAttached hereto as Attachment A is an original Acceptance Certificate, executed\\nby an Authorized Officer of Lessee, with respect to the Equipment identified in\\nparagraph 1 above. Provided, however, Lessee may deliver one or more\\nAcceptance Certificates which shall authorize the Lessor to pay the Purchase\\nPrice for the Equipment shown on each such Acceptance Certificate.\\n\\nAttached hereto as Attachment B is an original Essential Use Certificate, executed\\nby an Authorized Officer of Lessee certifying the essential use of the Equipment\\nidentified in paragraph 1 above.\\n\\nAttached hereto as Attachment C is an original Certificate of Appropriation\\nexecuted by an Authorized Officer of Lessee.\\n\\nAttached hereto as Attachment D is an original Incumbency Certificate, executed\\nby Authorized Officers of Lessee.\\n\\nAttached hereto as Attachment E is an original opinion of legal counsel to Lessee\\nrelating to the Lease\\n\\nto1o47es0) A-4\\n\\x0c16.\\n\\n17.\\n\\n18.\\n\\n19.\\n20.\\n\\n21.\\n\\nAttached hereto as Attachment F is an original opinion of nationally recognized\\nbond counsel relating to the Lease and tax treatment thereof.\\n\\nAttached hereto as Attachment G is a certified copy of the resolution of Lessee’s\\nBoard of Estimates authorizing, among other things, the execution and delivery of\\nthe Lease.\\n\\nAttached hereto as Attachment H are copies of financing statement(s) evidencing\\nLessor’s security interest in the Equipment. Provided, however, Lessee may\\ndeliver one or more financing statement(s), or amended financing statement(s)\\nevidencing Lessor’s security interest in the Equipment as reflected on each\\nAcceptance Certificate.\\n\\nAttached hereto as Attachment I is an IRS Form 8038-G of Lessee.\\n\\nAttached hereto as Attachment J is an original Cross-Receipt executed by an\\nAuthorized Officer of Lessee and Lessor.\\n\\nAttached hereto as Attachment K is an original Tax and Section 148 Certificate\\nexecuted by an Authorized Officer of Lessee.\\n\\nto10478s0) A-5\\n\\x0cIN WITNESS WHEREOF, the parties hereunto affix their signatures to this Schedule A\\n\\nNo. 29 as of the day and year first written above.\\n\\nGRANT CAPITAL MANAGEMENT, INC.,\\nas Lessor\\n\\nBy:\\nGrant\\nT sident\\n\\nMAYOR AND CITY COUNCIL OF\\nBALTIMORE,\\nas Lessee\\n\\n     \\n\\n: Jennell A. Rogers\\n: Chief, Bureau of Treasury Mgmt.\\n\\nAPPROVED AS TO FORM AND LEGAL SUFFICIENCY:\\n\\nA Ul (t é =\\nChief Solicitor\\n\\n101087850; A-6\\n\\x0cPart I:\\n\\n11/1/2017\\n\\nATTACHMENT A TO SCHEDULE A NO. 29\\nFORM OF\\nLESSEE’S ACCEPTANCE CERTIFICATE\\n\\nMAYOR AND CITY COUNCIL OF BALTIMORE (“Lessee”), as lessee under\\nthat certain AMENDED AND RESTATED MASTER EQUIPMENT\\nLEASE/PURCHASE AGREEMENT dated as of March 17, 2004, as amended by a\\nFirst Amendment to Amended and Restated Master Equipment Lease/Purchase\\nAgreement dated February 26, 2009, a Second Amendment to Amended and Restated\\nMaster Equipment Lease/Purchase Agreement dated August 6, 2009 and a Third\\nAmendment to Amended and Restated Master Equipment Lease/Purchase Agreement\\ndated as of October 28, 2009 (the \"Master Lease\"), and that certain Schedule A. No. 29\\nthereto dated as of November 9, 2017 (as amended, modified and supplemented from\\ntime to time, \"Schedule A No. 29\" and together with the Master Lease, , the “Lease”),\\nwith GRANT CAPITAL MANAGEMENT, INC., successor to First Municipal Credit\\nCorporation, as lessor (“Lessor”) hereby acknowledges receipt in good condition of all\\nof the Equipment described in Part II below (the “Equipment”), hereby accepts such\\nEquipment and hereby certifies:\\n\\n(a) That Lessor has provided financing for the Equipment as required under\\nthe Lease with regard to such Equipment; provided, however, that this certification does\\nnot constitute a waiver by Lessee of any rights against third parties, including the\\nVendor(s) under the Purchase Agreement(s) (as such terms are defined in the Lease) with\\ntespect to such Equipment, which exist at the date hereof or which may subsequently\\ncome into being; and\\n\\n(b) Lessor and Lessee understand and intend that the obligation of Lessee to\\npay the Rental Payments, Additional Rent, indemnifications and other sums due and\\npayable under the Lease shall constitute a current expense of Lessee subject to\\nappropriated funds, and shall not in any way be construed to be a debt of Lessee in\\ncontravention of any applicable constitutional or statutory limitation or requirement\\nconcerning the creation of indebtedness by Lessee, nor shall anything contained herein\\nconstitute a pledge of the general tax revenues, funds or moneys of Lessee beyond those\\nappropriated for the purpose of acquiring the Equipment.\\n\\nPart I:\\nThe Equipment which is governed by the Lease identified in Part I above is as follows:\\n\\nVarious vehicles as part of the fifth phase of Lessee’s Vehicle Fleet Replacement\\nProgram. The description of the Equipment shall be deemed to be supplemented by the\\ndescriptions of the Equipment included in the Payment Request Forms submitted to\\nManufacturers and Traders Trust Company, as escrow agent, pursuant to the Escrow\\nAgreement dated as of November 9, 2017, among Lessor, Lessee and Manufacturers and\\nTraders Trust Company, as escrow agent, which description shall be deemed to be\\nincorporated herein.\\n\\n(01047880) A-7\\n\\x0cSIGNATURE PAGE TO\\nATTACHMENT A TO SCHEDULE A NO. 29\\n\\nFORM OF\\nLESSEE’S ACCEPTANCE CERTIFICATE\\n\\nDATED: November 9, 2017\\n\\nMAYOR AND CITY COUNCIL OF\\nBALTIMORE,\\n\\n \\n\\nle: Chief, Bureau of Treasury Mgmt.\\n\\n01047850) A-8\\n1/1/2017\\n\\x0cATTACHMENT B TO SCHEDULE A NO. 29\\nESSENTIAL USE CERTIFICATE\\n\\nWe, the undersigned, certify with respect to the AMENDED AND RESTATED\\nMASTER EQUIPMENT LEASE/PURCHASE AGREEMENT, dated as of March 17, 2004,\\nas amended by a First Amendment to Amended and Restated Master Equipment Lease/Purchase\\nAgreement, dated February 16, 2009, a Second Amendment to Amended and Restated Master\\nEquipment Lease/Purchase Agreement, dated August 6, 2009, and a Third Amendment to\\nAmended and Restated Master Equipment Lease/Purchase Agreement dated as of October 28,\\n2009 by and between MAYOR AND CITY COUNCIL OF BALTIMORE, as lessee (\"Lessee\"),\\nand GRANT CAPITAL MANAGEMENT, INC., successor to First Municipal Credit\\nCorporation, as lessor (“Lessor”) (as further amended, modified and supplemented from time to\\ntime, the \"Master Lease\") and Schedule A No. 29 dated as of November 9, 2017 issued\\nthereunder (as amended, modified and supplemented from time to time, (“Schedule A No. 29”),\\nthat the Equipment referenced in Schedule A No. 29 shall be used for the following purpose:\\n\\nThe new vehicles will replace older models currently used in the City’s fleet. This\\nfinancing represents the fifth phase of the program that is expected to be implemented over the\\nnext 3-5 years.\\n\\nThe undersigned hereby further certify and represent that the use of the Equipment is\\nessential to the proper, efficient and economic operation of the Lessee\\'s governmental functions.\\n\\nDated: November 9, 2017\\n\\nMAYOR AND CITY COUNCIL OF\\nBALTIMORE,\\n\\n \\n\\ntle: Chief, Bureau of Treasury Mgmt.\\n\\n(01047850)B-1\\n11/1/2017\\n\\x0cATTACHMENT C TO SCHEDULE A NO. 29\\nCERTIFICATE OF APPROPRIATION\\n\\nWe, the undersigned Authorized Officers of the MAYOR AND CITY COUNCIL OF\\nBALTIMORE (“Lessee”), hereby certify that all Rental Payments, Additional Rents and\\nindemnifications, if any, and other sums presently due under that certain AMENDED AND\\nRESTATED MASTER EQUIPMENT LEASE/PURCHASE AGREEMENT, dated as of\\nMarch 17, 2004, as amended by a First Amendment to Amended and Restated Master Equipment\\nLease/Purchase Agreement dated as of February 26, 2009, a Second Amendment to Amended\\nand Restated Master Equipment Lease/Purchase Agreement dated as of August 6, 2009 and a\\nThird Amendment to Amended and Restated Master Equipment Lease/Purchase Agreement\\ndated as of October 28, 2009 (the \"Master Lease\"), by and between the Lessee and GRANT\\nCAPITAL MANAGEMENT, INC., successor to First Municipal Credit Corporation, as lessor\\n(“Lessor”), and Schedule A No. 29, dated as of November 9, 2017 issued thereunder (as\\namended, modified and supplemented from time to time, “Schedule A No. 29” and together with\\nthe Master Lease, the \"Lease\") for the fiscal year ending June 30, 2018 are available,\\nunexhausted, unencumbered appropriation of unobligated funds for Lessee, representing the sum\\nof its Rental Payments, Additional Rents and indemnifications, if any, owing under the Lease\\nduring such fiscal year.\\n\\nIN WITNESS WHEREOF, | have set my hand this November 9, 2017.\\n\\nMAYOR AND CITY COUNCIL OF\\nBALTIMORE,\\nas\\n\\n  \\n\\nBy:\\n\\n \\n  \\n\\nie: Jennell A. Rogers\\nle: Chief, Bureau of Treasury Mgmt.\\n\\no1047as0)C-1\\n11/1/2017\\n\\x0c11/1/2017\\n\\nATTACHMENT D TO SCHEDULE A NO. 29\\nFORM OF\\nINCUMBENCY CERTIFICATE\\nOF\\n\\nTHE MAYOR AND CITY COUNCIL OF BALTIMORE\\n\\nSEE ATTACHED\\n\\n[Please provide.]\\n\\nor047ss0) D-1\\n\\x0cMAYOR AND CITY COUNCIL OF BALTIMORE\\nINCUMBENCY CERTIFICATE\\n\\nThe undersigned officers of Mayor and City Council of Baltimore, a body politic and corporate\\nand a political subdivision of the State of Maryland, created and existing under and by virtue of the\\nConstitution and laws of the State of Maryland (the “‘City”), do hereby certify that the names and dates of\\nci or appointment, and the dates of the beginning and ending of the terms of the following offices\\nare as follows:\\n\\nDate of\\n‘Commencement Date of\\nDate of Election or of Term of Office Expiration of\\nName Appointment Term of Office\\n\\nDavid E, Ralph Aug. 24, 2016 Aug. 24, 2016 Dec. 8, 2020\\n(Interim City Solicitor)\\nSherrell D. Haynie(Alternate Sept. 29, 2011 Sept. 29, 2011 At the pleasure\\nCustodian of the City Seal) of the Director\\n\\nof Finance\\nJennell A. Rogers (Chief, Burean of March 5, 2015 March 5, 2015 At the pleasure\\nTreasury Management) of the Director\\n\\nof Finance\\n\\nIN WITNESS WHEREOF, we have hereun)\\nMayor and City Council of Baltimore to be affixed, this\\n\\n/\\n\\n    \\n   \\n \\n \\n\\nA\\n\\n   \\n\\nDavid B. Ralph, Interim City Solicitor\\nd\\n\\nLent C0 Ct hep: )\\nhnell A, Rogers , Chiet, Bureau of Treasury Management\\n\\n \\n\\n \\n\\x0c11/1/2017\\n\\nATTACHMENT E TO SCHEDULE A NO. 29\\nFORM OF\\nOPINION OF COUNSEL TO LESSEE\\n\\n[TO BE PRINTED ON LETTERHEAD OF COUNSEL TO LESSEE]\\n\\n[Please provide.]\\n\\n01087250) E- 1\\n\\x0c \\n\\nCITY OF BALTIMORE DEPARTMENT OF LAW\\nANDRE M. Davis, CITY SOLICITOR\\n\\nCATHERINE E. PUGH, 100 N, HOLLIDAY STREET\\nMayor SurTE 101, Crry HALL\\n\\nBALTIMORE, MD 21202\\n\\nNovember 9, 2017\\n\\nMayor and City Council of Baltimore\\n200 Holliday Street, Room 7\\nBaltimore, Maryland 21202\\n\\nGrant Capital Management\\n8894 Stanford Blvd., Suite 203\\nColumbia, MD 21045\\n\\nRE: Amended and Restated Master Equipment Lease/Purchase\\nAgreement dated as of March 17, 2004, as amended, and its\\nrelated Schedule A No. 29 (“Schedule A No. 29”) by and\\nbetween Grant Capital Management, Inc. (“Lessor”) and City\\nof Baltimore (“Lessee”)\\n\\nLadies and Gentlemen:\\n\\nWe have acted as counsel to Lessee with respect to (i) the Amended and Restated Master\\nEquipment Lease/Purchase Agreement dated as of March 17, 2004, as amended by the First\\nAmendment to the Amended and Restated Master Equipment Lease/Purchase Agreement dated\\nas of February 26, 2009, as amended by the Second Amendment to the Amended and Restated\\nMaster Equipment Lease/Agreement dated as of August 6, 2009 and as further amended by the\\nThird Amendment to Amended and Restated Master Equipment Lease/Purchase Agreement\\ndated as of October 28, 2009 (the “Master Lease”), (ii) Schedule A No. 29 (together with the\\nMaster Lease, the “Lease”) and (iii) various related matters, and in this capacity have reviewed a\\nduplicate original or certified copy of the Lease as well as the Escrow Agreement dated as of\\nNovember 9, 2017 among Lessor, Lessee, and Manufacturers and Traders Trust Company, as\\nescrow agent (the “Escrow Agreement”). Based upon our examination of these and such other\\ndocuments as we deem relevant, it is our opinion that:\\n\\nde Lessee is a political subdivision of the State of Maryland (the “State”), duly\\norganized, existing and operating under the Constitution and laws of the State.\\n\\n2. Lessee is authorized and has power under applicable law to enter into the Lease\\nand the Escrow Agreement and to carry out its obligations thereunder and consummate the\\ntransactions contemplated thereby.\\n\\x0cCity of Baltimore Page 2\\nGrant Capital Master Lease\\n\\n33 The Lease and the Escrow Agreement have been duly authorized, approved,\\nexecuted and delivered by and on behalf of Lessee, and are legal, valid and binding contracts of\\nLessee enforceable in accordance with their terms, except to the extent limited by State and\\nfederal laws affecting remedies and by bankruptcy, reorganization or other laws of general\\napplication relating to or affecting the enforcement of creditors’ rights.\\n\\n4, The lease/purchase by Lessee of the equipment listed on Schedule A No. 29 and\\nthe financing of such lease/purchase were approved by the Board of Estimates of Baltimore City\\nat a duly and legally called and held meeting thereof on April 26, 2017.\\n\\n5. The authorization, approval and execution of the Lease and the Escrow\\nAgreement and all other proceedings of Lessee relating to the transactions contemplated thereby\\nhave been performed in accordance with all applicable laws, rules and regulations of the State\\nand the City of Baltimore.\\n\\n6. The execution of the Lease and the Escrow Agreement and the appropriation of\\nmoneys to pay the Rental Payments (as defined in the Lease) coming due thereunder do not and\\nwill not result in the violation of any constitutional, statutory or other limitation relating to the\\nmanner, form or amount of indebtedness which may be incurred by Lessee.\\n\\nZi There is no litigation, action, suit or proceeding pending or before any court,\\nadministrative agency, arbitrator or governmental body that challenges the organization or\\nexistence of Lessee; the authority of Lessee or its officers or its employees to enter into the Lease\\nor the Escrow Agreement; the proper authorization, approval and/or execution of the Lease, the\\nEscrow Agreement and other documents contemplated thereby; the appropriation of moneys to\\nmake Rental Payments under the Lease for the current fiscal year of Lessee; or the ability of\\nLessee otherwise to perform its obligations under the Lease, the Escrow Agreement, and the\\ntransactions contemplated thereby and, to the best of my knowledge, no such litigation or actions\\nare threatened.\\n\\n8. The equipment financed by the Lease is personal property, and when used by\\nLessee will not be or become fixtures under the laws of the State.\\n\\x0cCity of Baltimore Page 3\\nGrant Capital Master Lease\\n\\nThis opinion is furnished solely for the benefit of the Lessee, Lessor and any assignee of\\nLessor’s rights and interests under the Lease and Escrow Agreement. Notwithstanding the\\nforegoing, Duane Morris LLP, Special Tax Counsel to Lessor, may rely upon the opinions\\nexpressed herein.\\n\\nRespectfully yours,\\n\\nlkQaw\\n\\nAndre M. Davis\\nCity Solicitor\\n\\n \\n\\nChief Solicitor\\n\\x0cATTACHMENT F TO SCHEDULE A NO. 29\\n\\nOPINION OF BOND COUNSEL\\n\\n[Please provide.]\\n\\n{01047850} F- 1\\n11/1/2017\\n\\x0c‘oo [Juane Morris’ ‘mar\\n\\nSINGAPORE BALTIMORE\\nPHILADELPHIA, FIRM and APFUJATE OFFICES WILMINGTON\\ncHicaco MIAMI\\nWASHINGTON, DC BOCA RATON\\nSAN FRANCISCO BRUCE HAURIST PITTSBURGH\\nSIMCON VAULEY DIRECT DIAL: +1 410 949 2918 NEWARK\\nSANDIEGO PERSONAL FAX: +1 410 949 2955 PASNEGAS\\nLOS ANGELES E-MAIL: biijurist@duanemorris.com CHERRY HILL\\nTAIWAN LAKE TAHOE\\nBOSTON wear. duanemorris.com MYANMAR\\nHOUSTON ‘OMAN\\nAUSTIN 4 GCC REPRESENTTIVE OFFICE\\nRNA OF DULISE MORRIS\\n\\nHO CHI MINH CITY ALLIANCES IN MEXICO\\n\\nAND SRI LANKA,\\n\\nNovember 8, 2017\\n\\nVIA FEDEX\\n\\nMs. Kimberly N. Brown\\n\\nAssistant Vice President/Portfolio Manager\\nGrant Capital Management\\n\\nSuite 203\\n\\n8894 Stanford Boulevard\\n\\nColumbia MD 21045\\n\\nRe: Equipment Schedule A No. 28 and Equipment Schedule A No. 29 dated\\nNovember 9, 2017, to Amended and Restated Master Equipment\\nLease/Purchase Agreement by and between Grant Capital Management,\\nInc., successor to First Municipal Credit Corporation, as Lessor and Mayor\\nand City Council of Baltimore as Lessee dated as of March 17, 2004\\n\\nDear Kim:\\nEnclosed please find (2) two originals of the each of the above referenced legal opinions.\\n\\nPlease feel free to contact me should you have any questions or concerns.\\n\\nVi ruly yours,\\n\\nBruce H. Jurist\\n\\nBHJ\\nEnclosures\\n\\nDUANE Morris tp\\n\\n \\n\\nTIT SOUTH CALVERT STREET, SUITE 2000 BALTIMORE, MD 21202 PHONE: +1 410 949 2900 FAX: +1 410 949 2901\\n\\x0cpew von uane |Vjorris’ patra\\n\\nSINGAPORE WILMINGTON\\nPHILADELPHIA FIRM and AFFILIATE OFFICES MIAMI\\nciicaco BOCA RATON\\nWASHINGTON, DC PITTSBURGH\\nSAN FRANCISCO NEWARK\\nSILICON VALLEY www.duanemorris.com LAS VEGAS\\nSAN DIEGO CHERRY HILL\\nSHANGHAI LAKE TAHOE\\nTAIWAN MYANMAR\\nBOSTON oMAN\\nHOUSTON A GCCREPRESENTATIVE OFFICE\\nOF Duss MoReUS\\n\\nLOS ANGELES\\nHANOI\\nHO CHI MINH CITY\\n\\nALLIANCES IN MEXICO\\nAND SRI LANKA,\\n\\nNovember 9, 2017\\n\\nGrant Capital Management, Inc.\\n8894 Stanford Blvd., Suite 203\\nColumbia, Maryland 21045\\n\\nCapital One Public Funding, LLC\\n275 Broadhollow Road, 4\"\" Floor\\nMelville, NY 11747\\n\\nEquipment Schedule A No. 29 dated November 9, 2017, to Amended and Restated\\nMaster Equipment Lease/Purchase Agreement by and between GRANT CAPITAL\\nMANAGEMENT, INC., successor to First Municipal Credit Corporation, as\\nLessor and MAYOR AND CITY COUNCIL OF BALTIMORE as Lessee dated as\\nof March 17, 2004.\\n\\nLadies and Gentlemen:\\n\\nYou have requested that we act as special tax counsel for the limited purpose of rendering\\nan opinion with respect to the status under federal income tax laws of a portion of the payments to\\nbe made under that certain Amended and Restated Master Equipment Lease/Purchase Agreement\\ndated as of March 17, 2004, as amended by a First Amendment to Amended and Restated Master\\nEquipment Lease/Purchase Agreement dated as of February 26, 2009, a Second Amendment to\\nAmended and Restated Master Equipment Lease/Purchase Agreement dated as of August 6, 2009\\nand a Third Amendment to Amended and Restated Master Equipment Lease/Purchase Agreement\\ndated as of October 28, 2009 (as further amended, restated, modified and supplemented from time\\nto time (the “Master Lease”), and its related Equipment Schedule A No. 29 dated as of November\\n9, 2017 (the “Schedule,” and together with the Master Lease comprising, the “Agreement”) by\\nand between Grant Capital Management, Inc., successor to First Municipal Credit Corporation\\n(“Lessor”) and the Mayor and City Council of Baltimore (“Lessee”).\\n\\nWe have reviewed copies of (i) the Master Lease; (ii) Section 1 of the Schedule, which\\ndescribes the equipment (the “Equipment”) to be leased under and subject to the Agreement; (iii)\\n\\nDUANE Morris tp\\n111 SOUTH CALVERT STREET, SUITE 2000 BALTIMORE, MD 21202 PHONE: +1 410 949 2900 FAX: +1 410 949 2901\\n\\n \\n\\x0cGrant Capital Management, Inc. uane|Viorris\\nCapital One Public Funding, LLC\\n\\nNovember 9, 2017\\n\\nPage 2\\n\\nSection 5 of the Schedule entitled “Amortization Schedule” that sets forth the rental payments to\\nbe paid with respect to the Equipment and the principal and interest component of each such rental\\npayment (the “Payment Schedule”) under the Agreement; (iv) the remaining Sections of the\\nSchedule and other pertinent exhibits to the Agreement; (v) the legal opinion, regarding the\\nSchedule, dated November 9, 2017, given by Lessee’s Department of Law, by and through the\\nCity Solicitor, Andre M. Davis, and the Chief Solicitor, JoAnn E. Levin (together, “Lessee’s\\nCounsel”) as to, among other things, Lessee being a political subdivision of the State of Maryland\\nand the Lease Documents (as herein defined) being legal, valid and binding obligations of Lessee,\\nenforceable in accordance with their terms (the “Lessee’s Counsel Opinion”); and (vi) the Escrow\\nAgreement in Connection with the Amended and Restated Master Equipment Lease/Purchase\\nAgreement by and among Manufacturers and Traders Trust Company, as escrow agent (“Escrow\\nAgent”), Lessor and Lessee, dated as of November 9, 2017 (the “Escrow Agreement”). The\\nAgreement and all such attachments, in addition to the Escrow Agreement are sometimes\\ncollectively hereinafter referred to as the “Lease Documents.”\\n\\nThe scope of our engagement as special tax counsel extends solely to an examination of\\nthe facts and law incident to rendering the tax opinions specifically expressed herein. Our\\nengagement with respect to this matter has concluded with the issuance of this opinion letter, and\\nwe disclaim any obligation to update this opinion letter. We have assumed (i) that all documents\\nsubmitted to us as copies conform to the originals, (ii) the genuineness of the signatures appearing\\non the Lease Documents, (iii) the accuracy of the representations and certifications, (iv) the\\ncontinuous compliance with the covenants made by Lessee therein, and (v) the binding effect of\\neach of the Lease Documents on the parties thereto, We have assumed that Lessee has complied\\nwith, and will continue to comply with, its tax representations and covenants under the Agreement\\nand its Tax and Section 148 Certificate (the “Tax Certificate”), and we have relied on such\\nrepresentations and covenants and Lessee’s compliance therewith in rendering our opinions.\\nFurther, we have assumed, without adopting as our own opinion and without any investigation,\\nthe correctness of those opinions expressed in the Lessee’s Counsel Opinion with respect to,\\namong other matters, the Lease Documents being legal, valid and binding obligations of Lessee\\nenforceable in accordance with their terms, and Lessee being a political subdivision of the State of\\nMaryland; and further have relied thereupon in rendering our opinions herein.\\n\\nUnless the context clearly indicates otherwise, each capitalized term used herein shall have\\nthe meaning set forth in the Lease Documents.\\n\\nIn accordance with the Lease Documents, Lessor has agreed to finance for Lessee the\\nacquisition of the Equipment, by depositing or causing to be deposited $18,891,630 into the\\n“Mayor and City Council of Baltimore Equipment Acquisition Account” established by, and with,\\nthe Escrow Agent under the Escrow Agreement. Such amount, together with the interest earnings\\nthereon, are expected to be fully spent within twelve (12) months from the date hereof, on the\\npurchase of the Equipment. Lessee has covenanted in the Agreement and the Tax Certificate to\\nfully comply with all applicable provisions of the Internal Revenue Code of 1986, as amended (the\\n“Code*), including without limitation Sections 103 and 141-150, and the applicable regulations of\\n\\x0cGrant Capital Management, Inc. I yuane Vfor: ris\\n\\nCapital One Public Funding, LLC\\nNovember 9, 2017\\nPage 3\\n\\nthe Treasury Department to maintain the exclusion of the Interest Component (as hereinafter\\ndefined) from gross income for federal income tax purposes. The Agreement and its Payment\\nSchedule reflect that Lessee is leasing the Equipment from Lessor, and undertaking to make twelve\\n(20), consecutive, equal, semiannual, rental payments, consisting of both principal and interest, in\\nthe amount of $1.100.264.54, with the first payment on May 1, 2018, and the last payment on\\nNovember 1, 2027. The Payment Schedule references a portion of each rental payment being paid\\nas, and representing payment of, interest (the “Interest Component”), and also sets forth the then-\\napplicable optional Purchase Price, which amount decreases as each rental payment is made\\n(reflecting the reduced principal balance outstanding). After all rental payments are made, the\\nPurchase Price will be $0.00. Title to the Equipment will vest immediately upon acceptance by\\nLessee, subject to the rights of Lessor under the Agreement.\\n\\nBased on the foregoing, it is our opinion that:\\n\\n(1) The Interest Component is excluded from gross income for federal income tax\\npurposes under Section 103(a) of the Code. It should be noted that the Code imposes certain\\nrestrictions that must be met subsequent to the execution and delivery of the Agreement in order\\nfor the Interest Component to remain excluded from gross income for federal income tax purposes.\\nA number of these restrictions, including without limitation, arbitrage rebate and private use\\nrestrictions, must be complied with throughout the term of the Agreement. Failure to comply with\\none or more of the restrictions could result in the inclusion of the Interest Component in gross\\nincome for federal income tax purposes, retroactive to the execution and delivery date of the\\nAgreement. Lessee has covenanted to comply with such restrictions and for purposes of this\\nopinion, we have relied on Lessee’s covenants and assumed its compliance therewith, and\\nassuming such compliance, we are of the opinion that the Interest Component will remain excluded\\nfrom gross income for federal income tax purposes under Section 103(a) of the Code.\\n\\n(2) The Interest Component is not an item of tax preference for purposes of the federal\\nalternative minimum tax imposed on individuals and corporations.\\n\\nThis opinion is for the sole benefit of Lessor and Capital One Public Funding, LLC, and\\nmay only be relied upon by any other permitted assignee or subassignee of all of Lessor’s right,\\ntitle and interest in and to the Agreement. The opinions expressed in this letter are limited to the\\nmatters set forth in this opinion letter, and no other opinions should be inferred beyond the matters\\nexpressly herein stated.\\n\\nVery truly yours,\\n\\n> NV Lewy\\n\\x0cATTACHMENT G TO SCHEDULE A NO. 29\\n\\nAUTHORIZING RESOLUTION OF LESSEE\\n\\n[Please provide.]\\n\\no1047850)G- 1\\n11/1/2017\\n\\x0c“tue. |Erin Sher Smyth, Esq., CPPO, City Purchasing Asti — CITY of\\n\\n——\\nBALTIMORE\\n\\n       \\n\\n \\n\\n|Bureau of Purchases (410) 396-5700\\n|231 East Baltimore Street, Suite 300 MW E iW oO\\n\\n““\"| Request for Authorization to Seek Master Lease OGY S oT\\nFinancing for Vehicle Procurement. Cee. -\\n\\nDATE:\\n\\nHonorable President and Members April 20, 2017\\nof the Board of Estimates\\nDear President and Members:\\nACTION REQUESTED OF BYE:\\nThe Board is requested to authorize the Department of Finance to seek Master Lease. financing for.the.\\npurchase of vehicles, to be awarded to vendors in separate solicitations with subsequent board\\napproval as required.\\nAMOUNT OF MONEY AND SOURCE OF FUNDS:\\n$22,706,030.00 City’s Master Lease through the Bureau of Treasury Management\\nThe total cost will be financed through the City’s Master Lease program administered by the Bureau\\nof Treasury Management,\\n\\n\\\\CKG! A\\n\\nOn March 13, 2013, the Board approved the City’s use of a Master Lease vehicle financing approach,\\nas part of the City’s 10-Year Financial Plan. The second round of financing under this plan was\\napproved on April 2, 2014, the third round was approved on June 17, 2015, and the fourth round of\\nfinancing was approved on June 29, 2016. This is the fifth round of such financing. The awards for\\nprovision of specific vehicles have already received Board approval, or approval wil] be sought as\\nrequired. This request for Board approval authorizes the financing of the future purchase of the\\nfollowing vehicles by gross vehicular weight (GVW) class.\\n\\n   \\n\\n     \\n\\nVehicle Count Estimated Costs\\n\\n6-¥. A\\n\\n<8,500 GVW 83 $ 1,626,000.00\\n\\n8,501- 10,000 GVW 5 S$ 187,000.00\\n\\n14,001 — 16,000 GVW 9 S 1,890,000.00\\n\\nSpecialty Equipment 5 $ 111,400.00\\n1 T\\n\\n<8500 GVW 16 $453,000.00\\n\\n8501- 10,000 GVW 3 $104,000.00\\n\\n14,001- 16,000 GVW 2 $510,000.00\\n\\n19,501- 26,000 GVW 6 $780,000.00\\n\\n26,001- 33,000 GVW 25 $4,250,000.00\\n\\n> 33,000 GVW 43 $9,164,891.00\\n\\nSpecialty Equipment 66 $3,629,739.00 - TRONTON\\n\\nPRUVED FOR TUNES\\nTotal Financing Amount 263 $22,706,030.00\\n; yp AF \"CRe\\nAPPROVED BY BOARD OF ESTIMATES 1) i; oe\\nv &\\n+ Oh { Es\\n\\nDATE APR 2 CLERK ESS: SAF 40592\\n\\x0cFY2018 Master Lease Financing for Vehicle Procurement\\n\\n6-Year Tranche Total\\n< 8500 GVW\\n\\n8501- 10,000 GVW\\n14,001- 16,000 GVW\\nSpecialty Equipment\\n\\n10-Year Tranche Total\\n< 8500 GVW\\n\\n8501- 10,000 GVW\\n14,001- 16,000 GVW\\n19,501- 26,000 GVW\\n26,001- 33,000 GVW\\n> 33,000 GVW\\nSpecialty Equipment\\n\\nTotal Financing Amount\\n\\nVehicle Count Estimated Costs\\n\\n102\\n\\n61\\n\\nVehicle Count Estimated Costs\\n\\n16\\n3\\n2\\n6\\n\\n   \\n\\n$3,814,400.00\\n\\n$18,891,630,00\\n$453,000.00 —\\n\\n \\n  \\n\\n \\n   \\n  \\n\\x0cATTACHMENT I TO SCHEDULE A NO. 29\\n\\nIRS Form 8038-G.\\n\\n(01047850) H-2.\\n11/1/2017\\n\\x0cInformation Return for Tax-Exempt Governmental Obligations\\n» Under Internal Revenue Code section 149(e)\\n> See separate instructions.\\nCaution: /f the issue price is under $100,000, use Form 8038-GC.\\n\\nIf Amended Return, check here >\\n\\nrom 8038-G\\n\\n(Rev. September 2011)\\n\\nDepartment of the Treasury\\nintemal Revenue Service\\n\\nReporting Authority\\n\\n      \\n\\nOMB No. 1545-0720\\n\\n  \\n \\n\\n     \\n      \\n\\n       \\n\\n \\n\\n \\n\\n \\n\\n \\n\\n \\n\\n \\n\\n \\n\\n \\n\\n \\n\\n \\n\\n \\n\\n1 Issuer\\'s name 2 Issuer\\'s employer identification number (EIN)\\nMayor and City Council of Baltimore 52-6000769\\n\\n‘Sa Name of person (other than issuer) with whom the IRS may communicate about this return (see instructions) ‘3b Telephone number of other person shown on 3a\\nJennell A. Rogers 410-396-3386\\n\\n4 Number and street (or P.O. box if mail is not delivered to street address) Room/suite | 5 Report number (For IRS Use Only)\\n200 Holliday Street 1 [3] |\\n\\n6 ity, town, or post office, state, and ZIP code 7 Date of issue\\nBaltimore, Maryland 21202 November 9, 2017\\n\\n8 Name of \\'ssU° Master Equip. Lease-Purchase Agreement dated 03/17/04, Sch 29 2 ene\\n\\ndated 11/09/17\\n10a Name and title of officer or other employee of the issuer whom the IRS may call for more information (see 10b Telephone number of officer or other\\ninstructions) ‘employee shown on 10a\\n\\nJennell A. Rogers, Chief, Bureau of Treasury Management 410-396-3386\\n\\n \\n\\nType of Issue (enter the issue B ‘ice). See the instructions and attach schedule.\\n\\n \\n\\n \\n\\n \\n\\n \\n\\n \\n\\n \\n\\n \\n\\n \\n\\n \\n\\n \\n\\n \\n\\n \\n\\n \\n\\n \\n\\n \\n\\n \\n\\n11 Education. ©. . 2... 2... rr re er re ee 11\\n12  Healthandhospitl 2. 2 6 2. ee ee 12\\n13 Transportation . 2. 2] / we ee 13\\n14 Publicsafety. . . . eee EK HI SE RR ee we 14\\n15 — Environment (including sewage bonds) . ee RHR BE KS GBA wD 15\\n16 Housing 2 2. 2 2 ee 16\\n17 Utilities 2. . an use ee BRB eS 17\\n18 Other. Describe > “Vehicles: for provision of citywide services 18 18,891,630] 00\\n19 If obligations are TANs or RANs, check onlybox 19a. - 7 - ee ee ee\\n\\nIf obligations are BANs, check only box19b . . . . eae neva co\\n20 ‘If obligations are in the form of a lease or installment sale, check box cas ne we oe\\n\\n \\n\\n \\n\\n \\n\\n \\n\\nDescription of Obligations. Complete for the entire issue for which this form is being filed.\\n(¢) Stated redemption {d) Weighted\\n\\n \\n\\n \\n\\n \\n\\n \\n\\n \\n\\n \\n\\n \\n\\n \\n\\n \\n\\n \\n\\n \\n\\n \\n\\n(a) Final maturity date (b) Issue price price at maturity average maturity (e) Yield\\n\\n21 11/01/2027 19,258,327.; 27] $ 18,891,630.00} 5.4729 years 2.621 %\\nUses of Proceeds of Bond Issue (i including underwriters’ discount)\\n22 Proceeds used for accrued interest 7 : - 22\\n23 Issue price of entire issue (enter amount from line 21, * column (o)) a se ge 23 | 19,258,327.27| 00\\n24 — Proceeds used for bond issuance costs (including underwriters’ discount) . 24 366,697| 27]\\n25 Proceeds used for credit enhancement . . . . . (25 | |_|\\n26 Proceeds allocated to reasonably required reserve or r replacement fund si | 26 | ||\\n27 Proceeds used to currently refund prior issues we ee ||\\n28 Proceeds used to advance refund prior issues [28 | |\\n29 Total (add lines 24 through 28). . . . arene 29 366,697) 27\\n30 ~Nonrefunding proceeds of the issue (subtract line 29 ‘from line. 23 and enter amount here) 30 18,891,630] 00\\nDescription of Refunded Bonds. Complete this part only for refunding bonds.\\n\\n31 Enter the remaining weighted average maturity of the bonds to be currently refunded. . . . > years,\\n32 — Enter the remaining weighted average maturity of the bonds to be advance refunded. . . . PB years,\\n\\n33 — Enter the last date on which the refunded bonds will be called (MM/DD/YYYY) . . . . . - P&\\nEnter the date(s) the refunded bonds were issued P (MM/D!\\nFor Paperwork Reduction Act Notice, see separate instructions. Cat. No. 637738 Form 8038-G (Rev. 9-2011)\\n\\n \\n\\x0cForm 8038-G (Rev. 9-201) Page 2\\n\\nMiscellaneous\\n\\n \\n\\n \\n\\nEnter the amount of the state volume cap allocated to the issue under section 141(b)(5) . . . . 35\\nEnter the amount of gross proceeds invested or to be invested in a guaranteed investment contract\\n(GIC) (see instructions) . . . . . ee oe er 36a\\n\\n \\n\\nEnter the final maturity date of the GIC >\\n\\nEnter the name of the GIC provider >\\n\\nPooled financings: Enter the amount of the Proceeds of this issue that are to be used to make loans\\nto other governmental units. . . . 37\\nIf this issue is a loan made from the proceeds of another tax- x-exempt issue, >, check box > “Jand enter the following information:\\nEnter the date of the master pool obligation >\\n\\nEnter the EIN of the issuer of the master pool obligation >\\nEnter the name of the issuer of the master pool obligation >\\n\\n \\n\\n \\n\\n \\n\\n \\n\\n \\n\\n \\n\\n \\n\\n \\n\\n \\n\\n \\n\\n \\n\\n \\n\\n \\n\\n \\n\\n \\n\\n \\n\\n \\n\\n \\n\\n \\n\\n \\n\\n \\n\\nIf the issuer has designated the issue under section 265(b)(3)(B)(i)(III) (small issuer exception) check box >\\n\\nIf the issuer has elected to pay a penalty in lieu of arbitrage rebate, check box . > Fok >\\n\\nIf the issuer has identified a hedge, check here > and enter the following information:\\n\\nName of hedge provider >\\n\\nType of hedge >\\n\\nTerm of hedge >\\n\\nIf the issuer has superintegrated the hedge, check box. . . >\\n\\nIf the issuer has established written procedures to ensure that all ‘nonqualified bonds ‘of “this issue are , remediated\\naccording to the requirements under the Code and Regulations (see instructions), checkbox . . . .--.. PF\\nif the issuer has established written procedures to monitor the requirements of section 148, checkbox. . . . . »\\n\\n \\n\\n \\n\\n \\n\\n \\n\\nIf some portion of the proceeds was used to reimburse expenditures, check here > and enter the amount\\nofreimbursement . . - >\\nEnter the date the official intent was .s adopted >\\n\\n \\n\\nUnder penalties of perjury, | declare that | have examined this retum and accompanying schedules and statements, and to the best of my knowledge\\n\\nSignature | and belief, they are true, correct, and complete. | further declare that | consent to the IRS\\'s disclosure of the issuer\\'s retum information, as necessary to\\n\\nreturn, to the person that | have a\\n\\n \\n \\n  \\n\\n \\n\\n \\n\\n \\n    \\n\\n \\n\\n \\n\\n \\n\\n \\n\\n \\n\\n \\n\\nand\\nConsent Jennell Rogers, Chief, Treasury\\nire of issuer\\'s authorized representati Date Type or print name and title\\nPaid preparers name Preparer\\'s signature Date rs PTIN\\ni self\\nPreparer |BtuceH. Jurist _ romployed| —_PO1618211\\nFirm\\'sname _> Duane Morris LLP [Firm\\'s EIN > 23-139250\\n\\n \\n\\n \\n\\nUse Only .\\nFir \\\\ddress ® _111S. Calvert Street, Baltimore, MD 21202 Phone 410-949-2918\\n\\nForm 8038-G (Rev. 9-2011)\\n\\x0cATTACHMENT J TO SCHEDULE A NO. 29\\nCROSS-RECEIPT\\n\\nWith respect to the AMENDED AND RESTATED MASTER EQUIPMENT\\nLEASE/PURCHASE AGREEMENT, dated as of March 17, 2004, as amended by a First\\nAmendment to Amended and Restated Master Equipment Lease/Purchase Agreement, dated as\\nof February 26, 2009, a Second Amendment to Amended and Restated Master Equipment\\nLease/Purchase Agreement, dated as of August 6, 2009 and a Third Amendment to Amended\\nand Restated Master Equipment Lease/Purchase Agreement dated as of October 28, 2009 the\\n“Master Lease”) by and between Grant Capital Management, Inc., successor to First Municipal\\nCredit Corporation, as lessor (“Lessor”) and MAYOR AND CITY COUNCIL OF\\nBALTIMORE, as lessee (“Lessee”) and Schedule A No. 29, dated as of November 9, 2017 to\\nthe Master Lease (as amended, modified and supplemented from time to time, \"Schedule A No.\\n29\"):\\n\\nila Lessor hereby acknowledges the lease to the Lessee of the Equipment listed on\\nSchedule A No. 29 and receipt from Lessee of Schedule A No. 29 dated as of the date hereof.\\n\\n2. Lessee hereby acknowledges the lease of the Equipment pursuant to the Master\\nLease and Schedule A No. 29.\\n\\nDated: November 9, 2017\\n\\n \\n\\nGRANT CAPITAL MANAGEMENT, INC.,\\nas Lessor\\n\\n \\n\\nMAYOR AND CITY COUNCIL OF\\nBALTIMORE,\\n\\n \\n\\ntle: Chief, Bureau of Treasury Mgmt.\\n\\no1047a50)J~1\\n11/1/2017\\n\\x0cMAYOR AND CITY COUNCIL OF BALTIMORE\\nAMENDED AND RESTATED\\nMASTER EQUIPMENT LEASE/PURCHASE AGREEMENT\\n(Dated March 17, 2004)\\n\\nas amended by a FIRST AMENDMENT TO AMENDED AND RESTATED MASTER\\nEQUIPMENT LEASE/PURCHASE AGREEMENT dated February 26, 2009; a SECOND\\nAMENDMENT TO AMENDED AND RESTATED MASTER EQUIPMENT\\nLEASE/PURCHASE AGREEMENT dated August 6, 2009 and a THIRD AMENDMENT TO\\nAMENDED AND RESTATED MASTER EQUIPMENT LEASE/PURCHASE AGREEMENT\\ndated as of October 28, 2009\\n\\nSchedule A No. 29\\n(Dated November 9, 2017)\\n\\nTAX AND SECTION 148 CERTIFICATE\\n\\nFor and on behalf of the Mayor and City Council of Baltimore, a body politic and\\ncorporate and a political subdivision of the State of Maryland (the “City”), JENNELL A.\\nROGERS, its Chief of the Bureau of Treasury Management, hereby certifies, represents and\\ncovenants that:\\n\\nI Arbitrage Certifications\\n\\n1. Certain defined terms used herein shall have the meanings given such terms on\\nSchedule 1 attached hereto and made a part hereof.\\n\\n2: (a) Part I of this Certificate is being executed and delivered pursuant to\\nSection 148 of the Code and the Arbitrage Regulations. I am one of the officers of the City\\nresponsible for the execution and administration of the Mayor and City Council of Baltimore\\nAmended and Restated Master Equipment Lease/Purchase Agreement dated as of March 17,\\n2004, as amended by a First Amendment to Amended and Restated Master Equipment\\nLease/Purchase Agreement dated February 26, 2009; a Second Amendment to Amended and\\nRestated Master Equipment Lease/Purchase Agreement dated August 6, 2009 and a Third\\nAmendment to Amended and Restated Master Equipment Lease/Purchase Agreement dated as of\\nOctober 28, 2009 (collectively, the “Master Lease”) by and between Grant Capital Management,\\nInc., as lessor (the “Lessor”) and the City, as lessee, and Schedule A No. 29, relating thereto,\\naggregating $18,891,630 in principal amount (the “Schedule,” and the Schedule together with\\nthe Master Lease being referred to herein as the “Lease”). I am familiar with the facts,\\ncircumstances, and estimates herein certified, and am duly authorized to execute and deliver this\\nCertificate on behalf of the City.\\n\\n(b) The Schedule refers to the acquisition of various motor vehicles as part of\\nthe City’s Vehicle Fleet Replacement Program (collectively, the “Equipment”) to be acquired by\\nthe City pursuant to the agreement between the City and the vendor(s) of the Equipment (the\\n“Contractor”).\\n\\nDM3\\\\994485.22\\n\\x0c3. This Certificate may be relied upon as the certificate of the City.\\n\\n4, Part I of this Certificate is based upon facts, circumstances, estimates and\\nexpectations of the City in existence on November 9, 2017, the date on which the Lease was\\nexecuted and delivered in exchange for the purchase price thereof, and to the best of our\\nknowledge and belief, as of this date, such facts, circumstances and estimates are true and correct\\nand such expectations are reasonable.\\n\\n5. The City covenants that it will not create any sinking funds or pledged funds\\n(within the meaning of Income Tax Regulations Section 1.148-1(b)) except for a fund or funds\\nthat constitute a bona fide debt service fund (within the meaning of Income Tax Regulations\\nSection 1.148-1(b)).\\n\\n6. The Lease was purchased on the date hereof by the Lessor for the purchase price\\nof $18,891,630 (without any payment in respect of accrued interest) and assigned at a premium\\nto Capital One Public Funding, LLC.\\n\\nle (a) | The Lease provides for the year-to-year lease of the Equipment with\\nsuccessive yearly renewals. All lease payments will, to an extent, add to the City’s accumulated\\nequity in the Equipment. The City, at its option may purchase the Equipment on any rental\\npayment date. The optional purchase price of the Equipment decreases with each rental\\npayment. The City will own the Equipment without additional payment following the final\\nrental payment noted in the amortization schedule included in the Schedule.\\n\\n(b) The initial lease term with respect to the Lease shall commence on\\nNovember 9, 2017 and expire on the last day of the City’s fiscal year including such\\ncommencement date (June 30, 2018). Successive annual renewals will automatically come into\\nplace, the last of which shall culminate on November 1, 2027, unless the Schedule is earlier\\nterminated pursuant to the terms of the Lease. The Lease may be terminated if, in any fiscal year\\nof the City, funds are not appropriated or are not otherwise available for making Rental\\nPayments (as defined in the Lease). The City expects that moneys will be appropriated annually\\nfor the payment of the Rental Payments under the Lease.\\n\\n8. Rental Payments will be made from the general fund of the City appropriated to\\nsuch use. The City does not expect that any sinking fund or other similar fund for the payment\\nof the principal of and interest on the Lease will be created or established.\\n\\n9. (a) The Lessor, the City and Manufacturers and Traders Trust Company, as\\nescrow agent (the “Escrow Agent”) have entered into an Escrow Agreement dated November 9,\\n2017 (the “Escrow Agreement”) in connection with the Amended and Restated Master\\nEquipment Lease/Purchase Agreement dated as of March 17, 2004, as amended, between the\\nLessor and the City. Under the terms of the Escrow Agreement, the Lessor will deposit the\\naggregate sum of $18,891,630 with the Escrow Agent. Pursuant to the Escrow Agreement, the\\nEscrow Agent shall establish a special fund entitled the “Mayor and City Council of Baltimore\\nEquipment Acquisition Account” (the “Escrow Fund”). All investment earnings on moneys in the\\nEscrow Fund will remain deposited in the Escrow Fund.\\n\\nDM3\\\\994485.22\\n\\x0c(b) The moneys on deposit in the Escrow Fund, including any investment\\nearnings, will be used to pay for the costs of the Equipment.\\n\\n(c) The moneys in the Escrow Fund may be invested without restriction as to\\nrate of return until November 9, 2020. The City expects that all of the moneys in the Escrow\\nFund, including interest earnings thereon, will be used to finance all or a portion of the costs of\\nthe Equipment on or before November 9, 2018.\\n\\n10. The City does not expect to sell or otherwise dispose of the Equipment, in whole\\nor in part, at a date which is significantly earlier than the last possible rental payment date of the\\nLease (as set forth in the Schedule).\\n\\ni. Exempt Use Certifications\\n\\n11. (a) ~— No more than ten percent (10%) of the Lease shall constitute an obligation\\nor obligations (i) the proceeds of which will be used (directly or indirectly) in any trade or\\nbusiness carried on by any person other than a “governmental unit” within the meaning of\\nSection 141(b)(6) of the Code (such use by a person other than a governmental unit being\\nreferred to herein as “private use”), and (ii) the payment of the principal or interest on which is\\n(under the terms of the Lease or any underlying arrangement) directly or indirectly (A) secured\\nby any interest in property used (directly or indirectly) in a trade or business or in payments with\\nrespect to such property or (B) to be derived from payments (whether or not to the City) in\\nrespect of property, or borrowed money, used or to be used (directly or indirectly) in a trade or\\nbusiness. For the purposes of the foregoing, management and service contracts which comply\\nwith the guidelines set forth in Revenue Procedure 2017-13 (the “Guidelines”) shall not be\\ndeemed a use within the meaning of (i) above.\\n\\n(b) The amount of “private use” of the Lease proceeds and investment\\nearnings thereon relating to the Equipment will not exceed the amount of use of such proceeds\\nby a “governmental unit”.\\n\\n12. None of the proceeds of the Lease are to be used (directly or indirectly) to make\\nor finance any loans to nongovernmental entities or to any governmental agencies other than the\\nCity.\\n\\n13. Each cost of the Equipment represents a capital expenditure. The Contractor is\\nbeing paid for the Equipment from the proceeds of the Lease.\\n\\n14. [Intentionally Omitted]\\n\\n15. The purchase price of the Equipment represents the fair market value for such\\nequipment.\\n\\n16. [Intentionally Omitted]\\n\\n17. [Intentionally Omitted]\\n\\nDM3\\\\994485,22\\n\\x0cUl. Federal Guarantee Certifications\\n\\n18. Except as specifically set permitted under Section 149(b) of the Code, (a) the\\npayment of the principal or interest on the Lease is not directly or indirectly guaranteed (in whole\\nor in part) by the United States or an agency or instrumentality thereof, and (b) no portion of the\\nproceeds of the Lease shall be (i) used in making loans the payment of principal or interest with\\nrespect to which are to be guaranteed (in whole or in part) by the United States or any agency or\\ninstrumentality thereof, or (ii) invested (directly or indirectly) in federally insured deposits or\\naccounts (being any deposit or account in a financial institution to the extent insured under\\nfederal law by the Federal Deposit Insurance Corporation, the National Credit Union\\nAdministration, or any similar federally-chartered corporation).\\n\\n19. The certifications set forth in Paragraph 18 shall not apply to (a) proceeds of the\\nLease invested for an initial temporary period until such proceeds are needed for the purposes of\\nthe issue, (b) investments in a bona fide debt service fund, (c) investments in obligations issued.\\nby the United States Treasury, or (d) other investments permitted under regulations promulgated\\nby the United States Treasury.\\n\\nIV. Rebate and Reimbursement Certifications\\n\\n20. The City has authorized its officers, employees and agents to take such actions\\nregarding the amount and use of the proceeds of the Lease as may be necessary or appropriate to\\ncomply with or to evidence the City’s compliance with such covenant. In accordance with such\\ncovenant, the City shall comply with the procedures described in Section IV of this Certificate;\\nprovided, however, that the City shall be permitted to comply with alternate procedures specified\\nin any supplement to this Certificate, but only if the City shall be advised by nationally\\nrecognized bond counsel that compliance with such alternate procedures will not adversely affect\\nthe exclusion of interest portion of the Rental Payments from gross income for federal income\\ntax purposes.\\n\\n21. For the purposes of this Certificate, “Gross Proceeds” shall have the meaning\\ngiven that term in the Arbitrage Regulations and, so long as the expectations set forth in this\\nSection 148 Certificate are realized, shall refer to proceeds of the Lease on deposit in the Escrow\\nFund, including any investments acquired with such proceeds and any investment earnings\\nderived therefrom.\\n\\n22. (a) In accordance with the requirements of subparagraph (b) below, the City\\nshall pay to the United States:\\n\\n(1) An amount which, when added to the future value, as of the\\nComputation Date, of all previous rebate payments made with respect to the Lease, equals at\\nleast ninety (90) percent of the Rebate Amount as of such date; and\\n\\n(2) An amount which, when added to the future value, as of the Final\\nComputation Date, of all previous rebate payments made with respect to the Lease, equals one\\nhundred (100) percent of the Rebate Amount as of such date.\\n\\n(b) For purposes of subparagraph (a) above:\\n\\nDM3\\\\994485.22\\n\\x0c(1) Each rebate installment shall be paid no later than the date 60 days\\nafter the Computation Date to which it relates;\\n\\n(2) The final rebate shall be paid no later than 60 days after the Final\\nComputation Date;\\n\\n(3) Any rebate payment paid within the aforementioned 60 day\\nperiods may be treated as paid on the Computation Date to which it relates; and\\n\\n(4) A rebate amount shall be paid when filed with the Internal\\nRevenue Service Center at the address then listed in the instructions to Form 8038-T,\\naccompanied by a Form 8038-T.\\n\\n23. (a) ~— The yield and value of Nonpurpose Investments shall be determined in\\naccordance with the requirements of Section 1.148-5 of the Arbitrage Regulations.\\n\\n(b) The City shall not invest Gross Proceeds in a certificate of deposit, an\\ninvestment contract or a yield-restricted defeasance escrow unless it shall have obtained the\\ncertificates and otherwise complied with the procedures applicable to the purchase of such\\ninstruments in Sections 1.148-5(d)(6)(ii) and 1.148-5(d)(6)(iii) of the Arbitrage Regulations.\\n\\n24. The City will maintain certain information with respect to each investment of\\nGross Proceeds. This information will include (a) the purchase date of each investment, (b) the\\npurchase price, (c) any accrued interest paid, (d) face amount, (e) coupon rate, (f) periodicity of\\ninterest payments, (g) disposition price, (h) any accrued interest received, (i) disposition date, (j)\\nany administrative costs and qualified administrative costs (as such terms are used in Section 1\\nof the Arbitrage Regulations) or other expenses incurred in connection with an investment of\\nGross Proceeds, (k) if the investment is a certificate of deposit or an investment contract, certain\\nadditional certificates and information as required by the Arbitrage Regulations, and (1) such\\nother information regarding the present value or the Fair Market Value of Nonpurpose\\nInvestments as shall be required to comply with the requirements as herein set forth. The City\\nshall maintain such information until six (6) years after the final maturity of the Lease.\\n\\n25. [Intentionally Omitted]\\n\\n26. = (a) Amounts will not be disbursed from the Escrow Fund, except for direct\\npayment to a third party for goods or services rendered and authorized to be paid from the\\nproceeds of the Lease or, to the extent that there are proceeds in excess of the cost to acquire the\\nEquipment, to pay a portion of the interest portion of the Rental Payments.\\n\\n(b) For the purposes of the foregoing, an expenditure of proceeds in a\\nchecking or similar account may be treated as made:\\n\\n(1) on the date a negotiable check is written on the account if the\\ncheck is reasonably expected to be delivered or mailed no later than three business days after\\nsuch date; or\\n\\nDM3\\\\994485.22\\n\\x0c(2) on the date the check is delivered or mailed, if the payor has no\\nreason to believe that the check will not clear within a reasonable period of time thereafter.\\n\\n27. (a) With respect to amounts of the Lease proceeds applied to pay costs paid\\nprior to November 9, 2017 (the “Reimbursable Expenditures”), the City has complied with the\\nrequirements of Section 1.150-2, applicable to the Reimbursable Expenditures, such that:\\n\\nqd) such reimbursement constitutes a Reimbursement Allocation;\\n\\n(2) such reimbursement complies with the official intent requirement\\nset forth in Sections 1.150-2(d)(1) and 1.150-2(e) of the Arbitrage Regulations or as a\\npreliminary expenditure under Section 1.150-2(f)(2) of the Arbitrage Regulations;\\n\\n(3) such reimbursement complies with the reimbursement period\\nrequirement set forth in Section 1.150-2(d)(2) of the Arbitrage Regulations; and\\n\\n(4) such reimbursement complies with the nature of expenditure\\nrequirement set forth in Section 1.150-2(d)(3) of the Arbitrage Regulations.\\n\\n(b) No portion of any amount applied to reimbursement as described in\\nsubparagraph (a) above has been or will be used (i) within one year after the Reimbursement\\nAllocation to create Replacement Proceeds of the Lease or another issue of tax-exempt\\nobligations, or (ii) to employ an abusive arbitrage device under Section 1.148-10(a) of the\\nArbitrage Regulations.\\n\\nVv. Miscellaneous\\n\\n28. The City has not sold (on a tax-exempt basis) within the preceding 15 days and\\ndoes not expect to sell within the next 15 days any other obligation or obligations pursuant to a\\ncommon plan of financing with the Lease. The City is selling obligations under Schedule A No.\\n28 to the Master Lease, to finance different discrete equipment under a separate plan of financing\\nto a different ultimate assignee, at a different interest rate and secured by separate collateral.\\n\\n29. The proceeds of the Lease will not be used in whole or in part to pay the principal\\nof or interest on any other tax-exempt or taxable obligations.\\n\\n30. The weighted average maturity of the Lease does not exceed 120 percent of the\\naverage reasonably expected economic life of the assets being financed or refinanced with the\\nproceeds of the Lease.\\n\\n[Signatures on following Page]\\n\\nDM3\\\\994485.22\\n\\x0cIN WITNESS WHEREOF, we have executed this Tax and Section 148 Certificate on\\nbehalf of the Mayor and City Council of Baltimore, as of this go\" day of November, 2017.\\n\\nMAYOR AND CITY COUNCIL OF\\n\\nBALTIMORE\\nell A. Rogers, Mes,\\n\\nureau of Treasury Management\\n\\nWitness:\\n\\naf he\\nah Bys\\n\\n \\n    \\n\\nDM3\\\\994485.22\\n\\x0cExhibit A to\\nTax and Section\\n148 Certificate\\n\\nMAYOR AND CITY COUNCIL OF BALTIMORE\\nAMENDED AND RESTATED\\nMASTER EQUIPMENT LEASE/PURCHASE AGREEMENT\\n(Dated March 17, 2004)\\n\\nCERTIFICATE OF LESSOR\\n\\nGrant Capital Management, Inc., successor to First Municipal Credit Corporation (the\\n“Lessor”), hereby certifies as follows in connection with the Amended and Restated Master\\nEquipment Lease/Purchase Agreement dated as of March 17, 2004 between Lessor and the\\nMayor and City Council of Baltimore (the \"Lessee\"), as amended by a First Amendment to\\nAmended and Restated Master Equipment Lease/Purchase Agreement dated February 26, 2009,\\na Second Amendment to Amended and Restated Master Equipment Lease/Purchase Agreement\\ndated August 6, 2009, and a Third Amendment to Amended and Restated Master Equipment\\nLease/Purchase Agreement dated as of October 28, 2009 (the “Master Lease”), and Schedule A\\nNo. 29 dated November 9, 2017, relating thereto (the “Schedule A No. 29”; the Master Lease\\nand Schedule A No. 29, being referred to herein as the “Lease”):\\n\\n1. On the date hereof, the Lessor has acquired its interest in the Lease for the\\npurchase price of $18,891,630.00. No payment was made in respect of accrued interest on the\\nLease.\\n\\n \\n\\n2. The Lessor acknowledges that any reoffering of the Lease must comply\\nwith the terms of the Lease.\\n\\n3. As of the date hereof, the Lease was assigned for $19,258,327.27.\\n4. The fair market value of the Lease on the date hereof is $19,258,327.27.\\n\\nIN WITNESS WHEREOF, I have executed this Certificate as of the 9th day of November, 2017.\\n\\nGRANT CAPITAL MANAGEMENT, INC.\\n\\n \\n\\n{01047866}\\n\\nFinal Certificate of Lessor: 11/8/2017\\n1010-2.\\n\\x0cESCROW AGREEMENT\\nIN CONNECTION WITH THE AMENDED AND RESTATED MASTER EQUIPMENT\\nLEASE/PURCHASE AGREEMENT\\nDATED MARCH 17, 2004, AS AMENDED, BETWEEN\\nGRANT CAPITAL MANAGEMENT, INC.\\nAND\\nMAYOR AND CITY COUNCIL OF BALTIMORE\\n\\nTHIS ESCROW AGREEMENT (the “Agreement”) is made and entered into as of November\\n9, 2017 by and among MANUFACTURERS AND TRADERS TRUST COMPANY, a\\nbanking organization with trust powers duly organized and existing under the laws of the State of\\nNew York (the “Escrow Agent”), GRANT CAPITAL MANAGEMENT, INC., a corporation\\nduly organized and existing under the laws of the state of Maryland (successor to First Municipal\\nCredit Corporation) (“Lessor”), and the MAYOR AND CITY COUNCIL OF BALTIMORE\\n(“Lessee”).\\n\\nIn the joint and mutual exercise of their powers, and in consideration of the mutual covenants\\nherein contained, the parties hereto recite and agree as follows:\\n\\nARTICLE I: RECITALS.\\n\\nSection 1.1. Lessor and Lessee have entered into (i) that certain Equipment Schedule A No. 29\\nthereto, dated as of November 9, 2017 ( the “Equipment Schedule”), and (ii) to the extent\\nincorporated in and applicable to the Schedule, that certain Amended and Restated Master\\nEquipment Lease/Purchase Agreement (as further amended, modified or supplemented, the\\n“Master Lease”) dated as of March 17, 2004, as amended by the First Amendment to the\\nAmended and Restated Master Equipment Lease/Purchase Agreement dated February 26, 2009;\\na Second Amendment to Amended and Restated Master Equipment Lease/Purchase Agreement\\ndated August 6, 2009 and a Third Amendment to Amended and Restated Master Equipment\\nLease/Purchase Agreement dated as of October 28, 2009 (collectively, the “Lease’), a duplicate\\noriginal of which will be furnished to the Escrow Agent, whereby Lessor has agreed to finance\\nfor Lessee the acquisition of certain personal property described in the Equipment Schedule (the\\n“Equipment”), and Lessee has agreed to make all rental payments under the Lease to Lessor, in\\nthe manner and on the terms set forth therein. This Agreement is not intended to alter or change\\nthe rights and obligations of Lessor and Lessee under the Lease, but is entirely supplemental\\nthereto.\\n\\nSection 1.2. The terms capitalized in this Agreement but not defined herein shall have the\\nmeanings given to them in the Lease.\\n\\nSection 1.3. Pursuant to the terms of that certain Assignment Agreement dated November 9,\\n2017 (the “Assignment”), between Lessor and Capital One Public Funding, LLC, a New York\\nlimited liability company (“COPF”), Lessor has assigned all of its right, title and interest in and\\nto the Lease and all sums payable thereunder to COPF.\\n\\n{01046507} slz\\n\\x0cSection 1.4. Upon the execution of the Equipment Schedule, the Assignment, and this\\nAgreement and the delivery to Lessor by Lessee of all documents, assignments, instruments and\\nwritings required to be delivered in connection with Equipment Schedule and the Lease (the\\n\"Transaction Documents\"), Lessor is required to deposit or cause to be deposited with the\\nEscrow Agent the sum of $18,891,630.00, to be credited to the Equipment Acquisition Account\\nestablished in Article 2 hereof (the \"Escrow Funds\") and used to pay the Contract Price of the\\nEquipment and, to the extent not needed for this purpose, to pay or prepay the Principal\\nComponent of the Rental Payment coming due under the Lease; all as hereinafter provided.\\n\\nSection 1.5. Subject to the terms and conditions of this Agreement, Lessor and Lessee have\\nagreed to cause the closing of the Lease transactions and the Assignment transactions on the date\\nhereof (the “Closing Date”).\\n\\nSection 1.6 Lessor, Lessee and the Escrow Agent hereby agree that the Escrow Funds shall be\\ndelivered by or on behalf of Lessor, to the Escrow Agent, via wire transfer, upon execution of\\nthis Agreement and receipt by Lessor of executed originals of all of the Transaction Documents,\\nthe Escrow Funds to be held in escrow in accordance with the terms of this Agreement.\\n\\nSection 1.7. Lessee will cause each item of Equipment to be ordered from the Vendor, pursuant\\nto the terms of the Lease. The purchase price to be paid to the Vendor supplying the item of\\nEquipment shall be paid solely from the amount deposited with the Escrow Agent as described in\\nSection 1.4 hereof, in accordance with this Agreement.\\n\\nSection 1.8. Lessor and Lessee agree to employ the Escrow Agent to receive, hold, invest and\\ndisburse the moneys paid to the Escrow Agent by or on behalf of Lessor as described in Section\\n1.6, all as hereinafter provided; however, the Escrow Agent shall not be obligated to assume or\\nperform any obligation of Lessee or Lessor or any Vendor with respect thereto or under the\\nLease by reason of anything contained in this Agreement.\\n\\nSection 1.9. Each of the parties hereto has authority to enter into this Agreement and has taken\\nall actions necessary to authorize the execution of this Agreement by the officers whose\\nsignatures are affixed hereto.\\n\\nARTICLE 2: EQUIPMENT ACQUISITION ACCOUNT; DISBURSEMENTS;\\nAUTHENTICATION.\\n\\nSection 2.1. The Escrow Agent shall hold the Escrow Funds in escrow in an established interest\\nbearing special escrow account acceptable to the parties hereto, designated as the “Mayor and\\nCity Council of Baltimore Equipment Acquisition Fund No. 29” and shall keep such Equipment\\nAcquisition Account separate and apart from all other funds and moneys held by it and shall\\nadminister such Equipment Acquisition Account as provided in this Agreement. The Equipment\\n\\nAcquisition Account is set forth below:\\nManufacturers & Traders Trust Co.\\n\\nABA# 031100092\\nA/C# 124783-000\\n\\n{01046507} -2-\\n\\x0cA/C Name: Mayor and City Council of Baltimore Equipment\\nAcquisition Fund No. 29\\nAttn: Global Capital Markets\\n\\nSection 2.2. All moneys paid or caused to be paid to the Escrow Agent by or on behalf of Lessor\\npursuant to Section 1.6 of this Agreement shall be credited to the Equipment Acquisition\\nAccount. The Escrow Agent shall use the Escrow Funds to pay the Contract Price of the\\nEquipment, upon receipt with respect thereto of: (a) a payment request form, executed by Lessee\\nand approved for payment by Lessor, fully completed and with all supporting documents\\ndescribed therein attached thereto (a “Payment Written Direction”) attached hereto as Exhibit\\nA; and (b) in the event of a reimbursement to Lessee for previously purchased Equipment, a\\nwritten direction executed by Lessee and approved for payment by Lessor (a “Reimbursement\\nWritten Direction”) attached hereto as Exhibit B. Upon receipt of a Payment Written Direction\\nor a Reimbursement Written Direction, with respect to any Contract Price of the Equipment, an\\namount equal to the Contract Price of the Equipment as shown therein shall be paid directly to\\nthe person or entity entitled to payment as specified therein.\\n\\nSection 2.3. [Intentionally Removed]\\n\\nSection 2.4. Upon receipt of proof satisfactory to Lessor and its assigns, that all Equipment has\\nbeen purchased and paid for with proceeds in the Equipment Acquisition Account, Lessee shall\\ndirect, in a written direction attached hereto as Exhibit C executed by Lessee and approved for\\npayment by Lessor, the Escrow Agent to pay all remaining amounts in the Equipment\\nAcquisition Account representing the interest earnings on the amounts held in the Equipment\\nAcquisition Account (“Interest Earnings”), to Lessee (an “Interest Written Direction”).\\n\\nSection 2.5. Upon receipt of a written direction, attached hereto as Exhibit D, executed by\\nLessor that the Lease has been terminated, an Event of Default has occurred or that Lessee has\\ndetermined not to complete the acquisition of the Equipment or any project related thereto, the\\nEscrow Agent shall liquidate all investments held in the Equipment Acquisition Account and\\ntransfer the proceeds thereof and all other moneys held in the Equipment Acquisition Account to\\nLessor to be applied to the payment of principal due under the Lease, unless Lessor directs\\npayment of such amount be made in such other manner that, in the opinion of nationally\\nrecognized counsel in the area of tax-exempt municipal obligations satisfactory to Lessor, will\\nnot adversely affect the exclusion of the interest components of Rental Payments from gross\\nincome for federal income tax purposes (a “Termination Written Direction” and as used\\nherein, the term “Written Direction” may refer, variably, to a Payment Written Direction, a\\nReimbursement Written Direction, an Interest Written Direction, or a Termination Written\\nDirection as the context may require). If any such amount is used to prepay principal, the\\nPayment Schedule set forth in the Lease will be revised accordingly as specified by Lessor.\\n\\nSection 2.6. The Escrow Agent shall only be responsible for the safekeeping and investment of\\nthe moneys held in the Equipment Acquisition Account, and the disbursement thereof in\\naccordance with this Article, and shall not be responsible for the authenticity or accuracy of such\\ncertifications or documents, the application of amounts paid pursuant to such certifications by the\\n\\n01046507) -3-\\n\\x0cpersons or entities to which they are paid, or the sufficiency of the moneys credited to the\\nEquipment Acquisition Account to make the payments herein required.\\n\\nSection 2.7. In the event that the Escrow Agent makes any payment to any other party pursuant\\nto this Agreement and for any reason such payment (or any portion thereof) is required to be\\nreturned to the Equipment Acquisition Account or another party or is subsequently invalidated,\\ndeclared to be fraudulent or preferential, set aside and/or required to be repaid to a receiver,\\ntrustee or other party under any bankruptcy or insolvency law, other federal or state law,\\ncommon law or equitable doctrine, then the recipient shall repay to the Escrow Agent upon\\nwritten request the amount so paid to it.\\n\\nSection 2.8. The Escrow Agent shall, in its sole discretion, comply with judgments or orders\\nissued or process entered by any court with respect to the Escrow Funds, including without\\nlimitation any attachment, levy or, solely with respect to Lessor, garnishment, without any\\nobligation to determine such court\\'s jurisdiction in the matter and in accordance with its normal\\nbusiness practices. If the Escrow Agent complies with any such judgment, order or process, then\\nit shall not be liable to either party or any other person by reason of such compliance, regardless\\nof the final disposition of any such judgment, order or process.\\n\\nSection 2.9. Each party understands and agrees that the Escrow Agent shall have no obligation\\nor duty to act upon a Written Direction delivered to the Escrow Agent for the disbursement of\\nEscrow Funds under this Agreement if such Written Direction is not (i) in writing, (ii) signed by,\\nin the case of Lessor, any individual designated by Lessor on Exhibit E-1 attached hereto or, in\\nthe case of Lessee, an individual designated by Lessee on Exhibit E-2 attached hereto (in each\\ncase, each such individual an “Authorized Representative” of such party), and (iii) delivered to,\\nand able to be authenticated by, the Escrow Agent in accordance with Section 2.13.\\n\\nSection 2.10. Upon request, the Escrow Agent will furnish monthly statements to each party\\nsetting forth the activity in the Account.\\n\\nSection 2.11. A party may specify in a written notice for the disbursement of funds whether such\\nEscrow Funds shall be disbursed by way of wire transfer or check. If the written notice for the\\ndisbursement of funds does not so specify the disbursement means, the Escrow Agent may\\ndisburse the Escrow Funds by any means chosen by the Escrow Agent.\\n\\nSection 2.12. Written Direction and Other Instruction.\\n\\n(a) With respect to any Written Direction or any other notice, direction or other instruction\\nrequired to be delivered by a party to the Escrow Agent under this Agreement, the Escrow Agent\\nis authorized to follow and rely upon any and all such instructions given to it from time to time if\\nthe Escrow Agent believes, in good faith, that such instruction is genuine and to have been\\nsigned by an Authorized Representative of such party. The Escrow Agent shall have no duty or\\nobligation to verify that the person who sent such instruction is, in fact, a person duly authorized\\nto give instructions on behalf of a party, other than to verify that the signature of the Authorized\\nRepresentative on any such instruction appears to be the signature of such person. Each party\\nacknowledges and agrees that it is fully informed of the protections and risks associated with the\\n\\n{01046507} -4-\\n\\x0cvarious methods of transmitting instructions to the Escrow Agent, and that there may be more\\nsecure methods of transmitting instructions other than the method selected by such party. The\\nEscrow Agent shall have no responsibility or liability for any loss which may result from (i) any\\naction taken or not taken by the Escrow Agent in good faith reliance on any such signatures or\\ninstructions, (ii) as a result of a party’s reliance upon or use of any particular method of\\ndelivering instructions to the Escrow Agent, including the risk of interception of such instruction\\nand misuse by third parties, or (iii) any officer or Authorized Representative of a party named in\\nan incumbency certificate, Exhibit E-1 or Exhibit E-2 delivered hereunder prior to actual receipt\\nby the Escrow Agent of a more current incumbency certificate or an updated Exhibit E-1 or\\nExhibit E-2 and a reasonable time for the Escrow Agent to act upon such updated or more\\ncurrent certificate.\\n\\n(b) Lessor may, at any time, update Exhibit E-1, and Lessee may, at any time, update Exhibit\\nE-2 by signing and submitting to the Escrow Agent an update of such Exhibit. Any updated\\nExhibit shall not be effective unless the Escrow Agent countersigns a copy thereof. The Escrow\\nAgent shall be entitled to a reasonable time to act to implement any changes on an updated\\nExhibit E-1 or Exhibit B-2.\\n\\nSection 2.13. Delivery and Authentication of Written Direction.\\n\\n(a) A Written Direction must be delivered to the Escrow Agent by one of the delivery\\nmethods set forth in Section 2.13(b)\\n\\n(b) Each party and the Escrow Agent hereby agree that the following security procedures\\nwill be used to verify the authenticity of a Written Direction delivered by any party to the\\nEscrow Agent under this Agreement:\\n\\n@ The Written Direction must include the name and signature of the person\\ndelivering the disbursement request to the Escrow Agent. The Escrow Agent will check\\nthat the name and signature of the person identified on the Written Direction appears to\\nbe the same as the name and signature of an Authorized Representative of such party;\\n\\n(ii) | The Escrow Agent will make a telephone call to an Authorized Representative of\\nthe party purporting to deliver the Written Direction (which Authorized Representative\\nmay be the same as the Authorized Representative who delivered the Written Direction)\\nat any telephone number for such Authorized Representative as set forth on Exhibit E-1\\nor Exhibit E-2, as applicable, to obtain oral confirmation of delivery of the Written\\nDirection. If the Written Direction is a joint written notice of any of the parties, the\\nEscrow Agent shall call back an Authorized Representative of those parties; and\\n\\n(iii) If the Written Direction is sent by email to the Escrow Agent, the Escrow Agent\\nalso shall review such email address to verify that it appears to have been sent from an\\nemail address for an Authorized Representative of such party as set forth on Exhibit E-1\\nor Exhibit E-2, as applicable, or from an email address for a person authorized under\\nExhibit E-1 or Exhibit E-2, as applicable, to email a Written Direction to the Escrow\\nAgent on behalf of the Authorized Representative.\\n\\n{01046507} 35s\\n\\x0c(c) Each party acknowledges and agrees that given its particular circumstances, including the\\nnature of its business, the size, type and frequency of its instructions, transactions and files,\\ninternal procedures and systems, the alternative security procedures offered by the Escrow Agent\\nand the security procedures in general use by other customers and banks similarly situated, the\\nsecurity procedures set forth in this Section 2.13 are a commercially reasonable method of\\nverifying the authenticity of a payment order in a Written Direction.\\n\\n(d) The Escrow Agent is authorized to execute, and each party expressly agrees to be bound\\nby any payment order in a Written Direction issued in its name (and associated funds transfer) (i)\\nthat is accepted by the Escrow Agent in accordance with the security procedures set forth in this\\nSection 2.13, whether or not authorized by such party and/or (ii) that is authorized by or on\\nbehalf of such party or for which such party is otherwise bound under the law of agency, whether\\nor not the security procedures set forth in this Section 2.13 were followed, and to debit any\\nrelevant account at the Escrow Agent for the amount of the payment order. Notwithstanding\\nanything else, the Escrow Agent shall be deemed to have acted in good faith and without\\nnegligence, gross negligence or willful misconduct if the Escrow Agent is authorized to execute\\nthe payment order under this Section 2.13. Any action taken by the Escrow Agent pursuant to\\nthis paragraph prior to the Escrow Agent’s actual receipt and acknowledgement of a notice of\\nrevocation, cancellation or amendment of a Written Direction shall not be affected by such\\nnotice.\\n\\n(e) The security procedures set forth in this Section 2.13 are intended to verify the\\nauthenticity of payment orders provided to the Escrow Agent and are not designed to, and do not,\\ndetect errors in the transmission or content of any payment order. The Escrow Agent is not\\nresponsible for detecting an error in the payment order, regardless of whether either party\\nbelieves the error was apparent, and the Escrow Agent is not liable for any damages arising from\\nany failure to detect an error.\\n\\n() When instructed to credit or pay a party by both name and a unique numeric or alpha-\\nnumeric identifier (e.g. ABA number or account number), the Escrow Agent, and any other\\nbanks participating in the funds transfer, may rely solely on the unique identifier, even if it\\nidentifies a party different than the party named. Each party agrees to be bound by the rules of\\nany funds transfer network used in connection with any payment order accepted by the Escrow\\nAgent hereunder.\\n\\n(g) The Escrow Agent shall not be obliged to make any payment requested under this\\nAgreement if it is unable to validate the authenticity of the request by the security procedures set\\nforth in this Section 2.13. The Escrow Agent’s inability to confirm a payment order may result\\nin a delay or failure to act on that payment order. Notwithstanding anything else in this\\nAgreement, the Escrow Agent shall not be required to treat a payment order as having been\\nreceived until the Escrow Agent has authenticated it pursuant to the security procedures in this\\nSection 2.13 and shall not be liable or responsible for any losses arising in relation to such delay\\nor failure to act.\\n\\n(01046507) =6=\\n\\x0cARTICLE 3: MONEYS IN EQUIPMENT ACQUISITION ACCOUNT; INVESTMENT;\\nTAXES,\\n\\nSection 3.1. The moneys and investments held by the Escrow Agent under this Agreement are\\nirrevocably held in trust for the benefit of Lessee and Lessor and their assigns, and such moneys,\\ntogether with any income or interest earned thereon, shall be expended only as provided in this\\nAgreement, and shall not be subject to levy or attachment or lien by or for the benefit of any\\ncreditor of either Lessee or Lessor, other than the Escrow Agent. Lessor, Lessee and the Escrow\\nAgent intend that the Equipment Acquisition Account constitute an escrow account in which the\\nparties have no legal or equitable right, title or interest until satisfaction in full of all conditions\\ncontained herein for the disbursement of funds by the Escrow Agent therefrom.\\n\\nSection 3.2 Moneys held by the Escrow Agent hereunder shall be invested and reinvested by the\\nEscrow Agent upon written instruction of Lessee only in Qualified Investments, as defined in\\nSection 3.5. Such investments shall be registered in the name of the Escrow Agent and held by\\nthe Escrow Agent for the benefit of Lessor and Lessee. The Escrow Agent is hereby authorized\\nto in making or disposing of any investment permitted by this Agreement, to deal with itself (in\\nits individual capacity) or with any one or more of its affiliates, whether it or any such affiliate is\\nacting as agent of the Escrow Agent or for any third person or dealing as principal for its own\\naccount and to purchase or sell to itself or any affiliate, as principal or agent, investments\\nauthorized by this Article. Such investments and reinvestments shall be made giving full\\nconsideration for the time at which funds are required to be available.\\n\\nSection 3.3. The Escrow Agent is hereby authorized and directed to sell or redeem any such\\ninvestments as it deems necessary to make any payments or distributions required under this\\nAgreement. The Escrow Agent shall have no responsibility or liability for any loss which may\\nresult from any investment or sale of investment made pursuant to this Agreement. The parties\\nacknowledge that the Escrow Agent is not providing investment supervision, recommendations,\\nor advice. Any income received on such investments shall be credited to the Equipment\\nAcquisition Account and shall become part of the Escrow Funds and disbursed in accordance\\nwith Section 2.4.\\n\\nSection 3.4. The Escrow Agent shall furnish to Lessee and Lessor reports accounting for all\\ninvestments and interest and income therefrom. Such accounting shall be furnished monthly and\\nupon request of Lessor or Lessee. Neither Lessor nor the Escrow Agent shall be responsible or\\nliable for any loss suffered in connection with any investment of moneys made by the Escrow\\nAgent in accordance with this Article. []\\'\\n\\nSection 3.5. As used in this Agreement, the term “Qualified Investments” means (a) securities\\nwhich are general obligations of or are guaranteed as to the payment of principal and interest by\\nthe United States of America (b) obligations, debentures, notes or other evidence of indebtedness\\nissued or guaranteed by any of the following: Federal Home Loan Bank System, Government\\nNational Mortgage Association, Farmers Home Administration, Federal Home Loan Mortgage\\nCorporation or Federal Housing Administration; (c) money market funds of or offered by the\\n\\n\\' This is covered in Section 4.7.\\n\\n{01046507} -7-\\n\\x0cEscrow Agent that invest in securities and obligations described in (a) and (b) above; and (d)\\nother investments approved in advance by Lessee’s bond counsel and authorized by the Lessee in\\nwritten instructions to the Escrow Agent, with prior written notice of such investment to the\\nLessor. All Qualified Investments must have maturities which do not exceed two years. In the\\nabsence of written investment instructions from Lessee, the Escrow Agent shall deposit and\\ninvest the Escrow Funds, including any and all interest and investment income, in the Blackrock\\nFederal Fund.\\n\\nSection 3.6. Income Tax Allocation and Reporting.\\n\\n(a) Each party agrees that, for tax reporting purposes, all interest and other income from\\ninvestment of the Escrow Funds shall, as of the end of each calendar year and to the extent\\nrequired by the Internal Revenue Service, be reported as having been earned by Lessee, whether\\nor not such income was disbursed during such calendar year. The Escrow Agent shall be\\ndeemed the payer of any interest or other income paid upon investment of the Escrow Funds for\\npurposes of performing tax reporting. With respect to any other payments made under this\\nAgreement, the Escrow Agent shall not be deemed the payer and shall have no responsibility for\\nperforming tax reporting. The Escrow Agent’s function of making such payments is solely\\nministerial and upon express direction of the parties.\\n\\n(b) Prior to closing, Lessor shall provide the Escrow Agent with certified tax identification\\nnumbers by furnishing appropriate forms W-9 or W-8 and such other forms and documents that\\nthe Escrow Agent may request. Lessor understands that if such tax reporting documentation is\\nnot provided and certified to the Escrow Agent, the Escrow Agent may be required by the\\nInternal Revenue Code of 1986, as amended, and the regulations promulgated thereunder, to\\nwithhold a portion of any interest or other income distributed to it from the investment of the\\nEscrow Funds.\\n\\n(c) To the extent that the Escrow Agent becomes liable for the payment of any taxes in\\nrespect of income derived from the investment of the Escrow Funds, the Escrow Agent shall\\nsatisfy such liability to the extent possible from the Escrow Funds. Lessor shall indemnify,\\ndefend and hold the Escrow Agent harmless from and against any income tax liability of Lessor\\n(or related late payment, interest, penalty or other cost or expense) that may be assessed against\\nthe Escrow Agent on or with respect to the Escrow Funds and the investment thereof unless such\\nincome tax liability (or related late payment, interest, penalty or other expense) was directly\\ncaused by the negligence or willful misconduct of the Escrow Agent. The indemnification\\nprovided by this Section 3.6(c) is in addition to the indemnification provided in Article 4 and\\nshall survive the resignation or removal of the Escrow Agent and the termination of this\\nAgreement.\\n\\nARTICLE 4: ESCROW AGENT’S AUTHORITY; INDEMNIFICATION; DUTIES\\nSection 4.1. The Escrow Agent may act in reliance upon any writing or instrument or signature\\nwhich it, in good faith, believes to be genuine, may assume the validity and accuracy of any\\n\\nstatement or assertion contained in such a writing or instrument, and may assume that any person\\npurporting to give any writing, notice, advice or instructions in connection with the provisions\\n\\n{01046507} -8-\\n\\x0chereof has been duly authorized to do so. The Escrow Agent shall not be liable in any manner for\\nthe sufficiency or correctness as to form, manner and execution, or validity of any instrument\\ndeposited with it, nor as to the identity, authority or right of any person executing the same; and\\nits duties hereunder shall be limited to those specifically provided herein.\\n\\nSection 4.2. Lessee and Lessor hereby shall, jointly and severally, indemnify the Escrow Agent\\nand hold it harmless from any and all claims, liabilities, losses, actions, suits or proceedings at\\nlaw or in equity, or any other expense, fees or charges of any character or nature, which it may\\nincur or with which it may be threatened by reason of its acting as Escrow Agent under this\\nAgreement; and in connection therewith, to indemnify the Escrow Agent against any and all\\nexpenses, including reasonable attorneys’ fees and the cost of defending any action, suit or\\nproceeding or resisting any claim except to the extent the same shall be finally determined by a\\ncourt of competent jurisdiction to have been caused by the Escrow Agent\\'s negligence or willful\\nmisconduct.\\n\\nSection 4.3. If any conflict, disagreement or dispute arises between, among, or involving any of\\nthe parties hereto concerning the meaning or validity of any provision hereunder or concerning\\nany other matter relating to this Agreement, or the Escrow Agent is in doubt as to the action to be\\ntaken hereunder, the Escrow Agent may, at its option, retain the Escrow Funds until the Escrow\\nAgent (a) receives a final non-appealable order of a court of competent jurisdiction directing\\ndelivery of the Escrow Funds or (b) receives a written instruction, executed by each of the parties\\ninvolved in such disagreement or dispute, in a form reasonably acceptable to the Escrow Agent,\\ndirecting delivery of the Escrow Funds. The Escrow Agent will be entitled to act on any such\\nwritten instruction or final, non-appealable order of a court of competent jurisdiction without\\nfurther question, inquiry or consent. The Escrow Agent may file an interpleader action in a state\\nor federal court, and upon the filing thereof, the Escrow Agent will be relieved of all liability as\\nto the Escrow Funds and will be entitled to recover from Lessor and Lessee reasonable and\\ndocumented out-of-pocket attorneys’ fees, expenses and other costs incurred in commencing and\\nmaintaining any such interpleader action. In the event the Escrow Agent receives conflicting\\ninstructions hereunder, the Escrow Agent shall be fully protected in refraining from acting until\\nsuch conflict is resolved to the satisfaction of the Escrow Agent.\\n\\nSection 4.4. The Escrow Agent shall be entitled to consult with legal counsel in the event that a\\nquestion or dispute arises with regard to the construction of any of the provisions hereof, and\\nshall incur no liability and shall be fully protected in acting in accordance with the advice or\\nopinion of such counsel. The Escrow Agent shall be reimbursed as set forth in Section 4.2 for\\nany and all compensation (fees, expenses and other costs) paid and/or reimbursed to such\\ncounsel and/or professionals.\\n\\nSection 4.5. Notwithstanding any provision to the contrary, the Escrow Agent is obligated only\\nto perform the duties specifically set forth in this Agreement, which shall be deemed purely\\nministerial in nature. Under no circumstances will the Escrow Agent be deemed to be a\\nfiduciary to any of the parties or any other person under this Agreement. The Escrow Agent will\\nnot be responsible or liable for the failure of any of the parties to perform in accordance with this\\nAgreement. The Escrow Agent shall neither be responsible for, nor chargeable with, knowledge\\nof the terms and conditions of any other agreement, instrument, or document other than this\\n\\n{01046507} -9-\\n\\x0cAgreement, whether or not an original or a copy of such agreement has been provided to the\\nEscrow Agent; and the Escrow Agent shall have no duty to know or inquire as to the\\nperformance or nonperformance of any provision of any such agreement, instrument, or\\ndocument. References in this Agreement to any other agreement, instrument, or document are\\nfor the convenience of the parties and the Escrow Agent has no duties or obligations with respect\\nthereto. This Agreement sets forth all matters pertinent to the escrow contemplated hereunder,\\nand no additional obligations of the Escrow Agent shall be inferred or implied from the terms of\\nthis Agreement or any other agreement.\\n\\nSection 4.6. The permissive rights of the Escrow Agent to do things enumerated in this\\nAgreement shall not be construed as duties.\\n\\nSection 4.7. THE ESCROW AGENT SHALL NOT BE LIABLE, DIRECTLY OR\\nINDIRECTLY, FOR ANY (I) DAMAGES, LOSSES OR EXPENSES ARISING OUT OF THE\\nSERVICES PROVIDED HEREUNDER, OTHER THAN DAMAGES, LOSSES OR\\nEXPENSES WHICH HAVE BEEN FINALLY ADJUDICATED TO HAVE DIRECTLY\\nRESULTED FROM THE ESCROW AGENT’S GROSS NEGLIGENCE OR WILLFUL\\nMISCONDUCT, OR (II) SPECIAL, INDIRECT OR CONSEQUENTIAL DAMAGES OR\\nLOSSES OF ANY KIND WHATSOEVER (INCLUDING WITHOUT LIMITATION LOST\\nPROFITS), EVEN IF THE ESCROW AGENT HAS BEEN ADVISED OF THE POSSIBILITY\\nOF SUCH LOSSES OR DAMAGES AND REGARDLESS OF THE FORM OF ACTION.\\n\\nSection 4.8. The Escrow Agent shall not be required to use its own funds in the performance of\\nany of its obligations or duties or the exercise of any of its rights or powers, and shall not be\\nrequired to take any action which, in the Escrow Agent\\'s sole and absolute judgment, could\\ninvolve it in expense or liability unless furnished with security and indemnity which it deems, in\\nits sole and absolute discretion, to be satisfactory.\\n\\nARTICLE 5: ESCROW AGENT’S COMPENSATION.\\n\\nLessee and the Escrow Agent have entered into separate fee letter concerning the Escrow\\nAgent’s compensation under this Agreement.\\n\\nARTICLE 6: CHANGE OF ESCROW AGENT.\\n\\nSection 6.1. A national banking association located in the United States or a state bank or trust\\ncompany organized under the laws of a state of the United States, qualified as a depository of\\npublic funds, may be substituted to act as Escrow Agent under this Agreement upon agreement\\nof Lessor and Lessee. Such substitution shall not be deemed to affect the rights or obligations of\\nthe parties. Upon any such substitution, the Escrow Agent agrees to assign to such substitute\\nEscrow Agent its rights under this Agreement.\\n\\nSection 6.2. The Escrow Agent or any successor may at any time resign by giving mailed notice\\nto Lessee and Lessor of its intention to resign and of the proposed date of resignation which shall\\nbe a date not less than thirty (30) days after such notice is deposited in the United States mail\\nwith postage fully prepaid, unless an earlier resignation date and the appointment of a successor\\n\\n{01046507} -10-\\n\\x0cescrow agent shall have been or are approved by Lessee and Lessor. If Lessee and Lessor have\\nfailed to appoint a successor escrow agent prior to the expiration of thirty (30) days following the\\ndelivery of such notice of resignation or removal, the Escrow Agent may petition any court of\\ncompetent jurisdiction for the appointment of a successor escrow agent or for other appropriate\\nrelief, and any such resulting appointment shall be binding upon the parties.\\n\\nSection 6.3. The Escrow Agent may appoint an agent to exercise any of the powers, rights or\\nremedies granted to the Escrow Agent under this Agreement, and to hold title to property or to\\ntake any other action which may be desirable or necessary upon the written consent of Lessee\\nand Lessor.\\n\\nSection 6.4. Any corporation or association into which the Escrow Agent may be converted or\\nmerged, or with which it may be consolidated, or to which it may sell or transfer all or\\nsubstantially all of its corporate trust business and assets as a whole or substantially as a whole,\\nor any corporation or association resulting from any such conversion, sale, merger, consolidation\\nor transfer to which the Escrow Agent is a party, shall be and become the successor escrow agent\\nunder this Agreement and shall have and succeed to the rights, powers, duties, immunities and\\nprivileges as its predecessor, without the execution or filing of any instrument or paper or the\\nperformance of any further act.\\n\\nARTICLE 7: ADMINISTRATIVE PROVISIONS\\n\\nSection 7.1. The Escrow Agent shall keep complete and accurate records of all moneys received\\nand disbursed under this Agreement, which shall be available for inspection by Lessee or Lessor,\\ntheir successors or assigns and the agent of either of them upon request.\\n\\nSection 7.2. All notices hereunder shall be sufficiently given and shall be deemed given when\\ndelivered or deposited in the United States mail in registered form with postage fully prepaid to\\nthe addresses specified beneath each party’s signature, or by electronic transmission; including\\nby way of e-mail (as long as such email is accompanied by a PDF or similar version of the\\nrelevant document bearing the signature of an Authorized Representative for the party sending\\nthe notice) with email confirmation of receipt; provided that the parties, by notice given\\nhereunder, may designate different addresses to which subsequent notices will be sent.\\n\\nSection 7.3. This Agreement shall be construed and governed in accordance with the laws of the\\nState of Maryland.\\n\\nSection 7.4. Any provisions of this Agreement found to be prohibited by law shall be ineffective\\nonly to the extent of such prohibition, and shall not invalidate the remainder of this Agreement or\\nthe Lease.\\n\\nSection 7.5. This Agreement shall be binding upon and inure to the benefit of the parties and\\ntheir respective successors and assigns. No other persons shall have any rights under this\\nAgreement. No assignment of the interest of any of the parties shall be binding unless and until\\nwritten notice of such assignment shall be delivered to the other parties and shall require the\\nprior written consent of the other parties (such consent not to be unreasonably withheld).\\n\\n{01046507} -li-\\n\\x0cSection 7.6. This Agreement may be simultaneously executed in several counterparts, each of\\nwhich shall be an original and all of which shall constitute but one and the same Agreement. In\\naddition, the parties agree that the transaction described herein may be conducted and related\\ndocuments may be stored by electronic means. Copies, telecopies, facsimiles, electronic files\\nand other reproductions of original executed documents shall be deemed to be authentic and\\nvalid counterparts of such original documents for all purposes, including the filing of any claim,\\naction or suit in the appropriate court of law.\\n\\nSection 7.7. This Agreement shall terminate upon disbursement by the Escrow Agent of all\\nmoneys held by it hereunder.\\n\\nSection 7.8. This Agreement (and, with respect to Lessor and Lessee, together with the Lease)\\nconstitutes the entire agreement of the parties relating to the subject matter hereof.\\n\\nSection 7.9. In the event that any Escrow Funds shall be attached or levied upon by any court\\norder, or the delivery thereof shall be stayed or enjoined by an order of a court, or any order,\\njudgment or decree shall be made or entered by any court order affecting the Escrow Funds, the\\nEscrow Agent is hereby expressly authorized, in its sole discretion, to respond as it deems\\nappropriate or to comply with all writs, orders or decrees so entered or issued, or which it is\\nadvised by legal counsel of its own choosing is binding upon it, whether with or without\\njurisdiction. In the event that the Escrow Agent obeys or complies with any such writ, order or\\ndecree it shall not be liable to any party or to any other person, firm or corporation, should, by\\nreason of such compliance notwithstanding, such writ, order or decree be subsequently reversed,\\nmodified, annulled, set aside or vacated.\\n\\nSection 7.10. The Escrow Agent shall not be responsible or liable for any failure or delay in the\\nperformance of its obligation under this Agreement arising out of or caused, directly or\\nindirectly, by circumstances beyond its reasonable control, including, without limitation, acts of\\nGod; earthquakes; fire; flood; wars; acts of terrorism; civil or military disturbances; sabotage;\\nepidemic; riots; interruptions, loss or malfunctions of utilities, computer (hardware or software)\\nor communications services; accidents; labor disputes; acts of civil or military authority or\\ngovernmental action; it being understood that the Escrow Agent shall use commercially\\nreasonable efforts which are consistent with accepted practices in the banking industry to resume\\nperformance as soon as reasonably practicable under the circumstances.\\n\\nSection 7.11. Each party is aware that under applicable state law, property which is presumed\\nabandoned may under certain circumstances escheat to the applicable state. The Escrow Agent\\nshall have no liability to either party, its respective heirs, legal representatives, successors and\\nassigns, or any other party, should any or all of the Escrow Funds escheat by operation of law.\\n\\nSection 7.12. TO THE EXTENT NOT PROHIBITED BY APPLICABLE LAW, EACH OF\\nTHE PARTIES HERETO EXPRESSLY WAIVES THE RIGHT TO TRIAL BY JURY IN\\nRESOLVING ANY CLAIM OR COUNTERCLAIM RELATING TO OR ARISING OUT\\nOF THIS AGREEMENT.\\n\\n{01046507} -12-\\n\\x0cSection 7.13. This Agreement shall be given effect and construed by application of the laws of\\nthe State of Maryland without reference to principles of conflicts of laws. Any action or\\nproceeding arising hereunder shall be brought in the courts of Baltimore, Maryland; provided,\\nthat if any such action or proceeding arises under the Constitution, laws or treaties of the United\\nStates of America, or if there is a diversity of citizenship between the parties thereto, so that is it\\nto be brought in a United States District Court, it shall be brought in the United States District\\nCourt for the District of Maryland in Baltimore or any successor federal court having original\\njurisdiction.\\n\\n[SIGNATURES ON FOLLOWING PAGE]\\n\\n(01086507) -13-\\n\\x0cIN WITNESS WHEREOF, the parties have executed this Agreement as of the day and year\\nfirst written above.\\n\\nMANUFACTURERS AND TRADERS GRANT CAPITAL MANAGEMENT,\\n\\n \\n\\nTRUST COMPANY, INC.,\\nEscrow Agent\\nBy:\\nTitle: Banking Officer\\nDate:\\nAddress: 25 S. Charles Street Address: 8894 Stanford Blvd., Suite 203\\nBaltimore, Maryland 21201 Columbia, Maryland 21045\\nTelephone (410) 244-4874 Telephone:(410) 715-9135\\nFax: (410) 244-4236 Facsimile: (410) 715-9139\\nEmail: [ Email:\\nMAYOR AND CITY COUNCIL OF\\nBALTIMORE,\\nLessee\\n\\n \\n\\nAddress: Department of’ Finance\\n200 Holliday Street\\nBaltimore, Maryland 21202\\nTelephone:(410) 396-4750\\nFacsimile: (410) 396-5876\\nEmail: jennell.rogers@baltimorecity.gov\\n\\nApproved as to form and legal sufficiency:\\n\\n \\n\\n(01046507) -14-\\n\\x0cIN WITNESS WHEREOF, the parties have executed this Agreement as of the day and year\\nfirst written above.\\n\\nMANUFACTURERS AND TRADERS GRANT CAPITAL MANAGEMENT,\\nTRUST COMPANY,\\nEscrow Agent\\n\\n  \\n\\nDate: __~ :\\n\\nAddress: 25 S. Charles Street Address: 8894 Stanford Blvd., Suite 203\\nBaltimore, Maryland 21201 Columbia, Maryland 21045\\nTelephone (410) 244-4874 Telephone:(410) 715-9135\\nFax: (410) 244-4236 Facsimile: (410) 715-9139\\nEmail: Email:\\n\\nMAYOR AND CITY COUNCIL OF\\nBALTIMORE,\\nLessee\\n\\n \\n\\nBy:\\nTitle: Chief, Bureau of Treasury Management\\nDate:\\nAddress: Department of’ Finance\\n200 Holliday Street\\nBaltimore, Maryland 21202\\nTelephone:(410) 396-4752\\nFacsimile: (410) 396-5876\\nEmail:\\n\\nApproved as to form and legal sufficiency:\\n\\nChief Solicitor\\n\\n(01046507) -14-\\n\\x0cEXHIBIT A TO ESCROW AGREEMENT\\nPayment Request Form No. __\\n\\nManufacturers and Traders Trust Company, as Escrow Agent under an Escrow Agreement dated\\nas of November 9, 2017, among said Escrow Agent, Grant Capital Management, Inc. (successor\\nto First Municipal Credit Corporation) (“Lessor”), and the Mayor and City Council of Baltimore\\n(“Lessee”), is hereby requested to pay, from the Equipment Acquisition Account held under said\\nEscrow Agreement, to the persons, firms or corporations designated below as payee, the amount\\nset forth opposite each such name, in payment of the Contract Price of the Equipment (as defined\\nin said Escrow Agreement) designated opposite such payees name and account and described on\\nthe attached page(s). The Equipment comprises a portion of the Equipment described in the\\nLease (as described in said Escrow Agreement).\\n\\nPayee Amount Equipment\\n\\nThe undersigned Lessee hereby certifies that:\\n\\n1.. Attached hereto are true and correct copies of Vendor invoice(s), bill(s) of sale or\\nother evidence satisfactory to Lessor relating to amounts owed to the Vendor or other payee\\nlisted above with respect to the Equipment.\\n\\n2. The Equipment described above comprises a portion of the Equipment described\\nin the above referenced Lease, and has been delivered to, tested and inspected by, and\\nunconditionally accepted by Lessee.\\n\\n3. If the Payment Request Form relates to a progress payment, the amounts\\nremaining in the Equipment Acquisition Account are sufficient to acquire and complete the\\nEquipment group to which the above-referenced Lease relates.\\n\\n4, The representations and warranties contained in the Lease are true and correct as of\\nthe date hereof.\\n\\n5. No Event of Default, or event which with the giving of notice or passage of time or\\nboth would constitute an Event of Default, has occurred.\\n\\n{01046507} -15-\\n\\x0cMAYOR AND CITY COUNCIL OF BALTIMORE,\\nLessee\\n\\nBy:\\n\\nTitle:\\n\\nDate:\\n\\nAPPROVED FOR PAYMENT:\\nLessor:\\n\\nBy:\\nTitle:\\n\\nDate:\\n\\n01086507) -16-\\n\\x0cEXHIBIT B\\nForm of Reimbursement Written Direction\\n[Form to be provided by Lessee]\\n\\nExample for reference purposes only:\\n\\n[date]\\nManufacturers and Traders Trust Company\\n[Address to be provided]\\n\\nAttention: [name]\\nRe: Escrow Account No.: [##], [escrow account name]\\n\\nLadies and Gentlemen:\\n\\nReference is made to the Escrow Agreement, dated as of ,20__ (the “Escrow\\nAgreement”), entered into by and among GRANT CAPITAL MANAGEMENT, INC (“Lessor”),\\nthe MAYOR AND CITY COUNCIL OF BALTIMORE (“Lessee”) and MANUFACTURERS\\nAND TRADERS TRUST COMPANY, as escrow agent (the “Escrow Agent”). Capitalized\\nterms defined in the Escrow Agreement shall have the same meanings when used herein.\\n\\nThis letter is a Reimbursement Written Direction referred to in Section 2.2 of the Escrow\\nAgreement.\\n\\nLessee hereby represents and certifies that the following condition(s) to release of funds in the\\nEquipment Acquisition Account have occurred:\\n\\n[Disbursement conditions/representations to be provided.]\\nIn consideration of the foregoing representations, Lessee hereby instructs the Escrow Agent to\\n\\nrelease the funds in the Equipment Acquisition Account in the amounts, and to the account(s), as\\nfollows:\\n\\n \\n\\nAmount:\\nBeneficiary Bank Name:\\n\\n \\n\\nBeneficiary Bank Address\\nLine 1:\\n\\n \\n\\nBeneficiary Bank Address\\nLine 2:\\n\\n \\n\\nBeneficiary Bank Address\\nLine 3:\\n\\n \\n\\nABA#:\\n\\n \\n\\nSWIFT#:\\n\\n \\n\\n \\n\\n \\n\\nBeneficiary Account Title:\\n\\n \\n\\n{01046507} -17-\\n\\n \\n\\x0c \\n\\nBeneficiary Account No./IBAN:\\n\\n \\n\\nBeneficiary Address\\nLine 1:\\n\\n \\n\\nBeneficiary Address\\nLine 2:\\nBeneficiary Address\\nLine 3:\\n\\n \\n\\n \\n\\n \\n\\nAdditional Information:\\n\\n \\n\\nMAYOR AND CITY COUNCIL OF BALTIMORE\\n\\nBy:\\nName:\\nTitle:\\nDate:\\n\\nAPPROVED FOR PAYMENT:\\nLessor:\\n\\nBy:\\nTitle:\\n\\nDate:\\n\\n(01046507) -18-\\n\\n \\n\\x0cEXHIBIT C\\nForm of Interest Written Direction\\n\\n[Form to be provided by Lessee]\\n\\nExample for reference purposes only:\\n\\n[date]\\nManufacturers and Traders Trust Company\\n[Address to be provided]\\n\\nAttention: [name]\\nRe: Escrow Account No.: [##], [escrow account name]\\n\\nLadies and Gentlemen:\\n\\nReference is made to the Escrow Agreement, dated as of ,20__ (the “Escrow\\nAgreement”), entered into by and among GRANT CAPITAL MANAGEMENT, INC.\\n(“Lessor”), the MAYOR AND CITY COUNCIL OF BALTIMORE (“Lessee”) and\\nMANUFACTURERS AND TRADERS TRUST COMPANY, as escrow agent (the “Escrow\\nAgent”). Capitalized terms defined in the Escrow Agreement shall have the same meanings\\nwhen used herein.\\n\\nThis letter is an Interest Written Direction referred to in Section 2.4 of the Escrow Agreement.\\n\\nLessee hereby represents and certifies that the following condition(s) to release of funds in the\\nEquipment Acquisition Account have occurred:\\n\\n[Disbursement conditions/representations to be provided.]\\nIn consideration of the foregoing representations, Lessee hereby instructs the Escrow Agent to\\n\\nrelease the funds in the Equipment Acquisition Account in the amounts, and to the account(s), as\\nfollows:\\n\\n \\n\\nAmount:\\nBeneficiary Bank Name:\\n\\n \\n\\nBeneficiary Bank Address\\nLine 1:\\n\\n \\n\\nBeneficiary Bank Address\\nLine 2:\\n\\n \\n\\nBeneficiary Bank Address\\nLine 3:\\n\\n \\n\\n \\n\\nABA#:\\nSWIFT#:\\nBeneficiary Account Title:\\n\\n \\n\\n \\n\\n(01046507) -19-\\n\\n \\n\\x0c \\n\\nBeneficiary Account No./IBAN:\\n\\n \\n\\nBeneficiary Address\\nLine 1:\\n\\n \\n\\nBeneficiary Address\\nLine 2:\\n\\n \\n\\nBeneficiary Address.\\nLine 3:\\n\\n \\n\\n \\n\\n \\n\\nAdditional Information:\\n\\n \\n\\nMAYOR AND CITY COUNCIL OF BALTIMORE\\n\\nBy:\\nName:\\nTitle:\\nDate:\\n\\nAPPROVED FOR PAYMENT:\\nLessor:\\n\\nBy:\\nTitle:\\n\\nDate:\\n\\n(01046507) -20-\\n\\n \\n\\x0cEXHIBIT D\\nForm of Termination Written Direction\\n[Form to be provided by Lessor]\\n\\nExample provided for references purposes only:\\n\\n[date]\\nManufacturers and Traders Trust Company\\n[Address to be provided]\\n\\nAttention: [name]\\nRe: Escrow Account No.: [##], [escrow account name]\\n\\nLadies and Gentlemen:\\n\\nReference is made to the Escrow Agreement, dated as of ,20__ (the “Escrow\\nAgreement”), entered into by and among GRANT CAPITAL MANAGEMENT, INC (“Lessor”),\\nthe MAYOR AND CITY COUNCIL OF BALTIMORE (“Lessee”) and MANUFACTURERS\\nAND TRADERS TRUST COMPANY, as escrow agent (the “Escrow Agent”). Capitalized\\nterms defined in the Escrow Agreement shall have the same meanings when used herein.\\n\\nThis letter is a Termination Written Direction referred to in Section 2.5 of the Escrow\\nAgreement.\\n\\nLessor hereby represents and certifies that the following condition(s) to release of funds in the\\nEquipment Acquisition Account have occurred:\\n\\n[Disbursement conditions/representations to be provided.]\\nIn consideration of the foregoing representations, Lessor hereby instructs the Escrow Agent to\\n\\nrelease the funds in the Equipment Acquisition Account in the amounts, and to the account(s), as\\nfollows:\\n\\n \\n\\nAmount:\\n\\n \\n\\nBeneficiary Bank Name:\\nBeneficiary Bank Address\\nLine 1:\\n\\nBeneficiary Bank Address\\nLine 2:\\n\\n \\n\\nBeneficiary Bank Address\\nLine 3:\\n\\n \\n\\nABA#:\\n\\n \\n\\n \\n\\nSWIFT#:\\nBeneficiary Account Title:\\n\\n \\n\\n \\n\\n(01046507) -21-\\n\\n \\n\\x0c \\n\\nBeneficiary Account No./IBAN:\\n\\n \\n\\nBeneficiary Address\\nLine 1:\\n\\n \\n\\nBeneficiary Address\\nLine 2:\\n\\n \\n\\nBeneficiary Address\\nLine 3:\\n\\n \\n\\n \\n\\nAdditional Information:\\n\\nLESSOR:\\n\\nBy:\\nName:\\nTitle:\\nDate:\\n\\n401046507)\\n\\n \\n\\n-22\\'-\\n\\n \\n\\x0cEXHIBIT E-1\\n\\nCERTIFICATE AS TO AUTHORIZED SIGNATURES\\nOF LESSOR\\n\\nLessor hereby designates each of the following persons as its Authorized Representative for\\npurposes of this Escrow Agreement, and confirms that the title, contact information and\\nspecimen signature of each such person as set forth below is true and correct. Each such\\nAuthorized Representative is authorized to initiate and approve transactions of all types for the\\nEquipment Acquisition Account established under the Escrow Agreement to which this Exhibit\\nE-1 is attached, on behalf of Lessor.\\n\\n \\n\\nName (print): JP.\\n\\n \\n\\n \\n  \\n\\nSpecimen Signature:\\n\\n \\n\\n   \\n\\nTitle:\\n\\n \\n\\n \\n\\nTelephone Number 0; Q-715-9135\\n\\n \\n\\n \\n\\n \\n\\n \\n\\n \\n\\n \\n\\n \\n\\n \\n\\n \\n\\n \\n\\n \\n\\n \\n\\n \\n\\n \\n\\n \\n\\n \\n\\n \\n\\n \\n\\n \\n\\n \\n\\n(required): Cell: 443-838-9297\\nIf more than one, list all Home:\\nOther:\\nE-mail (required): Email 1: jpgrant@grantcapitalmgmt.com\\nIfmore than one, list all Email 2:\\nFacsimile:\\nName (print): Kimberly N. Brown\\nSpecimen Signature:\\nTitle:\\nTelephone Number\\n(required):\\nIf more than one, list all Home:\\nOther:410-715-9135\\nE-mail (required): Email 1: kbrown@grantcapitalmgmt.com\\nIf more than one, list all Email 2:\\nFacsimile:\\nName (print):\\nSpecimen Signature:\\nTitle:\\nTelephone Number Office:\\n(required): Cell:\\nIf more than one, list all Home:\\nOther:\\nE-mail (required): Email 1:\\nIfmore than one, list all Email 2:\\nFacsimile:\\n\\n \\n\\n \\n\\n{01046507} - 23 -\\n\\x0c \\n\\n \\n\\n \\n\\n \\n\\n \\n\\n \\n\\n \\n\\n \\n\\nName (print):\\n\\nSpecimen Signature:\\n\\nTitle:\\n\\nTelephone Number Office:\\n\\n(required): Cell:\\n\\nIf more than one, list all Home:\\nOther:\\n\\nE-mail (required): Email 1:\\n\\nIfmore than one, list all Email 2:\\n\\nFacsimile:\\n\\n \\n\\n \\n\\nCOMPLETE BELOW TO UPDATE EXHIBIT E-1\\n\\nIf Lessor wishes to change the names or details of any of its Authorized Representatives, Lessor\\nmust complete, sign and send to the Escrow Agent an updated copy of this Exhibit E-1 with such\\nchanges. Any updated Exhibit E-1 shall be effective once signed by Lessor and the Escrow\\nAgent and shall entirely supersede and replace any prior Exhibit E-1 attached to this Escrow\\nAgreement or submitted to the Escrow Agent.\\n\\nLESSOR:\\nGRANT CAPITAL MANAGEMENT, INC.\\n\\n \\n\\n \\n\\nitle: Pi\\nDate:\\n\\nMANUFACTURERS AND TRADERS TRUST COMPANY\\n\\nBy:\\nName:\\nTitle:\\nDate:\\n\\nInternal Use Only:\\n\\noc Updated details of Authorized Representatives completed in full\\n\\nOo Signed by a representative of Lessor per relevant board resolutions/certificate of\\n\\nincumbency on file (if relevant).\\n\\nco Call-back performed to Lessor to confirm authenticity of updated Exhibit E-1:\\nPerson Called: Date of Call: Time of Call: __am/pm\\n\\nReviewed by (name): Signature: Date:\\n\\n(01046507 -24-\\n\\n \\n\\x0cEXHIBIT E-2\\n\\nCERTIFICATE AS TO AUTHORIZED SIGNATURES\\nOF LESSEE\\n\\nLessee hereby designates each of the following persons as its Authorized Representative for\\npurposes of this Escrow Agreement, and confirms that the title, contact information and\\nspecimen signature of each such person as set forth below is true and correct. Each such\\nAuthorized Representative is authorized to initiate and approve transactions of all types for the\\nEquipment Acquisition Account established under the Escrow Agreement to which this Exhibit\\n\\nE-2 is attached, on behalf of Lessee.\\n\\n \\n\\nName (print):\\n\\nell A. Rogers\\n\\n \\n\\n \\n\\nSpecimen Signature:\\n\\n \\n\\nA\\n\\n \\n\\n \\n\\n \\n\\nTitle: fief, Bureau of Treasury agement\\nTelephone Number Office: 410-396-4750\\n(required): Cell:\\nIf more than one, list all Home:\\nOther:\\n\\n \\n\\nE-mail (required):\\nIfmore than one, list all\\n\\nEmail 1: jennell.rogers@baltimorecity.gov\\nEmail 2:\\n\\n \\n\\nFacsimile:\\n\\n \\n\\n \\n\\nName (print):\\nSpecimen Signature:\\n\\nBenedict Richardson\\n\\n \\n\\nDeputy Chief, Bureau of Treasury Management\\n\\n \\n\\n \\n\\n \\n\\n \\n\\n \\n\\n \\n\\n \\n\\n \\n\\n \\n\\nTitle:\\nTelephone Number Office: 410-396-1918\\n(required): Cell:\\nIf more than one, list all Home:\\nOther:\\nE-mail (required): Email 1: benedict.richardson@baltimorecity.gov\\nIf more than one, list all Email 2:\\nFacsimile:\\nName (print):\\nSpecimen Signature:\\nTitle:\\nTelephone Number Office:\\n(required): Cell:\\nIf more than one, list all Home:\\nOther:\\nE-mail (required): Email 1:\\nIfmore than one, list all Email 2:\\n\\n \\n\\n \\n\\nFacsimile:\\n\\n \\n\\n \\n\\n(01046507)\\n\\n-25-\\n\\n \\n\\x0cEXHIBIT\\n\\nNOTICE OF ASSIGNMENT\\nDated: November 9, 2017\\n\\nGrant Capital Management, Inc. (\"Lessor/Assignor\"), hereby gives notice of an Assignment Agreement\\nbetween Lessor/Assignor and Capital One Public Funding, LLC (\"Assignee\"), by which Lessor/Assignor\\nassigned to Assignee all of its rights in and to the Rental Payments and other amounts due under the\\nAmended and Restated Master Equipment Lease/Purchase Agreement dated March 17, 2004 between\\nGrant Capital Management, Inc., successor to First Municipal Credit Corporation (\"Lessor\") and Mayor\\nand City Council of Baltimore (the, “Lessee”), as amended by a First Amendment to Amended and\\nRestated Master Equipment Lease/Purchase Agreement dated February 26, 2009, a Second Amendment\\nto Amended and Restated Master Equipment Lease/Purchase Agreement dated as of August 6, 2009, and\\na Third Amendment to Amended and Restated Master Equipment Lease/Purchase Agreement dated as of\\nOctober 28, 2009, and Equipment Schedule A No. 29 dated November 9, 2017 (together, the \" Lease\").\\nLessor/Assignor hereby requests and instructs Lessee that all Rental Payments coming due pursuant to the\\nLease are payable to and should be remitted to:\\n\\nCapital One Public Funding, LLC\\nFederal ID No.: 11-2209667\\nBank: Capital One Bank\\nRtg 065000090\\nBeneficiary: JAMSAB Realty Corp./Capital One Public Funding\\nAC # 3124063607\\nRe: City of Baltimore Schedule A No. 29\\n\\nAll other notices and correspondence under the Lease shall be sent to:\\n\\nCapital One Public Funding, LLC.\\n275 Broadhollow Road, 4\" Floor\\nMelville, NY 11747\\nTax ID No: 11-2209667\\nAttn: Catherine DeLuca, VP\\n\\nGRANT CAPITAL MANAGEMENT, INC.,\\nLessor/Assignor\\n\\n \\n\\nPHTRANS(\\\\302231\\\\1\\n\\x0cACKNOWLEDGMENT AND CONSENT TO ASSIGNMENT\\n\\nThe Mayor and City Council of Baltimore (“Lessee”), as party to the Amended and Restated Master\\nEquipment Lease/Purchase Agreement dated March 17, 2004 between Grant Capital Management, Inc.,\\nsuccessor to First Municipal Credit Corporation (\"Lessor\") and the Lessee, as amended by a First\\nAmendment to Amended and Restated Master Equipment Lease/Purchase Agreement dated February 26,\\n2009, a Second Amendment to Amended and Restated Master Equipment Lease/Purchase Agreement\\ndated as of August 6, 2009, and a Third Amendment to Amended and Restated Master Equipment\\nLease/Purchase Agreement dated as of October 28, 2009 (the \"Original Master Lease\"), and Equipment\\nSchedule A No. 29 dated November 9, 2017 \"Schedule A No, 29\" and together with the Original Master\\nLease, the \"Lease\"), hereby acknowledges receipt of a Notice of Assignment dated as of November 9,\\n2017, whereby Lessor gave notice of its assignment to Capital One Public Funding, LLC (“Assignee”), of\\nits right, title and interest in and to the Lease, all Rental Payments, Additional Rents, indemnifications\\nand other amounts due from Lessee under the Lease, the Equipment described therein, the Escrow\\nAgreement by and among Manufacturer and Traders Trust Company, Lessor and Lessee, dated as of\\nNovember 9, 2017 (the \"Escrow Agreement\"), and the Equipment Acquisition Fund created thereunder\\nand all monies on deposit therein. Lessee acknowledges that Assignee is acting solely as Assignee for its\\nown loan account and not as a fiduciary for Lessee or in the capacity of broker, dealer, placement agent,\\nmunicipal securities underwriter, municipal advisor or fiduciary. Assignee has not provided, and will not\\nprovide, financial, legal (including securities law), tax, accounting or other advice to or on behalf of\\nLessee and Assignee is not recommending that Lessee take any action (including to any financial advisor\\nor any placement agent engaged by Lessee) with respect to the structuring, issuance, sale or delivery of\\nthe Lease. Assignee has no fiduciary duty pursuant to Section 15B of the Securities Exchange Act of\\n1934 to Lessee with respect to the transactions relating to the structuring, issuance, sale or delivery of the\\nLease and the discussions, undertakings and procedures leading thereto. Each of Lessee, its financial\\nadvisor and its placement agent has sought and shall seek and obtain financial, legal (including securities\\nlaw), tax, accounting and other advice (including as it relates to structure, timing, terms and similar\\nmatters and compliance with legal requirements applicable to such parties) with respect to the Lease from\\nits own financial, legal, tax and other advisors (and not from the undersigned or its affiliates) to the extent\\nthat Lessee, its financial advisor or its placement agent desires, should or needs to obtain such advice.\\nAssignee has no fiduciary duty pursuant to Section 15B of the Securities Exchange Act of 1934 to Lessee\\nwith respect to the Lease and the discussions, undertakings and procedures leading thereto irrespective of\\nwhether Assignee has provided other services or is currently providing other services to Lessee on other\\nmatters.\\n\\nLessee consents to such assignment, PROVIDED THE ASSIGNEE IS NOT A PERSON\\nBARRED FROM DOING BUSINESS WITH THE CITY OR WHO IS OTHERWISE NOT ALLOWED\\nBY CITY POLICY TO CONTRACT DIRECTLY WITH THE CITY ON A PERMANENT OR\\nTEMPORARY BASIS and pursuant to the Notice of Assignment from Lessor, Lessee agrees to deliver\\nall Rental Payments, Additional Rents, indemnifications and other amounts coming due under the Lease\\nby wire transfer of immediately available funds to:\\n\\nCapital One Public Funding, LLC\\nFederal ID No.: 11-2209667\\nBank: Capital One Bank\\nRtg 065000090\\nBeneficiary: JAMSAB Realty Corp./Capital One Public Funding\\n\\n{01047845} PHTRANS\\\\284579\\\\ 1\\n\\x0cAC # 3124063607\\nRe: City of Baltimore Schedule A No. 29\\n\\nAll other notices and correspondence under the Lease shall be sent to:\\n\\nCapital One Public Funding, LLC.\\n275 Broadhollow Road, 4\" Floor\\nMelville, NY 11747\\nTax ID No: 11-2209667\\nAttn: Catherine DeLuca, VP\\n\\nCapitalized terms used herein and not defined shall have the meanings assigned them in the Lease.\\n\\nMayor and City Council of Baltimore, Lessee\\n\\n   \\n\\nBy:\\n\\n \\n\\nie: Jennell A. Rogers\\nle: Chief, Bureau of Treasury Mgmt.\\n\\n(01047845; PHTRANS\\\\284579\\\\1\\n\\x0c1.\\n\\nQUESTIONNAIRE FOR SELF-INSURANCE\\n\\nIn connection with the Amended and Restated Master Lease Agreement dated as of March 17,\\n2004 and Equipment Schedule A No. 29 thereto (together, the “Lease”), made and entered into\\nby and between Grant Capital Management, Inc., as Lessor, and the lessee identified below, as\\nLessee, Lessee warrants and represents to Lessor as follows:\\n\\nProperty Insurance\\n\\ne Lessee is self-insured for damage or destruction to the Equipment.\\n\\n \\n\\nlyEs) NO (circle one)\\n\\nIf yes, the dollar amount limit for the property damage to the\\nEquipment under the Lessee’s self-insurance program is $500,000.\\n\\n. The Lessee maintains an umbrella insurance policy for claims in\\nexcess of Lessee’s self-insurance limits for property damage to the\\nEquipment as indicated above. YES) NO (circle one)\\n\\n \\n\\nIf yes, the umbrella policy provides coverage for all risk property\\ndamage. [YES/ NO (circle one)\\n\\n \\n\\nIf yes, the dollar limit for property damage to the Equipment under\\nsuch umbrella policy is $500,000,000.\\n\\nLiability Insurance\\n° Lessee is self-insured for liability for injury or death of any person\\nor damage or loss of property arising out of or relating to the condition or\\noperation of the Equipment. lYES) NO (circle one)\\n\\n \\n\\nIf yes, the dollar limit for such liability claims under the Lessee’s\\nself-insurance program is Minimum Mandatory Limits as set forth in\\nSection 17-103 Transportation Article, Annotated Code of Maryland.\\n\\n. The Lessee maintains an umbrella insurance policy for claims in\\nexcess of the Lessee’s self-insurance limits for liability including injury or\\ndeath of persons or damage to property as indicated in above. YES/|NO|\\n(circle one)\\n\\n \\n\\n \\n\\n \\n\\n \\n\\nIf yes, the umbrella policy provides coverage for liabilities for\\ninjury and death to persons as well as damage or loss of property arising\\nout of or relating to the condition or operation of the Equipment. YES/ NO\\n(circle one)\\n\\nIf yes, the dollar amount of the umbrella policy’s limits for such liability\\ncoverage is $ 5\\n\\x0c3A.\\n\\n3B.\\n\\n \\n\\n \\n\\n \\n\\nLessee maintains a self-insurance fund. [YES/NO (circle one)\\n\\n \\n\\nIf yes, please complete the following:\\n\\nMonies in the self-insurance fund are subject to annual appropriation.\\n[YES] NO (circle one)\\n\\n \\n\\n \\n\\n \\n\\n \\n\\nThe total amount maintained in the self-insurance to cover the Lessee’s\\nself-insurance liabilities is $27,000,000.\\n\\nAmounts paid from the Lessee’s self-insurance fund are subject to\\nlimitations for each claim. [YES/ NO (Circle one)\\n\\n \\n\\n \\n\\n \\n\\n \\n\\nIf yes, the dollar amount of the limit per claim is $20,000 for any one person and\\n$40,000 for any one accident and $15,000 for property damage of others as set\\nforth in Section 17-103, Transportation Article, Annotated Code of Maryland.\\n\\nIf Lessee does not maintain a self-insurance fund, please complete the following:\\n\\nLessee obtains funds to play claims for which it has self-insured from the\\nfollowing sources:\\n\\n \\n\\n \\n\\nThe limitations on the amounts payable from the above sources for claims\\nare as follows:\\n\\n \\n\\n \\n\\nThe following entity or officer has authority to authorize payment for a\\nclaim:\\n\\n \\n\\nIn the event the entity or officer named in the prior response denies\\npayment of a claim, does the claimant have recourse to another administrative\\nofficer, agency or the courts? YES/ NO (circle one)\\n\\nIf yes, to whom does the claimant have recourse?\\n\\nITY he\\n\\n    \\n\\nLESSEE: MAYOR,\\n\\n  \\n \\n\\nTitle/Date:\\n\\x0cDECLARATION\\nOF\\nOFFICIAL INTENT\\n\\nJennell A. Rogers, Chief, Bureau of Treasury Management, of the Mayor and City Council of\\nBaltimore, having been duly designated by the Director of Finance for the Mayor and City Council of\\nBaltimore as the official of the Mayor and City Council of Baltimore responsible for making declarations of\\nofficial intent for the purpose of satisfying the official intent requirement of Treas. Reg. 1.150-2, hereby\\ncertifies, on behalf of the Mayor and City Council of Baltimore, as follows:\\n\\n1. Mayor and City Council of Baltimore reasonably expects to reimburse the following\\nexpenditure(s) with the proceeds of a tax-exempt financing:\\n\\n[OUNT. DESCRIPTION PAYEE\\n$18,891,630.00 Various vehicles Various Vendors\\nThe project to which the expenditure(s) relate can be generally described as follows:\\nVehicle Fleet Replacement Program\\n\\nOf the total amount of the proceeds of the tax-exempt financing from which reimbursement is\\nto be made, $18,891,630.00is reasonably expected to be used to reimburse the above-described\\nexpenditure(s).\\n\\n2. This Declaration of Official Intent is being entered into on or before the date on which the\\nexpenditure(s) to be reimbursed will be paid.\\n\\n3. This Declaration of Official Intent is intended to be a Declaration of Official Intent within the\\nmeaning of Treas. Reg. 1.150-2.\\n\\n4. This Declaration of Official Intent shall be made available for general public inspection at 200\\nHolliday Street, Baltimore, MD 21202, the main administrative office of Mayor and City\\nCouncil of Baltimore within thirty (30) days of the date hereof and shall remain available for\\ngeneral public inspection until the date of issue of the tax-exempt financing that provides the\\nmonies for reimbursement.\\n\\nIN WITNESS WHEREOEF, | have executed this Declaration of Official Intent as of the day\\nof »20_.\\n\\n  \\n\\nell A. Rogers, Chief, Bu of Treasury Management\\n\\n   \\n\\x0cCERTIFICATE OF LENDER\\n\\nI, Catherine DeLuca, Vice President of Capital One Public Funding, LLC, Melville, New\\nYork (“COPF”), do hereby certify as follows with regard to Schedule A No. 29 dated November 9,\\n2017, in the principal amount of $18,891,630.00, to that certain Amended and Restated Master\\nEquipment Lease/Purchase Agreement dated as of March 17, 2004, as amended, entered into\\nbetween The Mayor and City Council of Baltimore (the “Borrower”, as lessee, and COPF, as\\nassignee of Grant Capital Management, Inc. (successor to First Municipal Credit Corporation), as\\nlessor (the “Loan Obligation”):\\n\\nit COPF has full power and authority to carry on its business as now conducted, deliver\\nthis Certificate and make the representations and certifications contained herein.\\n\\n2. COPF is a lender that regularly extends credit to state and local governments by\\nmaking loans and repayment obligations which are evidenced by obligations such as the Loan\\nObligation; has knowledge and experience in financial and business matters that make it capable of\\nevaluating the Borrower, the Loan Obligation and the risks associated with the extension of credit\\nevidenced by the Loan Obligation; has the ability to bear the economic risk of extending the credit\\nevidenced by the Loan Obligation; and is a limited liability company engaged in the primary\\nbusiness of extending credit and making loans to state and local governments and non-profit\\nentities and has total assets in excess of $1 billion. COPF is not acting as a broker, dealer,\\nmunicipal securities underwriter, municipal advisor or fiduciary in connection with its extension of\\ncredit evidenced by the Loan Obligation.\\n\\n3. COPF has conducted its own investigation of the financial condition of the Borrower,\\nthe purpose for which the Loan Obligation is being executed and delivered and of the security for the\\npayment of the principal of and interest on the Loan Obligation, and has obtained such information\\nregarding the Loan Obligation and the Borrower and its operations, financial condition and financial\\nprospects as COPF deems necessary to make an informed lending decision with respect to its\\nextension of credit evidenced by the Loan Obligation.\\n\\n4. COPF is extending credit to the Borrower evidenced by the Loan Obligation as a\\nvehicle for making a commercial loan for its own loan account and without any present intention\\nof distributing or selling any interest therein or portion thereof, provided that COPF retains the right\\nat any time to dispose of the Loan Obligation or any interest therein or portion thereof, but agrees\\nthat any such sale, transfer or distribution by COPF shall be made in accordance with applicable\\nlaw and the provisions of the Loan Obligation and related documents to (a) an affiliate of COPF\\nor (b) one or more banks, insurance companies or other financial institutions that executed a\\nLender Certificate substantially in the form of this Lender Certificate.\\n\\n5. COPF acknowledges that the Loan Obligation (a) has not been registered under\\nthe Securities Act of 1933, as amended; and has not been registered or otherwise qualified for\\nsale under the securities laws of any state, (b) will not be listed on any securities exchange and\\n(c) there is no established market for the Loan Obligation and that none is likely to develop.\\nCOPF understands and acknowledges that (i) its extension of credit evidenced by the Loan\\nObligation is not intended to be subject to the requirements of Rule 152-12 promulgated under\\nthe Securities Exchange Act of 1934, as amended and (ii) in connection with its extension of\\n\\x0ccredit evidenced by the Loan Obligation, the Borrower has not prepared or caused to be\\nprepared, any official statement, private placement memorandum or other offering document.\\n\\n6. COPF is acting solely for its own loan account and not as a fiduciary for the\\nBorrower or in the capacity of broker, dealer, placement agent, municipal securities underwriter,\\nmunicipal advisor or fiduciary. It has not provided, and will not provide, financial, legal\\n(including securities law), tax, accounting or other advice to or on behalf of the Borrower\\n(including to any financial advisor or any placement agent engaged by the Borrower) with\\nrespect to the structuring or delivery of the Loan Obligation. COPF has no fiduciary duty\\npursuant to Section 15B of the Securities Exchange Act of 1934 to the Borrower with respect to\\nthe transactions relating to the structuring or delivery of the Loan Obligation and the discussions,\\nundertakings and procedures leading thereto. Each of the Borrower, its financial advisor and its\\nplacement agent has sought and shall seek and obtain financial, legal (including securities law),\\ntax, accounting and other advice (including as it relates to structure, timing, terms and similar\\nmatters and compliance with legal requirements applicable to such parties) with respect to the\\nLoan Obligation from its own financial, legal, tax and other advisors (and not from the\\nundersigned or its affiliates) to the extent that the Borrower, its financial advisor or its placement\\nagent desires, should or needs to obtain such advice. The undersigned expresses no view\\nregarding the legal sufficiency of its representations for purposes of compliance with any legal\\nrequirements applicable to any other party, including but not limited to the Borrower’s financial\\nadvisor or placement agent, or the correctness of any legal interpretation made by counsel to any\\nother party, including but not limited to counsel to the Borrower’s financial advisor or placement\\nagent, with respect to any such matters. The transactions between the Borrower and COPF are\\narm’s length, commercial transactions in which COPF is acting and has acted solely as a\\nprincipal and for its own interest and COPF has not made recommendations to the Borrower with\\nrespect to the transactions relating to the Loan Obligation.\\n\\nDATED this 9\"* day of November, 2017.\\nCAPITAL ONE PUBLIC FUNDING, LLC\\n\\nBy: Copia Sven\\n\\nName: Catherine DeLuca\\nTitle: Vice President\\n\\x0cMaw.\\nGRANT\\n\\nCAPITAL MANAGEMENT\\nNovember 9, 2017\\n\\nCapital One Public Funding, LLC\\n275 Broadhollow Road\\nMelville, NY 11747\\n\\nTo Whom It May Concern:\\n\\nIn accordance with the terms and conditions of the Amended and Restated Master Equipment\\nLease/Purchase Agreement dated March 17, 2004, as amended by a First Amendment to Amended and\\nRestated Master Equipment Lease/Purchase Agreement dated February 26, 2009, a Second\\nAmendment to Amended and Restated Master Equipment Lease/Purchase Agreement dated August 6,\\n2009, and a Third Amendment to Amended and Restated Master Equipment Lease/Purchase Agreement\\ndated as of October 28, 2009 between Grant Capital Management, Inc., successor to First Municipal\\nCredit Corporation (the “Assignor”) and the MAYOR AND CITY COUNCIL OF BALTIMORE (the \"Lessee\")\\n(as further amended, modified and supplemented from time to time, the \"Master Lease\") and Schedule\\nANo. 29, dated November 9, 2017 (as amended, modified and supplemented from time to time\\n\"Schedule A No. 29\" and together with the Master Lease, the \"Lease\") this letter will serve as our\\nauthorization for you to wire transfer funds in the amount of $18,891,630.00 to the bank account as set\\nforth below.\\n\\nBank Name: Wilmington Trust\\nBank City/ State: Wilmington, DE\\n\\nBank Contact Name — Sandy Maulkhan /410-244-4084\\n\\nName: Wilmington Trust\\n\\nABA #: 031100092\\n\\nFFC: MCC Balt Acquisition Fund #29\\n\\nCredit to a/c # 122978-000\\n\\nAcct Holders Tax ID# 52-6000769 Customers Phone# 410-244-4084\\nCustomers Fax # 410-244-4236\\n\\n \\n\\n8894 Stanford Boulevard, Suite 203, Columbia, Maryland 21045 © (410)715-9135 / (410)715-9139 Fax\\n\\x0c'"
      ]
     },
     "execution_count": 66,
     "metadata": {},
     "output_type": "execute_result"
    }
   ],
   "source": [
    "amort_document_text.decode()"
   ]
  },
  {
   "cell_type": "markdown",
   "metadata": {
    "slideshow": {
     "slide_type": "slide"
    }
   },
   "source": [
    "## <font color=green>kryptonite: </font><font color=red>limitations</font>\n",
    "1. It doesn't alert to the potential existence of a table in the PDF. For example, using textract to process the file object  ```textract.process(searchable_pdf_fuel_file)```   returns the section of the document Table 2.1 as if it were just text--which it is\n",
    "2. Running textract processing on a large file takes a while \n",
    "3. Interesting parsing patterns when handling tabular data"
   ]
  },
  {
   "cell_type": "code",
   "execution_count": 29,
   "metadata": {
    "collapsed": true,
    "slideshow": {
     "slide_type": "skip"
    }
   },
   "outputs": [],
   "source": [
    "def invisible_tables_in_textract():\n",
    "    no_table_detection = textract.process(searchable_pdf_fuel_file).decode()\n",
    "    display(HTML(\"<table><tr><td><img src='images/camelot-example-no-table-detection.png'></td></tr></table>\"))\n",
    "    return no_table_detection"
   ]
  },
  {
   "cell_type": "code",
   "execution_count": 30,
   "metadata": {
    "slideshow": {
     "slide_type": "slide"
    }
   },
   "outputs": [
    {
     "data": {
      "text/html": [
       "<table><tr><td><img src='images/camelot-example-no-table-detection.png'></td></tr></table>"
      ],
      "text/plain": [
       "<IPython.core.display.HTML object>"
      ]
     },
     "metadata": {},
     "output_type": "display_data"
    },
    {
     "data": {
      "text/plain": [
       "'2 Quantifying Fuel-Saving Opportunities from Specific Driving\\nBehavior Changes\\nSavings from Improving Individual Driving Profiles\\n\\n2.1\\n2.1.1\\n\\nDrive Profile Subsample from Real-World Travel Survey\\n\\nThe interim report (Gonder et al. 2010) included results from detailed analyses on five cycles\\nselected from a large set of real-world global positioning system (GPS) travel data collected in\\n2006 as part of a study by the Texas Transportation Institute and the Texas Department of\\nTransportation (Ojah and Pearson 2008). The cycles were selected to reflect a range of kinetic\\nintensity (KI) values. (KI represents a ratio of characteristic acceleration to aerodynamic speed\\nand has been shown to be a useful drive cycle classification parameter [O’Keefe et al. 2007].)\\nTo determine the maximum possible cycle improvement fuel savings, the real-world cycles were\\nconverted into equivalent “ideal” cycles using the following steps:\\n1. Calculate the trip distance of each sample trip.\\n2. Eliminate stop-and-go and idling within each trip.\\n3. Set the acceleration rate to 3 mph/s.\\n4. Set the cruising speed to 40 mph.\\n5. Continue cruising at 40 mph until the trip distance is reached.\\nTo compare vehicle simulations over each real-world cycle and its corresponding ideal cycle, a\\nmidsize conventional vehicle model from a previous NREL study was used (Earleywine et al.\\n2010). The results indicated a fuel savings potential of roughly 60% for the drive profiles with\\neither very high or very low KI and of 30%–40% for the cycles with moderate KI values.\\nTable 2-1 takes the analysis of these five cycles from the interim report a step further by\\nexamining the impact of the optimization steps one at a time in isolation. As indicated by other\\nsimulations from the interim report (Gonder et al. 2010), acceleration rate reductions can deliver\\nsome small fuel savings, but avoiding accelerations and decelerations (accel/decel) altogether\\nsaves larger amounts of fuel. This suggests that driving style improvements should focus on\\nreducing the number of stops in high KI cycles, and not just the rate of accelerating out of a stop.\\nTable 2-1. Simulated fuel savings from isolated cycle improvements\\nDistance\\n(mi)\\n\\nPercent Fuel Savings\\nDecreased Eliminate\\nAccel\\nStops\\n9.5%\\n29.2%\\n\\nCycle\\nName\\n\\nKI\\n(1/km)\\n\\n2012_2\\n\\n3.30\\n\\n1.3\\n\\nImproved\\nSpeed\\n5.9%\\n\\n2145_1\\n\\n0.68\\n\\n11.2\\n\\n2.4%\\n\\n0.1%\\n\\n9.5%\\n\\n2.7%\\n\\n4234_1\\n\\n0.59\\n\\n58.7\\n\\n8.5%\\n\\n1.3%\\n\\n8.5%\\n\\n3.3%\\n\\n2032_2\\n\\n0.17\\n\\n57.8\\n\\n21.7%\\n\\n0.3%\\n\\n2.7%\\n\\n1.2%\\n\\n4171_1\\n\\n0.07\\n\\n173.9\\n\\n58.1%\\n\\n1.6%\\n\\n2.1%\\n\\n0.5%\\n\\nDecreased\\nIdle\\n17.4%\\n\\nFigure 2-1 extends the analysis from eliminating stops for the five example cycles and examines\\nthe additional benefit from avoiding slow-and-go driving below various speed thresholds.\\n3\\n\\n\\x0c'"
      ]
     },
     "execution_count": 30,
     "metadata": {},
     "output_type": "execute_result"
    }
   ],
   "source": [
    "invisible_tables_in_textract()"
   ]
  },
  {
   "cell_type": "code",
   "execution_count": 31,
   "metadata": {
    "slideshow": {
     "slide_type": "skip"
    }
   },
   "outputs": [
    {
     "name": "stdout",
     "output_type": "stream",
     "text": [
      "AMORTIZATION\n",
      "SCHEDULE\n",
      "Payment\n",
      "Payment\n",
      "Payment\n",
      "Interest\n",
      "Principal\n",
      "Purchase\n",
      "No.\n",
      "Date\n",
      "Amount\n",
      "Component\n",
      "Component\n",
      "Price\n",
      "Loan\n",
      "11/9/2017\n",
      "1\n",
      "5/1/2018\n",
      "1,100,264.54\n",
      "273,262.18\n",
      "827,002.36\n",
      "18,606,566.47\n",
      "2\n",
      "11/1/2018\n",
      "1,100,264.54\n",
      "271,872.65\n",
      "828,391.89\n",
      "17,753,322.82\n",
      "3\n",
      "5/1/2019\n",
      "=\n",
      "1,100,264.54\n",
      "259,405.35\n",
      "840,859.19\n",
      "16,887,237.86\n",
      "4\n",
      "11/1/2019\n",
      "1,100,264.54\n",
      "246,750.42\n",
      "853,514.12\n",
      "16,008,118.31\n",
      "5\n",
      "5/1/2020\n",
      "=\n",
      "1,100,264.54\n",
      "233,905.03\n",
      "866,359.51\n",
      "15,115,768.02\n",
      "6\n",
      "11/1/2020\n",
      "+\n",
      "1,100,264.54\n",
      "220,866.32\n",
      "879,398.22\n",
      "14,209,987.85\n",
      "7\n",
      "5/1/2021\n",
      "1,100,264.54\n",
      "207,631.38\n",
      "892,633.16\n",
      "13,290,575.70\n",
      "8\n",
      "11/1/2021\n",
      "1,100,264.54\n",
      "194,197.25\n",
      "906,067.29\n",
      "12,357,326.39\n",
      "9\n",
      "5/1/2022\n",
      "1,100,264.54\n",
      "180,560.93\n",
      "919,703.61\n",
      "11,410,031.67\n",
      "10\n",
      "11/1/2022\n",
      "1,100,264.54\n",
      "166,719.39\n",
      "933,545.15\n",
      "10,448,480.17\n",
      "11\n",
      "5/1/2023\n",
      "1,100,264.54\n",
      "152,669.54\n",
      "947,595.00\n",
      "9,472,457.32\n",
      "12\n",
      "11/1/2023\n",
      "1,100,264.54\n",
      "138,408.24\n",
      "961,856.30\n",
      "8,481,745.33\n",
      "13\n",
      "5/1/2024\n",
      "1,100,264.54\n",
      "123,932.30\n",
      "976,332.24\n",
      "7,476,123.12\n",
      "14\n",
      "11/1/2024\n",
      "1,100,264.54\n",
      "109,238.50\n",
      "991,026.04\n",
      "6,455,366.30\n",
      "15\n",
      "5/1/2025\n",
      "1,100,264.54\n",
      "94,323.56\n",
      "1,005,940.98\n",
      "5,419,247.09\n",
      "16\n",
      "11/1/2025\n",
      "=\n",
      "1,100,264.54\n",
      "79,184.14\n",
      "=1,021,080.40\n",
      "4,367,534.28\n",
      "17\n",
      "5/1/2026\n",
      "1,100,264.54\n",
      "63,816.88\n",
      "1,036,447.66\n",
      "3,299,993.19\n",
      "18\n",
      "11/1/2026\n",
      "1,100,264.54\n",
      "48,218.35\n",
      "1,052,046.19\n",
      "2,216,385.61\n",
      "19\n",
      "5/1/2027\n",
      "1,100,264.54\n",
      "32,385.05\n",
      "1,067,879.49\n",
      "1,116,469.74\n",
      "20\n",
      "11/1/2027\n",
      "_\n",
      "1,100,264.54\n",
      "16,313.34\n",
      "â_\n",
      "1,083,951.20\n",
      "0.00\n",
      "Totals\n",
      "22,005,290.80\n",
      "3,113,660.80\n",
      "18,891,630.00\n",
      "Until\n",
      "Lessee\n",
      "receives\n",
      "written\n",
      "notification\n",
      "to\n",
      "the\n",
      "contrary,\n",
      "all\n",
      "payments\n",
      "due\n",
      "under\n",
      "the\n",
      "Master\n",
      "Lease\n",
      "and\n",
      "this\n",
      "Schedule\n",
      "A\n",
      "No.\n",
      "29,\n",
      "including\n",
      "but\n",
      "not\n",
      "limited\n",
      "to\n",
      "Rental\n",
      "Payments,\n",
      "Additional\n",
      "Rents,\n",
      "indemnifications\n",
      "and\n",
      "other\n",
      "sums\n",
      "due\n",
      "and\n",
      "payable\n",
      "under\n",
      "the\n",
      "Lease\n",
      "are\n",
      "to\n",
      "be\n",
      "paid\n",
      "to\n",
      "and\n",
      "all\n",
      "notices\n",
      "are\n",
      "to\n",
      "be\n",
      "sent\n",
      "to\n",
      "the\n",
      "following\n",
      "respective\n",
      "addresses:\n",
      "Notices:\n",
      "Rental\n",
      "Payments:\n",
      "Grant\n",
      "Capital\n",
      "Management,\n",
      "Inc.\n",
      "Capital\n",
      "One\n",
      "Public\n",
      "Funding,\n",
      "LLC\n",
      "8894\n",
      "Stanford\n",
      "Blvd\n",
      "Federal\n",
      "ID\n",
      "No.:\n",
      "11-2209667\n",
      "Suite\n",
      "203\n",
      "Bank:\n",
      "Capital\n",
      "One\n",
      "Bank\n",
      "Columbia,\n",
      "MD\n",
      "21045\n",
      "Rtg\n",
      "065000090\n",
      "Beneficiary:\n",
      "JAMSAB\n",
      "Realty\n",
      "Corp./\n",
      "Capital\n",
      "One\n",
      "Public\n",
      "Funding\n",
      "AC\n",
      "#\n",
      "3124063607\n",
      "Re:\n",
      "City\n",
      "of\n",
      "Baltimore\n",
      "Schedule\n",
      "A\n",
      "No.29\n",
      "(01047850;\n",
      "A-3\n"
     ]
    }
   ],
   "source": [
    "# comparison chunking along columns or blocks and therefore pushes the text to the middle of the string rendering\n",
    "for line in textract.process(png_amort_page4_image_file, method='tesseract').decode().split():\n",
    "    print(line)"
   ]
  },
  {
   "cell_type": "code",
   "execution_count": 32,
   "metadata": {
    "collapsed": true,
    "slideshow": {
     "slide_type": "skip"
    }
   },
   "outputs": [],
   "source": [
    "def column_chunking_in_textract():\n",
    "    display(HTML(\"<table><tr><td><img src='images/page4-algo-chunk-image.png'></td></tr></table>\"))"
   ]
  },
  {
   "cell_type": "code",
   "execution_count": 33,
   "metadata": {
    "slideshow": {
     "slide_type": "slide"
    }
   },
   "outputs": [
    {
     "data": {
      "text/html": [
       "<table><tr><td><img src='images/page4-algo-chunk-image.png'></td></tr></table>"
      ],
      "text/plain": [
       "<IPython.core.display.HTML object>"
      ]
     },
     "metadata": {},
     "output_type": "display_data"
    }
   ],
   "source": [
    "column_chunking_in_textract()"
   ]
  },
  {
   "cell_type": "markdown",
   "metadata": {
    "slideshow": {
     "slide_type": "slide"
    }
   },
   "source": [
    "## <font color=purple>working with PyPDF2</font>"
   ]
  },
  {
   "cell_type": "markdown",
   "metadata": {
    "slideshow": {
     "slide_type": "slide"
    }
   },
   "source": [
    "### <font color=green>summary</font>\n",
    "1. Is pure python \n",
    "2. A toolkit for working with PDFs enabling you to get metadata like author and title, split docs by page, merge or crop docs as well as encrypt or dcrypt files\n",
    "3. Originates from the [pyPdf project](https://pypi.org/project/pyPdf/) and currently maintaned by [Phaseit](http://phaseit.net/), a software company focusing on integration of legacy projects with new systems, workflow automations, and building plugins "
   ]
  },
  {
   "cell_type": "code",
   "execution_count": 34,
   "metadata": {
    "collapsed": true,
    "slideshow": {
     "slide_type": "slide"
    }
   },
   "outputs": [],
   "source": [
    "pypdf2_doc = PyPDF2.PdfFileReader(file, 'rb')"
   ]
  },
  {
   "cell_type": "markdown",
   "metadata": {
    "slideshow": {
     "slide_type": "slide"
    }
   },
   "source": [
    "```python\n",
    "def information_about_file(document):\n",
    "    \"\"\"returns metadta string for a file with PyPDF2 methods.\"\"\"\n",
    "    obj = document.getDocumentInfo()\n",
    "    created = obj['/CreationDate'].split(':')[1]\n",
    "    modified = obj['/ModDate'].split(':')[1]\n",
    "    pages = document.getNumPages()\n",
    "    info = \"The {} page file has: creation date: {} modification date: {}\".format(pages, created,modified)\n",
    "    \n",
    "    return info```"
   ]
  },
  {
   "cell_type": "code",
   "execution_count": 35,
   "metadata": {
    "collapsed": true,
    "slideshow": {
     "slide_type": "skip"
    }
   },
   "outputs": [],
   "source": [
    "def information_about_file(document):\n",
    "    \"\"\"returns metadta string for a file with PyPDF2 methods.\"\"\"\n",
    "    obj = document.getDocumentInfo()\n",
    "    created = obj['/CreationDate'].split(':')[1]\n",
    "    modified = obj['/ModDate'].split(':')[1]\n",
    "    pages = document.getNumPages()\n",
    "    info = \"The {} page file has: creation date: {} modification date: {}\".format(pages, created,modified)\n",
    "    \n",
    "    return info"
   ]
  },
  {
   "cell_type": "code",
   "execution_count": 36,
   "metadata": {
    "collapsed": true,
    "slideshow": {
     "slide_type": "skip"
    }
   },
   "outputs": [],
   "source": [
    "def existence_interactive_fields(document):\n",
    "    \"\"\" retruns response value on existence or not of interactive form fields in pdf\"\"\"\n",
    "    print(document.getFields())"
   ]
  },
  {
   "cell_type": "code",
   "execution_count": 37,
   "metadata": {
    "collapsed": true,
    "slideshow": {
     "slide_type": "skip"
    }
   },
   "outputs": [],
   "source": [
    "def check_encryption(file):\n",
    "    \"\"\" returns a boolean value from check to see if file was encrypted\"\"\"\n",
    "    return file.isEncrypted"
   ]
  },
  {
   "cell_type": "code",
   "execution_count": 38,
   "metadata": {
    "slideshow": {
     "slide_type": "slide"
    }
   },
   "outputs": [
    {
     "name": "stdout",
     "output_type": "stream",
     "text": [
      "The 72 page file has: creation date: 20171109103540-05'00' modification date: 20180928153756-04'00'\n",
      "None\n",
      "None\n",
      "False\n"
     ]
    }
   ],
   "source": [
    "print(information_about_file(pypdf2_doc))\n",
    "print(existence_interactive_fields(pypdf2_doc))\n",
    "print(check_encryption(pypdf2_doc))"
   ]
  },
  {
   "cell_type": "markdown",
   "metadata": {
    "slideshow": {
     "slide_type": "slide"
    }
   },
   "source": [
    "## <font color=orange>fairy dust: pypdf2</font>\n",
    "1. PyPDF2 makes available easy methods to acess file metadata where available\n",
    "2. Intuitive methods for targeting certain pages within a document\n",
    "3. Programatically identify form text fields and decrypting secured PDF files"
   ]
  },
  {
   "cell_type": "code",
   "execution_count": 39,
   "metadata": {
    "slideshow": {
     "slide_type": "skip"
    }
   },
   "outputs": [
    {
     "name": "stdout",
     "output_type": "stream",
     "text": [
      "72 pages\n"
     ]
    },
    {
     "data": {
      "text/plain": [
       "\"The 72 page file has: creation date: 20171109103540-05'00' modification date: 20180928153756-04'00'\""
      ]
     },
     "execution_count": 39,
     "metadata": {},
     "output_type": "execute_result"
    }
   ],
   "source": [
    "pdf_obj = PyPDF2.PdfFileReader(open(file, 'rb'))\n",
    "print('{} pages'.format(pdf_obj.numPages))\n",
    "information_about_file(pypdf2_doc)"
   ]
  },
  {
   "cell_type": "code",
   "execution_count": 40,
   "metadata": {
    "collapsed": true,
    "slideshow": {
     "slide_type": "skip"
    }
   },
   "outputs": [],
   "source": [
    "def metadata_classes_in_pypdf2(filename):\n",
    "    pdf_obj = PyPDF2.PdfFileReader(open(filename, 'rb'))\n",
    "    print('***  DocumentInformation Class   ***')\n",
    "    print('author: {}'.format(pdf_obj.getDocumentInfo().author))\n",
    "    print('creator: {}'.format(pdf_obj.getDocumentInfo().creator))\n",
    "    print('producer: {}'.format(pdf_obj.getDocumentInfo().producer))\n",
    "    print('subject: {}'.format(pdf_obj.getDocumentInfo().subject))\n",
    "    print('title: {}'.format(pdf_obj.getDocumentInfo().title))\n",
    "    print('\\n***  XmpInformation Class  ***')\n",
    "    print('resource mime-type: {}'.format(pdf_obj.xmpMetadata.dc_format))\n",
    "    print('publishers: {}'.format(pdf_obj.xmpMetadata.dc_publisher))\n",
    "    print('keywords: {}'.format(pdf_obj.xmpMetadata.pdf_keywords))\n",
    "    print('pdf file version: {}'.format(pdf_obj.xmpMetadata.pdf_pdfversion))\n",
    "    print('xmp creation date: {}'.format(pdf_obj.xmpMetadata.xmp_createDate))\n",
    "    print('xmp modifcation date: {}'.format(pdf_obj.xmpMetadata.xmp_modifyDate))\n",
    "    print('Identifyer for instance of a document, updated w/ each file save: {}'.format(pdf_obj.xmpMetadata.xmpmm_instanceId))"
   ]
  },
  {
   "cell_type": "code",
   "execution_count": 41,
   "metadata": {
    "slideshow": {
     "slide_type": "slide"
    }
   },
   "outputs": [
    {
     "name": "stdout",
     "output_type": "stream",
     "text": [
      "***  DocumentInformation Class   ***\n",
      "author: None\n",
      "creator: Canon iR-ADV C5035  PDF\n",
      "producer: Adobe PSL 1.1e for Canon\n",
      "subject: None\n",
      "title: None\n",
      "\n",
      "***  XmpInformation Class  ***\n",
      "resource mime-type: application/pdf\n",
      "publishers: []\n",
      "keywords: None\n",
      "pdf file version: None\n",
      "xmp creation date: 2017-11-09 15:35:40\n",
      "xmp modifcation date: 2018-09-28 19:37:56\n",
      "Identifyer for instance of a document, updated w/ each file save: uuid:b3469a11-1f42-4804-bc89-2e8c226d9115\n"
     ]
    }
   ],
   "source": [
    "metadata_classes_in_pypdf2(file)"
   ]
  },
  {
   "cell_type": "code",
   "execution_count": 42,
   "metadata": {
    "collapsed": true,
    "slideshow": {
     "slide_type": "skip"
    }
   },
   "outputs": [],
   "source": [
    "page4_obj = pdf_obj.getPage(4)"
   ]
  },
  {
   "cell_type": "markdown",
   "metadata": {
    "slideshow": {
     "slide_type": "slide"
    }
   },
   "source": [
    "## <font color=green>kyrptonite: </font><font color=red>limitations</font>\n",
    "1. It expects a searchable PDF not pictures, images with text or scanned documents\n",
    "2. Extracting text"
   ]
  },
  {
   "cell_type": "code",
   "execution_count": 43,
   "metadata": {
    "slideshow": {
     "slide_type": "slide"
    }
   },
   "outputs": [
    {
     "data": {
      "text/plain": [
       "''"
      ]
     },
     "execution_count": 43,
     "metadata": {},
     "output_type": "execute_result"
    }
   ],
   "source": [
    "pypdf2_doc.getPage(4).extractText()"
   ]
  },
  {
   "cell_type": "code",
   "execution_count": 44,
   "metadata": {
    "slideshow": {
     "slide_type": "skip"
    }
   },
   "outputs": [
    {
     "data": {
      "text/plain": [
       "''"
      ]
     },
     "execution_count": 44,
     "metadata": {},
     "output_type": "execute_result"
    }
   ],
   "source": [
    "page4_obj.extractText()\n"
   ]
  },
  {
   "cell_type": "markdown",
   "metadata": {
    "slideshow": {
     "slide_type": "slide"
    }
   },
   "source": [
    "![](images/pypdf2-extractText-documentation.png)"
   ]
  },
  {
   "cell_type": "markdown",
   "metadata": {
    "slideshow": {
     "slide_type": "slide"
    }
   },
   "source": [
    "##  <font color=purple>working with pdf2image</font>"
   ]
  },
  {
   "cell_type": "markdown",
   "metadata": {
    "slideshow": {
     "slide_type": "slide"
    }
   },
   "source": [
    "### <font color=green>summary</font>\n",
    "1. The [documentation](https://github.com/Belval/pdf2image)\n",
    "2. Is a module for converting pdf documents to PIL image objects \n",
    "3. Built on Pdftoppm conversion library for PDF files --> Portable Pixmap files\n",
    "4. Basically a converter : convert from path or convert from bytes\n",
    "5. Provides methods for converstion from PDF to jpg, png, ppm"
   ]
  },
  {
   "cell_type": "code",
   "execution_count": 45,
   "metadata": {
    "collapsed": true,
    "slideshow": {
     "slide_type": "slide"
    }
   },
   "outputs": [],
   "source": [
    "from pdf2image import convert_from_bytes, convert_from_path"
   ]
  },
  {
   "cell_type": "code",
   "execution_count": 46,
   "metadata": {
    "slideshow": {
     "slide_type": "slide"
    }
   },
   "outputs": [
    {
     "ename": "KeyboardInterrupt",
     "evalue": "",
     "output_type": "error",
     "traceback": [
      "\u001b[0;31m---------------------------------------------------------------------------\u001b[0m",
      "\u001b[0;31mKeyboardInterrupt\u001b[0m                         Traceback (most recent call last)",
      "\u001b[0;32m<ipython-input-46-262a7b77cdc3>\u001b[0m in \u001b[0;36m<module>\u001b[0;34m()\u001b[0m\n\u001b[0;32m----> 1\u001b[0;31m \u001b[0mscanned_pdf2image\u001b[0m \u001b[0;34m=\u001b[0m \u001b[0mconvert_from_path\u001b[0m\u001b[0;34m(\u001b[0m\u001b[0mfile\u001b[0m\u001b[0;34m)\u001b[0m\u001b[0;34m\u001b[0m\u001b[0m\n\u001b[0m\u001b[1;32m      2\u001b[0m \u001b[0mlen\u001b[0m\u001b[0;34m(\u001b[0m\u001b[0mscanned_pdf2image\u001b[0m\u001b[0;34m)\u001b[0m\u001b[0;34m\u001b[0m\u001b[0m\n",
      "\u001b[0;32m~/anaconda3/lib/python3.6/site-packages/pdf2image/pdf2image.py\u001b[0m in \u001b[0;36mconvert_from_path\u001b[0;34m(pdf_path, dpi, output_folder, first_page, last_page, fmt, thread_count, userpw)\u001b[0m\n\u001b[1;32m     67\u001b[0m             \u001b[0mimages\u001b[0m \u001b[0;34m+=\u001b[0m \u001b[0m__load_from_output_folder\u001b[0m\u001b[0;34m(\u001b[0m\u001b[0moutput_folder\u001b[0m\u001b[0;34m,\u001b[0m \u001b[0muid\u001b[0m\u001b[0;34m)\u001b[0m\u001b[0;34m\u001b[0m\u001b[0m\n\u001b[1;32m     68\u001b[0m         \u001b[0;32melse\u001b[0m\u001b[0;34m:\u001b[0m\u001b[0;34m\u001b[0m\u001b[0m\n\u001b[0;32m---> 69\u001b[0;31m             \u001b[0mimages\u001b[0m \u001b[0;34m+=\u001b[0m \u001b[0mparse_buffer_func\u001b[0m\u001b[0;34m(\u001b[0m\u001b[0mdata\u001b[0m\u001b[0;34m)\u001b[0m\u001b[0;34m\u001b[0m\u001b[0m\n\u001b[0m\u001b[1;32m     70\u001b[0m \u001b[0;34m\u001b[0m\u001b[0m\n\u001b[1;32m     71\u001b[0m     \u001b[0;32mreturn\u001b[0m \u001b[0mimages\u001b[0m\u001b[0;34m\u001b[0m\u001b[0m\n",
      "\u001b[0;32m~/anaconda3/lib/python3.6/site-packages/pdf2image/pdf2image.py\u001b[0m in \u001b[0;36m__parse_buffer_to_ppm\u001b[0;34m(data)\u001b[0m\n\u001b[1;32m    129\u001b[0m         \u001b[0msize_x\u001b[0m\u001b[0;34m,\u001b[0m \u001b[0msize_y\u001b[0m \u001b[0;34m=\u001b[0m \u001b[0mtuple\u001b[0m\u001b[0;34m(\u001b[0m\u001b[0msize\u001b[0m\u001b[0;34m.\u001b[0m\u001b[0msplit\u001b[0m\u001b[0;34m(\u001b[0m\u001b[0;34mb' '\u001b[0m\u001b[0;34m)\u001b[0m\u001b[0;34m)\u001b[0m\u001b[0;34m\u001b[0m\u001b[0m\n\u001b[1;32m    130\u001b[0m         \u001b[0mfile_size\u001b[0m \u001b[0;34m=\u001b[0m \u001b[0mlen\u001b[0m\u001b[0;34m(\u001b[0m\u001b[0mcode\u001b[0m\u001b[0;34m)\u001b[0m \u001b[0;34m+\u001b[0m \u001b[0mlen\u001b[0m\u001b[0;34m(\u001b[0m\u001b[0msize\u001b[0m\u001b[0;34m)\u001b[0m \u001b[0;34m+\u001b[0m \u001b[0mlen\u001b[0m\u001b[0;34m(\u001b[0m\u001b[0mrgb\u001b[0m\u001b[0;34m)\u001b[0m \u001b[0;34m+\u001b[0m \u001b[0;36m3\u001b[0m \u001b[0;34m+\u001b[0m \u001b[0mint\u001b[0m\u001b[0;34m(\u001b[0m\u001b[0msize_x\u001b[0m\u001b[0;34m)\u001b[0m \u001b[0;34m*\u001b[0m \u001b[0mint\u001b[0m\u001b[0;34m(\u001b[0m\u001b[0msize_y\u001b[0m\u001b[0;34m)\u001b[0m \u001b[0;34m*\u001b[0m \u001b[0;36m3\u001b[0m\u001b[0;34m\u001b[0m\u001b[0m\n\u001b[0;32m--> 131\u001b[0;31m         \u001b[0mimages\u001b[0m\u001b[0;34m.\u001b[0m\u001b[0mappend\u001b[0m\u001b[0;34m(\u001b[0m\u001b[0mImage\u001b[0m\u001b[0;34m.\u001b[0m\u001b[0mopen\u001b[0m\u001b[0;34m(\u001b[0m\u001b[0mBytesIO\u001b[0m\u001b[0;34m(\u001b[0m\u001b[0mdata\u001b[0m\u001b[0;34m[\u001b[0m\u001b[0mindex\u001b[0m\u001b[0;34m:\u001b[0m\u001b[0mindex\u001b[0m \u001b[0;34m+\u001b[0m \u001b[0mfile_size\u001b[0m\u001b[0;34m]\u001b[0m\u001b[0;34m)\u001b[0m\u001b[0;34m)\u001b[0m\u001b[0;34m)\u001b[0m\u001b[0;34m\u001b[0m\u001b[0m\n\u001b[0m\u001b[1;32m    132\u001b[0m         \u001b[0mindex\u001b[0m \u001b[0;34m+=\u001b[0m \u001b[0mfile_size\u001b[0m\u001b[0;34m\u001b[0m\u001b[0m\n\u001b[1;32m    133\u001b[0m \u001b[0;34m\u001b[0m\u001b[0m\n",
      "\u001b[0;31mKeyboardInterrupt\u001b[0m: "
     ]
    }
   ],
   "source": [
    "scanned_pdf2image = convert_from_path(file)\n",
    "len(scanned_pdf2image)"
   ]
  },
  {
   "cell_type": "code",
   "execution_count": null,
   "metadata": {
    "collapsed": true,
    "slideshow": {
     "slide_type": "slide"
    }
   },
   "outputs": [],
   "source": [
    "# target individual images or pages\n",
    "scanned_pdf2image[3]"
   ]
  },
  {
   "cell_type": "markdown",
   "metadata": {
    "slideshow": {
     "slide_type": "slide"
    }
   },
   "source": [
    "## working with the EPA letter in the pdf2image library"
   ]
  },
  {
   "cell_type": "code",
   "execution_count": null,
   "metadata": {
    "collapsed": true,
    "slideshow": {
     "slide_type": "skip"
    }
   },
   "outputs": [],
   "source": [
    "epa_letter2image = pdf2image.convert_from_path(scanned_pdf_epa_file)\n",
    "len(epa_letter2image)"
   ]
  },
  {
   "cell_type": "code",
   "execution_count": null,
   "metadata": {
    "collapsed": true,
    "slideshow": {
     "slide_type": "subslide"
    }
   },
   "outputs": [],
   "source": [
    "# returns list of individual PIL objects \n",
    "for page in epa_letter2image:\n",
    "    print(page)"
   ]
  },
  {
   "cell_type": "code",
   "execution_count": null,
   "metadata": {
    "collapsed": true,
    "slideshow": {
     "slide_type": "slide"
    }
   },
   "outputs": [],
   "source": [
    "# each page in the list of PIL objects can be accessed, rendered \n",
    "epa_letter2image[0]"
   ]
  },
  {
   "cell_type": "markdown",
   "metadata": {
    "slideshow": {
     "slide_type": "slide"
    }
   },
   "source": [
    "## <font color=orange>fairy dust: pdf2image</font>\n",
    "<font color=grey>Ask, Don't Tell</font>  \n",
    "1. It handles Exceptions by not throwing exceptions....if file couldn't be found, had issue, was corrupted or had no extractable image it returns an empty list\n",
    "2. Returns a list with image object for each page searchable via the same index as the original document\n",
    "3. Provides a handy save( ) method for working with returns\n",
    "4. Does one things and does it well!!!"
   ]
  },
  {
   "cell_type": "markdown",
   "metadata": {
    "slideshow": {
     "slide_type": "slide"
    }
   },
   "source": [
    "## <font color=green>kyrptonite: </font><font color=red>limitations</font>\n",
    "1. \"A relatively big PDF will use up all your memory and cause the process to be killed (unless you use an output folder.)\""
   ]
  },
  {
   "cell_type": "markdown",
   "metadata": {
    "slideshow": {
     "slide_type": "slide"
    }
   },
   "source": [
    "## <font color=purple>working with ocrmydf</font>"
   ]
  },
  {
   "cell_type": "markdown",
   "metadata": {
    "slideshow": {
     "slide_type": "slide"
    }
   },
   "source": [
    "\n",
    "\n",
    "### <font color=green>summary</font>\n",
    "1. the [documentation](https://media.readthedocs.org/pdf/ocrmypdf/latest/ocrmypdf.pdf)\n",
    "2. Is a Python3 libary for adding OCR layers to PDF documents enabling text objects in a scanned PDF to be read and recognized as text, searched and copied. \n",
    "3. It uses [Google's Tesseract](https://github.com/tesseract-ocr/tesseract) OCR, an optical character recognition engine supporting many *(100+)* langauges \n",
    "4. Seems designed to run optimally from the terminal -- page 55 of docs: <font color=grey>\"OCRmyPDF is currently supported as a command line interface. This means that even if you are using OCRmyPDF in a Python script, you should run it in a subprocess rather importing the ocrmypdf package\"</font>\n",
    "5. It works by analyzing each page in a document to determine the colorspace and resolution necessary to capture a page's information without loosing content. It creates a raster image or rasterizes the page and subsequently does OCR on the returned rasterized image, making the above referrenced 'OCR layer'.  Once this is done this layer is grafted back onto the original PDF in order to prevent the loss of metadata or details specific to the PDF.  In this way it attempts to preserve what would be lost by other tools that rasterize and then generate a new and separate document object or image. \n"
   ]
  },
  {
   "cell_type": "markdown",
   "metadata": {
    "slideshow": {
     "slide_type": "skip"
    }
   },
   "source": [
    "```!mv file.pdf dir/subdir``` in notebook is equivalent to:     \n",
    "```subprocess.call(['mv', file, directory])``` in script or to:  \n",
    "```mv file.py dir/subdir``` in terminal"
   ]
  },
  {
   "cell_type": "markdown",
   "metadata": {
    "slideshow": {
     "slide_type": "slide"
    }
   },
   "source": [
    "### wrapping ocrmypdf goodness into a simple class or function"
   ]
  },
  {
   "cell_type": "code",
   "execution_count": null,
   "metadata": {
    "collapsed": true,
    "slideshow": {
     "slide_type": "skip"
    }
   },
   "outputs": [],
   "source": [
    "def move_file(f, folder):\n",
    "    \"\"\" Moves folder in from . to target directory.\n",
    "    \n",
    "    2 required arguments:\n",
    "        f      --> str: file name of the target file to be moved\n",
    "        folder --> str: directory location file will be moved to\n",
    "    \"\"\"\n",
    "    import os\n",
    "    from subprocess import call\n",
    "    if not os.path.exists(folder):\n",
    "        os.makedirs(folder)\n",
    "    \n",
    "    call(['mv', f, folder])"
   ]
  },
  {
   "cell_type": "code",
   "execution_count": null,
   "metadata": {
    "collapsed": true,
    "slideshow": {
     "slide_type": "slide"
    }
   },
   "outputs": [],
   "source": [
    "def convert_pdf(scanned_pdf, new_pdf):\n",
    "    \"\"\"Runs OCR on scanned pdf to retrun pdf with searchable text.\n",
    "    \n",
    "    2 required arguments:\n",
    "        scanned_pdf --> str: the pdf from which we want to extract data\n",
    "        new_pdf     --> str: the name of the new file to be generated and expects a .pdf file extension\n",
    "    \n",
    "    Function is designed to run in jupyter notebook, using shell \n",
    "    commands to run ocrmypdf in terminal as it was designed to be \n",
    "    used.  It converts a scanned pdf into a new pdf with searchable \n",
    "    text, moving that file into the data/pdf_data/ directory.\"\"\"    \n",
    "    import os\n",
    "    from subprocess import call\n",
    "    if new_pdf.split('.')[-1] == 'pdf':\n",
    "        directory = 'data/pdf_data/'\n",
    "        program = 'ocrmypdf' # string gets passed as first terminal argument\n",
    "        date_string = datetime.now().strftime('%m-%d-%Y')\n",
    "        new_pdf = new_pdf.replace('.', '-'+date_string+'.')\n",
    "        call([program, scanned_pdf, new_pdf])\n",
    "        move_file(f=new_pdf, folder=directory)\n",
    "        print('done')\n",
    "    else:\n",
    "        print('Error: **Function expects .pdf file extension in new_pdf parameter')\n",
    "    \n",
    "    return '{}{}'.format(directory,new_pdf)"
   ]
  },
  {
   "cell_type": "code",
   "execution_count": null,
   "metadata": {
    "collapsed": true,
    "slideshow": {
     "slide_type": "skip"
    }
   },
   "outputs": [],
   "source": [
    "# searchable pdf doesn't exist yet\n",
    "def before():\n",
    "    !ls data/pdf_data/"
   ]
  },
  {
   "cell_type": "code",
   "execution_count": null,
   "metadata": {
    "collapsed": true,
    "slideshow": {
     "slide_type": "skip"
    }
   },
   "outputs": [],
   "source": [
    "before()"
   ]
  },
  {
   "cell_type": "markdown",
   "metadata": {
    "slideshow": {
     "slide_type": "slide"
    }
   },
   "source": [
    "```python\n",
    "useless = file\n",
    "searchable_pdf = convert_pdf(scanned_pdf=useless, new_pdf='exhibita.pdf')```"
   ]
  },
  {
   "cell_type": "code",
   "execution_count": null,
   "metadata": {
    "collapsed": true,
    "slideshow": {
     "slide_type": "skip"
    }
   },
   "outputs": [],
   "source": [
    "useless = file\n",
    "searchable_pdf = convert_pdf(scanned_pdf=useless, new_pdf='exhibita.pdf')"
   ]
  },
  {
   "cell_type": "code",
   "execution_count": null,
   "metadata": {
    "collapsed": true,
    "slideshow": {
     "slide_type": "slide"
    }
   },
   "outputs": [],
   "source": [
    "searchable_pdf"
   ]
  },
  {
   "cell_type": "code",
   "execution_count": null,
   "metadata": {
    "collapsed": true,
    "slideshow": {
     "slide_type": "skip"
    }
   },
   "outputs": [],
   "source": [
    "def after():\n",
    "    !ls data/pdf_data/"
   ]
  },
  {
   "cell_type": "code",
   "execution_count": null,
   "metadata": {
    "collapsed": true,
    "slideshow": {
     "slide_type": "skip"
    }
   },
   "outputs": [],
   "source": [
    "after()"
   ]
  },
  {
   "cell_type": "markdown",
   "metadata": {
    "slideshow": {
     "slide_type": "skip"
    }
   },
   "source": [
    "#### see page 7 witness signature block for example of how handwriting impacts the ocr output"
   ]
  },
  {
   "cell_type": "markdown",
   "metadata": {
    "slideshow": {
     "slide_type": "slide"
    }
   },
   "source": [
    "## <font color=orange>fairy dust: using PyPDF2 & textract together</font>\n",
    "1. pypdf2 provides useful methods for getting page count and page number\n",
    "to use on a document that has been converted from an image to a searchable pdf to target objects by conditions in metadata or by page\n",
    "2. textract provides a straight forward way to get the text from a target pdf\n",
    "3. Hanldes conversion of scanned documents like a champ! + grafting"
   ]
  },
  {
   "cell_type": "code",
   "execution_count": 17,
   "metadata": {
    "slideshow": {
     "slide_type": "slide"
    }
   },
   "outputs": [
    {
     "ename": "NameError",
     "evalue": "name 'searchable_pdf' is not defined",
     "output_type": "error",
     "traceback": [
      "\u001b[0;31m---------------------------------------------------------------------------\u001b[0m",
      "\u001b[0;31mNameError\u001b[0m                                 Traceback (most recent call last)",
      "\u001b[0;32m<ipython-input-17-8fc8ef9d71ef>\u001b[0m in \u001b[0;36m<module>\u001b[0;34m()\u001b[0m\n\u001b[0;32m----> 1\u001b[0;31m \u001b[0mPyPDF2\u001b[0m\u001b[0;34m.\u001b[0m\u001b[0mPdfFileReader\u001b[0m\u001b[0;34m(\u001b[0m\u001b[0mopen\u001b[0m\u001b[0;34m(\u001b[0m\u001b[0msearchable_pdf\u001b[0m\u001b[0;34m,\u001b[0m\u001b[0;34m'rb'\u001b[0m\u001b[0;34m)\u001b[0m\u001b[0;34m)\u001b[0m\u001b[0;34m.\u001b[0m\u001b[0mgetNumPages\u001b[0m\u001b[0;34m(\u001b[0m\u001b[0;34m)\u001b[0m\u001b[0;34m\u001b[0m\u001b[0m\n\u001b[0m",
      "\u001b[0;31mNameError\u001b[0m: name 'searchable_pdf' is not defined"
     ]
    }
   ],
   "source": [
    "PyPDF2.PdfFileReader(open(searchable_pdf,'rb')).getNumPages() "
   ]
  },
  {
   "cell_type": "code",
   "execution_count": null,
   "metadata": {
    "collapsed": true,
    "slideshow": {
     "slide_type": "skip"
    }
   },
   "outputs": [],
   "source": [
    "pdf_obj = PyPDF2.PdfFileReader(searchable_pdf)\n",
    "for page in range(pdf_obj.getNumPages()):\n",
    "    if page != 3: # targeting page 4\n",
    "        pass\n",
    "    else: \n",
    "        pdf_writer = PyPDF2.PdfFileWriter()\n",
    "        pdf_writer.addPage(pdf_obj.getPage(page))\n",
    "        output_file = 'page{}-{}.pdf'.format(page+1,datetime.now().strftime('%m-%d-%Y'))\n",
    "        with open(output_file, 'wb') as outfile:\n",
    "            pdf_writer.write(outfile)\n",
    "        text = textract.process(output_file)    "
   ]
  },
  {
   "cell_type": "markdown",
   "metadata": {
    "slideshow": {
     "slide_type": "slide"
    }
   },
   "source": [
    "```python\n",
    "pdf_obj = PyPDF2.PdfFileReader(searchable_pdf)\n",
    "for page in range(pdf_obj.getNumPages()):\n",
    "    if page != 3: # targeting page 4\n",
    "        pass\n",
    "    else: \n",
    "        pdf_writer = PyPDF2.PdfFileWriter()\n",
    "        pdf_writer.addPage(pdf_obj.getPage(page))\n",
    "        output_file = 'page{}-{}.pdf'.format(page+1,datetime.now().strftime('%m-%d-%Y'))\n",
    "        with open(output_file, 'wb') as outfile:\n",
    "            pdf_writer.write(outfile)\n",
    "        text = textract.process(output_file)    \n",
    "```"
   ]
  },
  {
   "cell_type": "code",
   "execution_count": null,
   "metadata": {
    "collapsed": true,
    "slideshow": {
     "slide_type": "skip"
    }
   },
   "outputs": [],
   "source": [
    "# the datatype returned from the textract function is bytes\n",
    "type(text)"
   ]
  },
  {
   "cell_type": "code",
   "execution_count": null,
   "metadata": {
    "collapsed": true,
    "slideshow": {
     "slide_type": "slide"
    }
   },
   "outputs": [],
   "source": [
    "text.decode()"
   ]
  },
  {
   "cell_type": "code",
   "execution_count": null,
   "metadata": {
    "collapsed": true,
    "slideshow": {
     "slide_type": "skip"
    }
   },
   "outputs": [],
   "source": [
    "data_string = text.decode()"
   ]
  },
  {
   "cell_type": "code",
   "execution_count": null,
   "metadata": {
    "collapsed": true,
    "slideshow": {
     "slide_type": "skip"
    }
   },
   "outputs": [],
   "source": [
    "def horseshoes_handgrenades():\n",
    "    display(HTML(\"<table><tr><td><img src='images/xkcd-right-tool-close-but-not.png'></td></tr></table>\"))"
   ]
  },
  {
   "cell_type": "code",
   "execution_count": null,
   "metadata": {
    "collapsed": true,
    "slideshow": {
     "slide_type": "slide"
    }
   },
   "outputs": [],
   "source": [
    "horseshoes_handgrenades()"
   ]
  },
  {
   "cell_type": "markdown",
   "metadata": {
    "slideshow": {
     "slide_type": "slide"
    }
   },
   "source": [
    "## <font color=red>three cuts</font>\n",
    "```python\n",
    "header = (text.decode().split('Loan\\n1\\n2\\n\\n11/9/2017')[0]).split('SCHEDULE')[1]\n",
    "cols = []\n",
    "for idx, item in enumerate(header.split()):\n",
    "    if (idx == 0) | (idx == 1) | (idx == 2):\n",
    "        cols.append('{} {}'.format(header.split()[0], header.split()[idx+6]))\n",
    "    elif (idx == 3) | (idx == 4):\n",
    "        cols.append('{} {}'.format(header.split()[idx],header.split()[9]))\n",
    "    elif (idx == 5):\n",
    "        cols.append('{} {}'.format(header.split()[5], header.split()[11]))\n",
    "        \n",
    "cut_off = '\\n\\n22,005,290.80\\n\\n3,113,660.80\\n\\n18,891,630.00\\n\\nTotals'     \n",
    "table_string = (data_string.split('Loan\\n1\\n2\\n\\n11/9/2017')[1]).split(cut_off)[0]\n",
    "```"
   ]
  },
  {
   "cell_type": "code",
   "execution_count": null,
   "metadata": {
    "collapsed": true,
    "slideshow": {
     "slide_type": "skip"
    }
   },
   "outputs": [],
   "source": [
    "header = (text.decode().split('Loan\\n1\\n2\\n\\n11/9/2017')[0]).split('SCHEDULE')[1]\n",
    "cols = []\n",
    "for idx, item in enumerate(header.split()):\n",
    "    if (idx == 0) | (idx == 1) | (idx == 2):\n",
    "        cols.append('{} {}'.format(header.split()[0], header.split()[idx+6]))\n",
    "    elif (idx == 3) | (idx == 4):\n",
    "        cols.append('{} {}'.format(header.split()[idx],header.split()[9]))\n",
    "    elif (idx == 5):\n",
    "        cols.append('{} {}'.format(header.split()[5], header.split()[11]))\n",
    "        \n",
    "cut_off = '\\n\\n22,005,290.80\\n\\n3,113,660.80\\n\\n18,891,630.00\\n\\nTotals'     \n",
    "table_string = (data_string.split('Loan\\n1\\n2\\n\\n11/9/2017')[1]).split(cut_off)[0]"
   ]
  },
  {
   "cell_type": "code",
   "execution_count": null,
   "metadata": {
    "collapsed": true,
    "slideshow": {
     "slide_type": "skip"
    }
   },
   "outputs": [],
   "source": [
    "cols"
   ]
  },
  {
   "cell_type": "code",
   "execution_count": null,
   "metadata": {
    "collapsed": true,
    "slideshow": {
     "slide_type": "slide"
    }
   },
   "outputs": [],
   "source": [
    "table_string"
   ]
  },
  {
   "cell_type": "code",
   "execution_count": null,
   "metadata": {
    "collapsed": true,
    "slideshow": {
     "slide_type": "slide"
    }
   },
   "outputs": [],
   "source": [
    "table_string.split()"
   ]
  },
  {
   "cell_type": "code",
   "execution_count": null,
   "metadata": {
    "collapsed": true,
    "slideshow": {
     "slide_type": "skip"
    }
   },
   "outputs": [],
   "source": [
    "def comparing_ocr_parsing_outputs():\n",
    "    display(HTML(\"<table><tr><td><img src='images/page4-orcmypdf-parsing-pattern.png'></td><td><img src='images/page4-algo-chunk-image.png' height=900, width=900></td></tr></table>\"))"
   ]
  },
  {
   "cell_type": "code",
   "execution_count": null,
   "metadata": {
    "collapsed": true,
    "slideshow": {
     "slide_type": "slide"
    }
   },
   "outputs": [],
   "source": [
    "comparing_ocr_parsing_outputs()"
   ]
  },
  {
   "cell_type": "code",
   "execution_count": null,
   "metadata": {
    "collapsed": true,
    "slideshow": {
     "slide_type": "skip"
    }
   },
   "outputs": [],
   "source": [
    "def knife_to_a_gun_fight():\n",
    "    display(HTML(\"<table><tr><td><img src='images/bytes-text-pattern.jpg'></td></tr></table>\"))"
   ]
  },
  {
   "cell_type": "markdown",
   "metadata": {
    "slideshow": {
     "slide_type": "slide"
    }
   },
   "source": [
    "## <font color=red>unpacking the return</font>"
   ]
  },
  {
   "cell_type": "code",
   "execution_count": null,
   "metadata": {
    "collapsed": true,
    "slideshow": {
     "slide_type": "subslide"
    }
   },
   "outputs": [],
   "source": [
    "knife_to_a_gun_fight()"
   ]
  },
  {
   "cell_type": "markdown",
   "metadata": {
    "slideshow": {
     "slide_type": "slide"
    }
   },
   "source": [
    "## <font color=red>labor hours for the butcher</font>\n"
   ]
  },
  {
   "cell_type": "markdown",
   "metadata": {
    "slideshow": {
     "slide_type": "skip"
    }
   },
   "source": [
    "\n",
    "```python\n",
    "def create_dataframe():\n",
    "    \"\"\"Returns dataframe of amortizaton schedule from scanned pdf.\n",
    "    \n",
    "    It generates a target page as a separate and new pdf and puts the page \n",
    "    object into a pdf_data folder in a /data directory and subsequently pushes\n",
    "    text data from the new pdf into a pandas dataframe. \n",
    "    \n",
    "    \"\"\"\n",
    "    \n",
    "    pdf = PyPDF2.PdfFileReader(searchable_pdf)\n",
    "    for page in range(pdf.getNumPages()):\n",
    "        if page != 3: # targeting table on page 4\n",
    "            pass\n",
    "        else: # targeting page 4\n",
    "            pdf_writer = PyPDF2.PdfFileWriter()\n",
    "            pdf_writer.addPage(pdf.getPage(page))\n",
    "            output_file = 'page{}-{}.pdf'.format(page+1,datetime.now().strftime('%m-%d-%Y'))\n",
    "            with open(output_file, 'wb') as outfile:\n",
    "                pdf_writer.write(outfile)\n",
    "            text = textract.process(output_file)  \n",
    "    data_string = text.decode() \n",
    "    \n",
    "    ############################### -------- ###############################\n",
    "\n",
    "    # break returned bytes into relevant chunks for dataframe\n",
    "    header = (data_string.split('Loan\\n1\\n2\\n\\n11/9/2017')[0]).split('SCHEDULE')[1]\n",
    "    cols = []\n",
    "    for idx, item in enumerate(header.split()):\n",
    "        if (idx == 0) | (idx == 1) | (idx == 2):\n",
    "            cols.append('{} {}'.format(header.split()[0], header.split()[idx+6]))\n",
    "        elif (idx == 3) | (idx == 4):\n",
    "            cols.append('{} {}'.format(header.split()[idx],header.split()[9]))\n",
    "        elif (idx == 5):\n",
    "            cols.append('{} {}'.format(header.split()[5], header.split()[11]))\n",
    "\n",
    "    cut_off = '\\n\\n22,005,290.80\\n\\n3,113,660.80\\n\\n18,891,630.00\\n\\nTotals'     \n",
    "    table_string = (data_string.split('Loan\\n1\\n2\\n\\n11/9/2017')[1]).split(cut_off)[0] \n",
    "    \n",
    "    ############################### -------- ###############################\n",
    "    \n",
    "    # examine the pattern of the representation of ocr returned bytes data \n",
    "    one_loop_index_locations = [65]\n",
    "    two_loops_index_locations = [0,1,30,31,42,43,54,55,72,73,84,85,96,97,108,109]\n",
    "    three_loops_index_locations = [13,14,15]\n",
    "\n",
    "    table_dict = {}\n",
    "    for idx, info in enumerate(table_string.split()):\n",
    "        i = 0\n",
    "        if idx in one_loop_index_locations:\n",
    "            i += 1\n",
    "            table_dict[pd.to_datetime(info)] = [(table_string.split()[idx+1+(i*1)]) for i in range(4)]\n",
    "        elif idx in two_loops_index_locations:\n",
    "            i += 2\n",
    "            table_dict[pd.to_datetime(info)] = [(table_string.split()[idx+2+(i*2)]) for i in range(4)]\n",
    "        elif idx in three_loops_index_locations:\n",
    "            i += 3\n",
    "            table_dict[pd.to_datetime(info)] = [(table_string.split()[idx+3+(i*3)]) for i in range(4)]\n",
    "     \n",
    "    ############################### -------- ###############################\n",
    "\n",
    "    # create dataframe   \n",
    "    df_from_dict = pd.DataFrame.from_dict(table_dict)\n",
    "    df = pd.DataFrame.transpose(df_from_dict)\n",
    "    df.columns = cols[2:]\n",
    "    for col in df.columns: # change data type from strings to float\n",
    "        df[col] = df[col].apply(lambda x: float(x.replace(',','')))\n",
    "    \n",
    "    return df\n",
    "```"
   ]
  },
  {
   "cell_type": "code",
   "execution_count": null,
   "metadata": {
    "collapsed": true,
    "slideshow": {
     "slide_type": "slide"
    }
   },
   "outputs": [],
   "source": [
    "def create_dataframe():\n",
    "    \"\"\"Returns dataframe of amortizaton schedule from scanned pdf.\n",
    "    \n",
    "    It generates a target page as a separate and new pdf and puts the page \n",
    "    object into a pdf_data folder in a /data directory and subsequently pushes\n",
    "    text data from the new pdf into a pandas dataframe. \n",
    "    \n",
    "    \"\"\"\n",
    "    \n",
    "    pdf = PyPDF2.PdfFileReader(searchable_pdf)\n",
    "    for page in range(pdf.getNumPages()):\n",
    "        if page != 3: # targeting table on page 4\n",
    "            pass\n",
    "        else: # targeting page 4\n",
    "            pdf_writer = PyPDF2.PdfFileWriter()\n",
    "            pdf_writer.addPage(pdf.getPage(page))\n",
    "            output_file = 'page{}-{}.pdf'.format(page+1,datetime.now().strftime('%m-%d-%Y'))\n",
    "            with open(output_file, 'wb') as outfile:\n",
    "                pdf_writer.write(outfile)\n",
    "            text = textract.process(output_file)  \n",
    "    data_string = text.decode() \n",
    "    \n",
    "    ############################### -------- ###############################\n",
    "\n",
    "    # break returned bytes into relevant chunks for dataframe\n",
    "    header = (data_string.split('Loan\\n1\\n2\\n\\n11/9/2017')[0]).split('SCHEDULE')[1]\n",
    "    cols = []\n",
    "    for idx, item in enumerate(header.split()):\n",
    "        if (idx == 0) | (idx == 1) | (idx == 2):\n",
    "            cols.append('{} {}'.format(header.split()[0], header.split()[idx+6]))\n",
    "        elif (idx == 3) | (idx == 4):\n",
    "            cols.append('{} {}'.format(header.split()[idx],header.split()[9]))\n",
    "        elif (idx == 5):\n",
    "            cols.append('{} {}'.format(header.split()[5], header.split()[11]))\n",
    "\n",
    "    cut_off = '\\n\\n22,005,290.80\\n\\n3,113,660.80\\n\\n18,891,630.00\\n\\nTotals'     \n",
    "    table_string = (data_string.split('Loan\\n1\\n2\\n\\n11/9/2017')[1]).split(cut_off)[0] \n",
    "    \n",
    "    ############################### -------- ###############################\n",
    "    \n",
    "    # examine the pattern of the representation of ocr returned bytes data \n",
    "    one_loop_index_locations = [65]\n",
    "    two_loops_index_locations = [0,1,30,31,42,43,54,55,72,73,84,85,96,97,108,109]\n",
    "    three_loops_index_locations = [13,14,15]\n",
    "\n",
    "    table_dict = {}\n",
    "    for idx, info in enumerate(table_string.split()):\n",
    "        i = 0\n",
    "        if idx in one_loop_index_locations:\n",
    "            i += 1\n",
    "            table_dict[pd.to_datetime(info)] = [(table_string.split()[idx+1+(i*1)]) for i in range(4)]\n",
    "        elif idx in two_loops_index_locations:\n",
    "            i += 2\n",
    "            table_dict[pd.to_datetime(info)] = [(table_string.split()[idx+2+(i*2)]) for i in range(4)]\n",
    "        elif idx in three_loops_index_locations:\n",
    "            i += 3\n",
    "            table_dict[pd.to_datetime(info)] = [(table_string.split()[idx+3+(i*3)]) for i in range(4)]\n",
    "     \n",
    "    ############################### -------- ###############################\n",
    "\n",
    "    # create dataframe   \n",
    "    df_from_dict = pd.DataFrame.from_dict(table_dict)\n",
    "    df = pd.DataFrame.transpose(df_from_dict)\n",
    "    df.columns = cols[2:]\n",
    "    for col in df.columns: # change data type from strings to float\n",
    "        df[col] = df[col].apply(lambda x: float(x.replace(',','')))\n",
    "    \n",
    "    return df"
   ]
  },
  {
   "cell_type": "code",
   "execution_count": null,
   "metadata": {
    "collapsed": true,
    "slideshow": {
     "slide_type": "slide"
    }
   },
   "outputs": [],
   "source": [
    "dataframe = create_dataframe()"
   ]
  },
  {
   "cell_type": "code",
   "execution_count": null,
   "metadata": {
    "collapsed": true,
    "slideshow": {
     "slide_type": "slide"
    }
   },
   "outputs": [],
   "source": [
    "dataframe"
   ]
  },
  {
   "cell_type": "code",
   "execution_count": null,
   "metadata": {
    "collapsed": true,
    "slideshow": {
     "slide_type": "skip"
    }
   },
   "outputs": [],
   "source": [
    "# file not present prior to function call to save as excel\n",
    "!ls data/excel_data/"
   ]
  },
  {
   "cell_type": "code",
   "execution_count": null,
   "metadata": {
    "collapsed": true,
    "slideshow": {
     "slide_type": "skip"
    }
   },
   "outputs": [],
   "source": [
    "def generate_excel(df, outfile_name, folder='data/excel_data/'):\n",
    "    \"\"\"Converts pandas dataframe to excel file and saves as .xlsx file.\n",
    "    \n",
    "    2 required arguments 1 optional:\n",
    "        df            --> dataframe: is the dataframe object retruned from create_dataframe()\n",
    "                          which formats the scraped scanned pdf table to usable data\n",
    "        outfile_name  --> str: is the name of the new excel file to be generated. this argument \n",
    "                          expects a .xlsx file extention \n",
    "        folder        --> str: is the target directory where the file should be saved\n",
    "    \"\"\"\n",
    "    writer = pd.ExcelWriter(folder+outfile_name+'-{}.xlsx'.format(datetime.now().strftime('%m-%d-%Y')))\n",
    "    pd.DataFrame.to_excel(df, excel_writer=writer)\n",
    "    writer.save()\n",
    "    return ('new file: {}-{}.xlsx'.format(outfile_name, datetime.now().strftime('%m-%d-%Y'))) "
   ]
  },
  {
   "cell_type": "code",
   "execution_count": null,
   "metadata": {
    "collapsed": true,
    "slideshow": {
     "slide_type": "skip"
    }
   },
   "outputs": [],
   "source": [
    "!ls data/excel_data/"
   ]
  },
  {
   "cell_type": "code",
   "execution_count": null,
   "metadata": {
    "collapsed": true,
    "slideshow": {
     "slide_type": "skip"
    }
   },
   "outputs": [],
   "source": [
    "generate_excel(dataframe,'exhibita')"
   ]
  },
  {
   "cell_type": "code",
   "execution_count": null,
   "metadata": {
    "collapsed": true,
    "slideshow": {
     "slide_type": "skip"
    }
   },
   "outputs": [],
   "source": [
    "!ls data/excel_data/"
   ]
  },
  {
   "cell_type": "markdown",
   "metadata": {
    "slideshow": {
     "slide_type": "slide"
    }
   },
   "source": [
    "## <font color=green>kryptonite: </font><font color=red>limitations</font>\n",
    "1. Text output from OCR requires inspection of underlying patterns to unpack and create a dataframe for analysis or delivery to another process.\n",
    "2. Underlying patterns dictated by document structure requiring individual inspection and customization:"
   ]
  },
  {
   "cell_type": "markdown",
   "metadata": {
    "slideshow": {
     "slide_type": "slide"
    }
   },
   "source": [
    "## <font color=purple>workign with pytesseract</font>"
   ]
  },
  {
   "cell_type": "code",
   "execution_count": null,
   "metadata": {
    "collapsed": true,
    "slideshow": {
     "slide_type": "skip"
    }
   },
   "outputs": [],
   "source": [
    "import pdf2image\n",
    "import pytesseract\n",
    "from PIL import Image"
   ]
  },
  {
   "cell_type": "markdown",
   "metadata": {
    "slideshow": {
     "slide_type": "slide"
    }
   },
   "source": [
    "### <font color=green>summary</font>\n",
    "1. the [documentation](https://pypi.org/project/pytesseract/#description)\n",
    "2. Is an OCR tool for Python that recognizes and reads text embeded in images and can read image types supported by PIL including:  jpeg, png, gif, [bmp](https://en.wikipedia.org/wiki/BMP_file_format), [tiff](https://en.wikipedia.org/wiki/TIFF)\n",
    "3. Wrapper for [Google's OCR engine](https://opensource.google.com/projects/tesseract).....what they use for text detection on mobile devices and videos, Gmail image spam detection \n",
    "4. Key methods & parameters: \n",
    "\n",
    "\n",
    "\n",
    "* image_to_string\n",
    "* image_to_pdf_or_hocr\n",
    "* <b>lang</b>\n"
   ]
  },
  {
   "cell_type": "markdown",
   "metadata": {
    "slideshow": {
     "slide_type": "skip"
    }
   },
   "source": [
    "```scanned_pdf_epa_file = 'data/pdf_data/epa-letter.pdf'```\n",
    "\n",
    "\n",
    "\n",
    "```file = 'data/pdf_data/Final Exhibit A to Equipment Lease #29.pdf'```\n"
   ]
  },
  {
   "cell_type": "markdown",
   "metadata": {
    "slideshow": {
     "slide_type": "slide"
    }
   },
   "source": [
    "```python\n",
    "pytesseract.image_to_string(file)```"
   ]
  },
  {
   "cell_type": "markdown",
   "metadata": {
    "slideshow": {
     "slide_type": "slide"
    }
   },
   "source": [
    "![](images/pytesseract-error-msg.png)"
   ]
  },
  {
   "cell_type": "markdown",
   "metadata": {
    "slideshow": {
     "slide_type": "slide"
    }
   },
   "source": [
    "### can we open as image like docs?\n",
    "```python\n",
    "pytesseract.image_to_string(Image.open(file))```"
   ]
  },
  {
   "cell_type": "markdown",
   "metadata": {
    "slideshow": {
     "slide_type": "slide"
    }
   },
   "source": [
    "![](images/second-pytesseract-error.png)"
   ]
  },
  {
   "cell_type": "markdown",
   "metadata": {
    "slideshow": {
     "slide_type": "slide"
    }
   },
   "source": [
    "```pytesseract.image_to_string(Image.open(scanned_pdf_epa_file))```"
   ]
  },
  {
   "cell_type": "markdown",
   "metadata": {
    "slideshow": {
     "slide_type": "slide"
    }
   },
   "source": [
    "![](images/third-pytesseract-error.png)"
   ]
  },
  {
   "cell_type": "markdown",
   "metadata": {
    "slideshow": {
     "slide_type": "slide"
    }
   },
   "source": [
    "## <font color=orange>fairy dust: </font> \n",
    "    \n",
    "### <font color=orange>it is possible to use pdf2image package with pytesseract to convert scanned PDFs to PIL images and extracting text from those objects<font>"
   ]
  },
  {
   "cell_type": "code",
   "execution_count": null,
   "metadata": {
    "collapsed": true,
    "slideshow": {
     "slide_type": "slide"
    }
   },
   "outputs": [],
   "source": [
    "# using pdf2image for preprocessing\n",
    "epa_letter_file_img = pdf2image.convert_from_path(scanned_pdf_epa_file)\n",
    "epa_letter_file_img"
   ]
  },
  {
   "cell_type": "code",
   "execution_count": null,
   "metadata": {
    "collapsed": true,
    "slideshow": {
     "slide_type": "skip"
    }
   },
   "outputs": [],
   "source": [
    "type(epa_letter_file_img[0])"
   ]
  },
  {
   "cell_type": "code",
   "execution_count": null,
   "metadata": {
    "collapsed": true,
    "slideshow": {
     "slide_type": "slide"
    }
   },
   "outputs": [],
   "source": [
    "page1_epa_letter = epa_letter_file_img[0]\n",
    "page1_epa_letter"
   ]
  },
  {
   "cell_type": "code",
   "execution_count": null,
   "metadata": {
    "collapsed": true,
    "slideshow": {
     "slide_type": "skip"
    }
   },
   "outputs": [],
   "source": []
  },
  {
   "cell_type": "markdown",
   "metadata": {
    "slideshow": {
     "slide_type": "slide"
    }
   },
   "source": [
    "## <font color=orange>combining pdf2image & pytesseract returns useful results when not targeting tabular data</font>\n",
    "### <font color=black>page 1 of 2 page EPA letter</font>"
   ]
  },
  {
   "cell_type": "markdown",
   "metadata": {
    "slideshow": {
     "slide_type": "slide"
    }
   },
   "source": [
    "```python\n",
    "pytesseract.image_to_string(page1_epa_letter)```"
   ]
  },
  {
   "cell_type": "code",
   "execution_count": null,
   "metadata": {
    "collapsed": true,
    "slideshow": {
     "slide_type": "skip"
    }
   },
   "outputs": [],
   "source": [
    "def using_pytesseract_on_EPA_letter():\n",
    "    display(HTML(\"<table><tr><td><img src='images/pytesseract-first-page-epa-letter.png' width=1200, hieght=1200></td><td><img src='images/epa-first-page.png'></td></tr></table>\"))"
   ]
  },
  {
   "cell_type": "code",
   "execution_count": null,
   "metadata": {
    "collapsed": true,
    "slideshow": {
     "slide_type": "slide"
    }
   },
   "outputs": [],
   "source": [
    "using_pytesseract_on_EPA_letter()"
   ]
  },
  {
   "cell_type": "markdown",
   "metadata": {
    "slideshow": {
     "slide_type": "slide"
    }
   },
   "source": [
    "## working with  our 72 page document file to create and save an image..... 1. 2. 3"
   ]
  },
  {
   "cell_type": "markdown",
   "metadata": {
    "slideshow": {
     "slide_type": "slide"
    }
   },
   "source": [
    "```python \n",
    "amortization_document_as_PILimage = pdf2image.convert_from_path(file)\n",
    "page4 = amortization_document_as_PILimage[3]\n",
    "page4.save('data/img_data/page4-{}-pdf2image.png'.format(datetime.now().strftime('%m-%d-%Y')),'png')```"
   ]
  },
  {
   "cell_type": "code",
   "execution_count": null,
   "metadata": {
    "collapsed": true,
    "slideshow": {
     "slide_type": "skip"
    }
   },
   "outputs": [],
   "source": [
    "amortization_document_as_PILimage = pdf2image.convert_from_path(file)\n",
    "\n",
    "page4 = amortization_document_as_PILimage[3]\n",
    "# create an image file for this document\n",
    "page4.save('data/img_data/page4-{}-pdf2image.png'.format(datetime.now().strftime('%m-%d-%Y')),'png')"
   ]
  },
  {
   "cell_type": "code",
   "execution_count": null,
   "metadata": {
    "collapsed": true,
    "slideshow": {
     "slide_type": "slide"
    }
   },
   "outputs": [],
   "source": [
    "page4"
   ]
  },
  {
   "cell_type": "code",
   "execution_count": null,
   "metadata": {
    "collapsed": true,
    "slideshow": {
     "slide_type": "skip"
    }
   },
   "outputs": [],
   "source": [
    "!ls data/img_data/"
   ]
  },
  {
   "cell_type": "markdown",
   "metadata": {
    "slideshow": {
     "slide_type": "slide"
    }
   },
   "source": [
    "### <font color=green>kryptonite: </font><font color=red>limitations</font>\n",
    "1. pytesseract throws erros if your PDF is not an image even for scanned PDFs that functionally are non searchable pics of text documents.\n",
    "2. It can return text objects with an algorithm that may not provide a predictable pattern on tabular data\n",
    "\n"
   ]
  },
  {
   "cell_type": "markdown",
   "metadata": {
    "slideshow": {
     "slide_type": "slide"
    }
   },
   "source": [
    "```python\n",
    "pytesseract.image_to_string('data/img_data/page4-10-17-2018-pdf2image.png')```\n"
   ]
  },
  {
   "cell_type": "code",
   "execution_count": null,
   "metadata": {
    "collapsed": true,
    "slideshow": {
     "slide_type": "skip"
    }
   },
   "outputs": [],
   "source": [
    "def comparing_pytesseract_image_to_string_tabular_output():\n",
    "    display(HTML(\"<table><tr><td><img src='images/page4-image.png'></td><td><img src='images/pytesseract-imag2string-result.png'></tr></table>\"))"
   ]
  },
  {
   "cell_type": "code",
   "execution_count": null,
   "metadata": {
    "collapsed": true,
    "slideshow": {
     "slide_type": "slide"
    }
   },
   "outputs": [],
   "source": [
    "comparing_pytesseract_image_to_string_tabular_output()"
   ]
  },
  {
   "cell_type": "code",
   "execution_count": null,
   "metadata": {
    "collapsed": true,
    "slideshow": {
     "slide_type": "skip"
    }
   },
   "outputs": [],
   "source": [
    "# combining pdf2image & pytesseract but the underlying conversion algorithm doesn't produce predictable pattern on tabular data\n",
    "pytesseract.image_to_string('data/img_data/page4-10-17-2018-pdf2image.png')"
   ]
  },
  {
   "cell_type": "markdown",
   "metadata": {
    "slideshow": {
     "slide_type": "slide"
    }
   },
   "source": [
    "## <font color=red>license pdf document handling w/ pytesseract</font>"
   ]
  },
  {
   "cell_type": "code",
   "execution_count": null,
   "metadata": {
    "collapsed": true,
    "slideshow": {
     "slide_type": "slide"
    }
   },
   "outputs": [],
   "source": [
    "display(IFrame('https://camelot-py.readthedocs.io/en/master/_static/pdf/column_separators.pdf', width=1000, height=800))"
   ]
  },
  {
   "cell_type": "markdown",
   "metadata": {
    "slideshow": {
     "slide_type": "slide"
    }
   },
   "source": [
    "**In the conversion of the image to a text string, pytesseract chunks the text by what it perceives to be the column breaks with performance and outcome sensitive to spacing of text in the original PDF**"
   ]
  },
  {
   "cell_type": "code",
   "execution_count": null,
   "metadata": {
    "collapsed": true,
    "slideshow": {
     "slide_type": "slide"
    }
   },
   "outputs": [],
   "source": [
    "for pg, item in enumerate(pdf2image.convert_from_path(searchable_pdf_license_file)):\n",
    "    item.save('data/img_data/active-license-page{}-{}.png'.format(pg+1,datetime.now().strftime('%m-%d-%Y')), 'png')\n",
    "    print('\\n***** new page *****\\n')\n",
    "    print(pytesseract.image_to_string(item))"
   ]
  },
  {
   "cell_type": "markdown",
   "metadata": {
    "slideshow": {
     "slide_type": "slide"
    }
   },
   "source": [
    "#  <font color=orange>comparing performance of <font color=blue>pytesseract</font> to <font color=darkblue>camelot</font></font>\n",
    "* reading <font color=blue><b>y</b></font> vs reading <font color=darkblue><b>x</b></font>"
   ]
  },
  {
   "cell_type": "markdown",
   "metadata": {
    "slideshow": {
     "slide_type": "slide"
    }
   },
   "source": [
    "## <font color=purple> working with camelot</font>"
   ]
  },
  {
   "cell_type": "markdown",
   "metadata": {
    "slideshow": {
     "slide_type": "slide"
    }
   },
   "source": [
    "### <font color=green>summary</font>\n",
    "1. the [documentation](https://camelot-py.readthedocs.io/en/master/user/quickstart.html#read-the-pdf)\n",
    "2. [Camelot](https://camelot-py.readthedocs.io/en/master/) is written in Python. \n",
    "3. It only works with text-based PDFs; if you are working with a document where you can click, drag or select text, you are in business. If document is a scanned image, Camelot is not your tool. \n",
    "4. Each table is a Pandas dataframe, easier for ETL workflows\n",
    "5. Camelot gives 2 options or methods for parsing PDF tables: <font color=blue>Stream</font> & <font color=blue>Lattice</font>\n",
    "6. Camelot seems to want to deal with documents that have an explicit table structure with intersecting lines not one that has an implied table structure\n"
   ]
  },
  {
   "cell_type": "markdown",
   "metadata": {
    "slideshow": {
     "slide_type": "slide"
    }
   },
   "source": [
    "#### <font color=blue>Stream</font>\n",
    "* simulates table structure by parsing tables with whitespaces between cells. Search for spaces between text to render a table representation. \n",
    "* Guesswork...grouping page words --> rows based on word y coordinates --> no. columns guess based on mode of words in each row\n",
    "* not ideal for documents with more than 2 tables on a page 2/ different no. of columns. "
   ]
  },
  {
   "cell_type": "markdown",
   "metadata": {
    "slideshow": {
     "slide_type": "slide"
    }
   },
   "source": [
    "#### <font color=blue>Lattice</font>\n",
    "* Eliminates the guesswork\n",
    "* Transforms PDF to an image and then uses [OpenCV](https://opencv.org/) to process the image to get horizontal and vertical line segments in the document. \n",
    "* The horizontal and vertical segments and their meeting points are used to detect line intersections or cell representations of a table. \n",
    "* It also handles tables with demarcating lines between cells &  can parse documents with multiple tables on a page"
   ]
  },
  {
   "cell_type": "code",
   "execution_count": null,
   "metadata": {
    "collapsed": true,
    "slideshow": {
     "slide_type": "slide"
    }
   },
   "outputs": [],
   "source": [
    "import camelot \n",
    "camelot.read_pdf(searchable_pdf_license_file, flavor='stream')[0].data"
   ]
  },
  {
   "cell_type": "code",
   "execution_count": null,
   "metadata": {
    "collapsed": true,
    "slideshow": {
     "slide_type": "skip"
    }
   },
   "outputs": [],
   "source": [
    "def camelot_processing_approach():\n",
    "    display(HTML(\"<table><tr><td><img src='images/camelot-lattice1.png' width='400',hieght='800'></td><td><img src='images/camelot-lattice2.png', width='600',hieght='400'></td></tr></table>\"))"
   ]
  },
  {
   "cell_type": "code",
   "execution_count": null,
   "metadata": {
    "collapsed": true,
    "slideshow": {
     "slide_type": "slide"
    }
   },
   "outputs": [],
   "source": [
    "display(HTML(\"<table><tr><td><img src='images/camelot-example-no-table-detection.png' width='400','hieght='300'></td></td></table>\"))"
   ]
  },
  {
   "cell_type": "code",
   "execution_count": null,
   "metadata": {
    "collapsed": true,
    "slideshow": {
     "slide_type": "slide"
    }
   },
   "outputs": [],
   "source": [
    "camelot_processing_approach()"
   ]
  },
  {
   "cell_type": "code",
   "execution_count": null,
   "metadata": {
    "collapsed": true,
    "slideshow": {
     "slide_type": "slide"
    }
   },
   "outputs": [],
   "source": [
    "table_list = camelot.read_pdf(searchable_pdf_fuel_file)\n",
    "table_list"
   ]
  },
  {
   "cell_type": "code",
   "execution_count": null,
   "metadata": {
    "collapsed": true,
    "slideshow": {
     "slide_type": "slide"
    }
   },
   "outputs": [],
   "source": [
    "table = table_list[0]"
   ]
  },
  {
   "cell_type": "markdown",
   "metadata": {
    "slideshow": {
     "slide_type": "skip"
    }
   },
   "source": [
    "The below is much less code for working with these types of tables or document structures.  If all that is needed is to deliver this table as an excel or csv file, because table.df is a pandas dataframe object, it is possible to append a to_csv or to_excel method to the end of this object with minimal work and less code"
   ]
  },
  {
   "cell_type": "code",
   "execution_count": null,
   "metadata": {
    "collapsed": true,
    "slideshow": {
     "slide_type": "slide"
    }
   },
   "outputs": [],
   "source": [
    "table.df"
   ]
  },
  {
   "cell_type": "code",
   "execution_count": null,
   "metadata": {
    "collapsed": true,
    "slideshow": {
     "slide_type": "skip"
    }
   },
   "outputs": [],
   "source": [
    "print(table_list.n)\n",
    "print('return type is {}'.format(type(table_list)))"
   ]
  },
  {
   "cell_type": "markdown",
   "metadata": {
    "slideshow": {
     "slide_type": "slide"
    }
   },
   "source": [
    "## <font color=orange>fairy dust: camelot-py</font>\n",
    "The table_list object has two properties: \n",
    "1. <font color=blue><b>n</b></font>: which is the number of tables found in the pdf document\n",
    "2. <font color=blue><b>export</b></font>: which is a handy method for converting the returned table object to a csv, json or html file \n",
    "\n",
    "The tables in the list have useful methods for evaluating the conversion like : <font color=blue><b>accuracy, whitespace, page, shape and, parsing_report</b></font>. \n",
    "\n",
    "The tables also have very useful methods for transforming the data into useful formats: <font color=blue><b>to_excel, to_csv, to_json, and df</b></font>"
   ]
  },
  {
   "cell_type": "code",
   "execution_count": null,
   "metadata": {
    "collapsed": true,
    "slideshow": {
     "slide_type": "skip"
    }
   },
   "outputs": [],
   "source": [
    "print(table.shape)\n",
    "table.parsing_report"
   ]
  },
  {
   "cell_type": "code",
   "execution_count": null,
   "metadata": {
    "collapsed": true,
    "slideshow": {
     "slide_type": "skip"
    }
   },
   "outputs": [],
   "source": [
    "table.df"
   ]
  },
  {
   "cell_type": "markdown",
   "metadata": {
    "slideshow": {
     "slide_type": "slide"
    }
   },
   "source": [
    "### <font color=green>kryptonite: </font><font color=red>limitations</font>\n",
    "1. Lists don't always translate well to a datafame when tabular data is very close together \n",
    "2. Stream can return results from guesses about document structure and column width that are off with tight tabular text"
   ]
  },
  {
   "cell_type": "code",
   "execution_count": null,
   "metadata": {
    "collapsed": true,
    "slideshow": {
     "slide_type": "skip"
    }
   },
   "outputs": [],
   "source": [
    "def license_data():\n",
    "    display(HTML(\"<iframe src=https://camelot-py.readthedocs.io/en/master/_static/pdf/column_separators.pdf width=990></iframe>\"))"
   ]
  },
  {
   "cell_type": "markdown",
   "metadata": {
    "slideshow": {
     "slide_type": "skip"
    }
   },
   "source": [
    "## lists don't always tanslate well to a dataframe when tabluar data  is vey close together & stream returns results from guesses about document structure that are not correct"
   ]
  },
  {
   "cell_type": "code",
   "execution_count": null,
   "metadata": {
    "collapsed": true,
    "slideshow": {
     "slide_type": "slide"
    }
   },
   "outputs": [],
   "source": [
    "license_data()"
   ]
  },
  {
   "cell_type": "code",
   "execution_count": null,
   "metadata": {
    "collapsed": true,
    "slideshow": {
     "slide_type": "slide"
    }
   },
   "outputs": [],
   "source": [
    "licenses_table_list =  camelot.read_pdf(searchable_pdf_license_file, flavor='stream')\n",
    "licenses_table_list[0].df"
   ]
  },
  {
   "cell_type": "code",
   "execution_count": null,
   "metadata": {
    "collapsed": true,
    "slideshow": {
     "slide_type": "skip"
    }
   },
   "outputs": [],
   "source": [
    "licenses_table_list[0].data"
   ]
  },
  {
   "cell_type": "code",
   "execution_count": null,
   "metadata": {
    "collapsed": true,
    "slideshow": {
     "slide_type": "skip"
    }
   },
   "outputs": [],
   "source": [
    "# requires playing around with text plotting to get x coordinates to feed to columns location list as parsing parameter\n",
    "# however, this functionality does not seem to render with the plot method using jupyter notebooks\n",
    "better_table_list = camelot.read_pdf(searchable_pdf_license_file, flavor='stream',\n",
    "                                    columns=['72,95,209,327,442,529,566,606,683'],split_text=True)"
   ]
  },
  {
   "cell_type": "code",
   "execution_count": null,
   "metadata": {
    "collapsed": true,
    "slideshow": {
     "slide_type": "skip"
    }
   },
   "outputs": [],
   "source": [
    "better_table_list[0].df"
   ]
  },
  {
   "cell_type": "markdown",
   "metadata": {
    "slideshow": {
     "slide_type": "slide"
    }
   },
   "source": [
    "## <font color=orange>fairy dust: camelot</font>\n",
    "**The plot method provides a way to visualize the impact specifying columns has on a table**\n",
    "1. camelot provides a method for acessing the data from a PDF structured in a more predictable series of lists and nested lists"
   ]
  },
  {
   "cell_type": "code",
   "execution_count": null,
   "metadata": {
    "collapsed": true,
    "slideshow": {
     "slide_type": "skip"
    }
   },
   "outputs": [],
   "source": [
    "def camelot_tables_comparing_against_specified_columns():\n",
    "    for key,table in {'tight table': licenses_table_list[0], \n",
    "                  'specifying column separators': better_table_list[0]}.items():\n",
    "        print(key)\n",
    "        print(table.plot('table'))"
   ]
  },
  {
   "cell_type": "code",
   "execution_count": null,
   "metadata": {
    "collapsed": true,
    "slideshow": {
     "slide_type": "slide"
    }
   },
   "outputs": [],
   "source": [
    "camelot_tables_comparing_against_specified_columns()"
   ]
  },
  {
   "cell_type": "code",
   "execution_count": null,
   "metadata": {
    "collapsed": true,
    "slideshow": {
     "slide_type": "skip"
    }
   },
   "outputs": [],
   "source": [
    "# nothing much happening if the document is scanned\n",
    "camelot.read_pdf(file, pages='1-10', flavor='stream')"
   ]
  },
  {
   "cell_type": "markdown",
   "metadata": {
    "slideshow": {
     "slide_type": "slide"
    }
   },
   "source": [
    "## <font color=orange>more fairy dust  -- table hunting</font>\n",
    "1. camelot is a table-hunter.  It pushes parsed objects to a TableList even when it warns you that no table is found. \n",
    "2. This aggressive behavior allows us to plot a visual representation of page structure if we want a quick scan OR as part of another process you may have that reads and makes decisions based on page structure\n",
    "3. working with sections of a document is as easy as passing numbers, range or dynamically generated variables to determine how many or what pages to read\n"
   ]
  },
  {
   "cell_type": "code",
   "execution_count": null,
   "metadata": {
    "collapsed": true,
    "slideshow": {
     "slide_type": "skip"
    }
   },
   "outputs": [],
   "source": [
    "# using lattice flavor \n",
    "camelot.read_pdf(searchable_pdf_amort_file, pages='1-10', flavor='lattice')"
   ]
  },
  {
   "cell_type": "code",
   "execution_count": null,
   "metadata": {
    "collapsed": true,
    "slideshow": {
     "slide_type": "slide"
    }
   },
   "outputs": [],
   "source": [
    "# userwarning 4\n",
    "camelot.read_pdf(searchable_pdf_amort_file, pages='1-10', flavor='stream')"
   ]
  },
  {
   "cell_type": "code",
   "execution_count": null,
   "metadata": {
    "collapsed": true,
    "slideshow": {
     "slide_type": "slide"
    }
   },
   "outputs": [],
   "source": [
    "no_tables_found = camelot.read_pdf(searchable_pdf_amort_file,pages='1-10',flavor='stream')"
   ]
  },
  {
   "cell_type": "code",
   "execution_count": null,
   "metadata": {
    "collapsed": true,
    "slideshow": {
     "slide_type": "skip"
    }
   },
   "outputs": [],
   "source": [
    "camelot.read_pdf(searchable_pdf_fuel_file)[0].df"
   ]
  },
  {
   "cell_type": "code",
   "execution_count": null,
   "metadata": {
    "collapsed": true,
    "slideshow": {
     "slide_type": "slide"
    }
   },
   "outputs": [],
   "source": [
    "no_tables_found"
   ]
  },
  {
   "cell_type": "code",
   "execution_count": null,
   "metadata": {
    "collapsed": true,
    "slideshow": {
     "slide_type": "slide"
    }
   },
   "outputs": [],
   "source": [
    "no_tables_found[3].data"
   ]
  },
  {
   "cell_type": "code",
   "execution_count": null,
   "metadata": {
    "collapsed": true,
    "slideshow": {
     "slide_type": "slide"
    }
   },
   "outputs": [],
   "source": [
    "for page in range(no_tables_found.n):\n",
    "    no_tables_found[page].plot('text')"
   ]
  },
  {
   "cell_type": "markdown",
   "metadata": {
    "slideshow": {
     "slide_type": "skip"
    }
   },
   "source": [
    "```camelot.read_pdf('page4-10-14-2018.pdf')``` vs. ```camelot.read_pdf('page4-10-14-2018.pdf', flavor='stream')```"
   ]
  },
  {
   "cell_type": "code",
   "execution_count": null,
   "metadata": {
    "collapsed": true,
    "slideshow": {
     "slide_type": "skip"
    }
   },
   "outputs": [],
   "source": [
    "# using the default of the much more rigid lattice object fails to detect anything\n",
    "camelot.read_pdf(searchable_pdf_amort_page4_file)"
   ]
  },
  {
   "cell_type": "markdown",
   "metadata": {
    "slideshow": {
     "slide_type": "slide"
    }
   },
   "source": [
    "## using camelot on the target item: page 4 of a 72 page document"
   ]
  },
  {
   "cell_type": "code",
   "execution_count": null,
   "metadata": {
    "collapsed": true,
    "slideshow": {
     "slide_type": "slide"
    }
   },
   "outputs": [],
   "source": [
    "page4_table_list = camelot.read_pdf(searchable_pdf_amort_page4_file,flavor='stream')\n",
    "page4_table = page4_table_list[0]"
   ]
  },
  {
   "cell_type": "code",
   "execution_count": null,
   "metadata": {
    "collapsed": true,
    "slideshow": {
     "slide_type": "slide"
    }
   },
   "outputs": [],
   "source": [
    "page4_table.shape"
   ]
  },
  {
   "cell_type": "code",
   "execution_count": null,
   "metadata": {
    "collapsed": true,
    "slideshow": {
     "slide_type": "slide"
    }
   },
   "outputs": [],
   "source": [
    "page4_table.accuracy"
   ]
  },
  {
   "cell_type": "code",
   "execution_count": null,
   "metadata": {
    "collapsed": true,
    "slideshow": {
     "slide_type": "slide"
    }
   },
   "outputs": [],
   "source": [
    "page4_table.parsing_report"
   ]
  },
  {
   "cell_type": "code",
   "execution_count": null,
   "metadata": {
    "collapsed": true,
    "slideshow": {
     "slide_type": "skip"
    }
   },
   "outputs": [],
   "source": [
    "page4_table.plot('table')"
   ]
  },
  {
   "cell_type": "code",
   "execution_count": null,
   "metadata": {
    "collapsed": true,
    "slideshow": {
     "slide_type": "skip"
    }
   },
   "outputs": [],
   "source": [
    "page4_table.plot('text')"
   ]
  },
  {
   "cell_type": "markdown",
   "metadata": {
    "slideshow": {
     "slide_type": "slide"
    }
   },
   "source": [
    "## intuitive parsing -- breaking on 6 \n",
    "\n",
    "<font color=orange>camelot has a data property that is clean & useful</font>"
   ]
  },
  {
   "cell_type": "code",
   "execution_count": null,
   "metadata": {
    "collapsed": true,
    "slideshow": {
     "slide_type": "skip"
    }
   },
   "outputs": [],
   "source": [
    "def displaying_camelot_parsing():\n",
    "    display(HTML(\"<table><tr><td><img src='images/top-row-blankspace.png'></td></tr></table>\"))\n",
    "    return page4_table.data[0:5]"
   ]
  },
  {
   "cell_type": "code",
   "execution_count": null,
   "metadata": {
    "collapsed": true,
    "slideshow": {
     "slide_type": "slide"
    }
   },
   "outputs": [],
   "source": [
    "displaying_camelot_parsing()"
   ]
  },
  {
   "cell_type": "code",
   "execution_count": null,
   "metadata": {
    "collapsed": true,
    "slideshow": {
     "slide_type": "slide"
    }
   },
   "outputs": [],
   "source": [
    "page4_table.df"
   ]
  },
  {
   "cell_type": "markdown",
   "metadata": {
    "slideshow": {
     "slide_type": "slide"
    }
   },
   "source": [
    "#### <font color=orange>a useful little gem</font>\n",
    "* Camelot provides a method for detecting and handling superscript and subscripts in table cells with a parameter flag_size.  ```flag_size=True```"
   ]
  },
  {
   "cell_type": "markdown",
   "metadata": {
    "slideshow": {
     "slide_type": "subslide"
    }
   },
   "source": [
    "#### <font color=orange>an evem more useful little gem</font>\n",
    "* automated detection and handling of rotated pages \n",
    "    ![](images/smiley-face.png)"
   ]
  },
  {
   "cell_type": "code",
   "execution_count": null,
   "metadata": {
    "collapsed": true,
    "slideshow": {
     "slide_type": "skip"
    }
   },
   "outputs": [],
   "source": [
    "def rotation_handling():\n",
    "    display(HTML(\"<table><tr><td><img src='images/rotated-table.png' width='300', hieght='300'></td><td><img src='images/twisted-table-plot.png' width='450', hieght='600'></td></tr></table>\"))"
   ]
  },
  {
   "cell_type": "code",
   "execution_count": null,
   "metadata": {
    "collapsed": true,
    "slideshow": {
     "slide_type": "slide"
    }
   },
   "outputs": [],
   "source": [
    "rotation_handling()"
   ]
  },
  {
   "cell_type": "markdown",
   "metadata": {
    "slideshow": {
     "slide_type": "slide"
    }
   },
   "source": [
    "<font color=green>df</font>"
   ]
  },
  {
   "cell_type": "markdown",
   "metadata": {
    "slideshow": {
     "slide_type": "subslide"
    }
   },
   "source": [
    "<font color=green>first item in list of tabular data objects or tables</font>"
   ]
  },
  {
   "cell_type": "markdown",
   "metadata": {
    "slideshow": {
     "slide_type": "subslide"
    }
   },
   "source": [
    "<font color=green>rotated, parsed and prepared pdf</font>"
   ]
  },
  {
   "cell_type": "markdown",
   "metadata": {
    "slideshow": {
     "slide_type": "subslide"
    }
   },
   "source": [
    "<font color=green>read by camelot</font>"
   ]
  },
  {
   "cell_type": "code",
   "execution_count": null,
   "metadata": {
    "collapsed": true,
    "slideshow": {
     "slide_type": "slide"
    }
   },
   "outputs": [],
   "source": [
    "camelot.read_pdf(searchable_pdf_rotated_file)[0].df"
   ]
  },
  {
   "cell_type": "code",
   "execution_count": null,
   "metadata": {
    "collapsed": true,
    "slideshow": {
     "slide_type": "skip"
    }
   },
   "outputs": [],
   "source": [
    "twisted_table_list = camelot.read_pdf(searchable_pdf_rotated_file)\n",
    "twisted_table = twisted_table_list[0]"
   ]
  },
  {
   "cell_type": "code",
   "execution_count": null,
   "metadata": {
    "collapsed": true,
    "slideshow": {
     "slide_type": "skip"
    }
   },
   "outputs": [],
   "source": [
    "twisted_table.df"
   ]
  },
  {
   "cell_type": "markdown",
   "metadata": {
    "slideshow": {
     "slide_type": "skip"
    }
   },
   "source": [
    "## use camelot to checkout the graphical represenation of the object with the plot method camelot provides"
   ]
  },
  {
   "cell_type": "code",
   "execution_count": null,
   "metadata": {
    "collapsed": true,
    "slideshow": {
     "slide_type": "skip"
    }
   },
   "outputs": [],
   "source": [
    "twisted_table.plot(geometry_type='text')"
   ]
  },
  {
   "cell_type": "code",
   "execution_count": null,
   "metadata": {
    "collapsed": true,
    "slideshow": {
     "slide_type": "skip"
    }
   },
   "outputs": [],
   "source": [
    "twisted_table.plot(geometry_type='table')"
   ]
  },
  {
   "cell_type": "markdown",
   "metadata": {
    "slideshow": {
     "slide_type": "slide"
    }
   },
   "source": [
    "## <font color=purple> working with tabula</font>"
   ]
  },
  {
   "cell_type": "markdown",
   "metadata": {
    "slideshow": {
     "slide_type": "slide"
    }
   },
   "source": [
    "### <font color=green>summary</font>\n",
    "1. the [documentation](https://pypi.org/project/tabula-py/)\n",
    "2. Python wrapper for tabula-java, the command line interface for the table extraction engine the [Tabula](https://tabula.technology/) project. Tabula is in use for investigative reporting at news organizations :[ProPublica](https://www.propublica.org/), [Foriegn Policy](https://foreignpolicy.com/), [New York Times](https://www.nytimes.com/) and others.\n",
    "3. It reads data and attempts to return a Pandas dataframe object by default or json optionally\n",
    "4. docs for python wrapper don't seem as dense but helpful explanation of option parameters"
   ]
  },
  {
   "cell_type": "markdown",
   "metadata": {
    "slideshow": {
     "slide_type": "slide"
    }
   },
   "source": [
    "## <font color=green>kryptonite: </font><font color=red>limitations</font>\n",
    "\n",
    "1. Tight text \n",
    "2. Incorrectly appending columns\n",
    "3. Chopping header data\n",
    "4. May handle rotatated sheets poorly"
   ]
  },
  {
   "cell_type": "code",
   "execution_count": null,
   "metadata": {
    "collapsed": true,
    "slideshow": {
     "slide_type": "slide"
    }
   },
   "outputs": [],
   "source": [
    "# working with scanned documents\n",
    "tabula_scanned_pdf = tabula.read_pdf(file, pages=4)\n",
    "type(tabula_scanned_pdf)"
   ]
  },
  {
   "cell_type": "code",
   "execution_count": null,
   "metadata": {
    "collapsed": true,
    "slideshow": {
     "slide_type": "slide"
    }
   },
   "outputs": [],
   "source": [
    "tabula.read_pdf(searchable_pdf_rotated_file)"
   ]
  },
  {
   "cell_type": "code",
   "execution_count": null,
   "metadata": {
    "collapsed": true,
    "slideshow": {
     "slide_type": "skip"
    }
   },
   "outputs": [],
   "source": [
    "# converts automatically to dataframe by default but tight text doesn't work well\n",
    "# splits colums appending incorrectly to the next column (first row)\n",
    "# chops column header data\n",
    "tabula.read_pdf(searchable_pdf_license_file)"
   ]
  },
  {
   "cell_type": "code",
   "execution_count": null,
   "metadata": {
    "collapsed": true,
    "slideshow": {
     "slide_type": "skip"
    }
   },
   "outputs": [],
   "source": [
    "tabula.read_pdf(searchable_pdf_license_file, guess=False)"
   ]
  },
  {
   "cell_type": "markdown",
   "metadata": {
    "slideshow": {
     "slide_type": "slide"
    }
   },
   "source": [
    "## <font color=orange> * * * handles well for the usecase of needing to quickly access, analyze a space separated table in a searchable pdf with minimal processing or cleaning steps  * * *</font>\n"
   ]
  },
  {
   "cell_type": "code",
   "execution_count": null,
   "metadata": {
    "collapsed": true,
    "slideshow": {
     "slide_type": "slide"
    }
   },
   "outputs": [],
   "source": [
    "tabula.read_pdf(searchable_pdf_amort_page4_file)"
   ]
  },
  {
   "cell_type": "markdown",
   "metadata": {
    "slideshow": {
     "slide_type": "slide"
    }
   },
   "source": [
    "### <font color=orange>fairy dust: tabula</font>\n",
    "1. Auto detect structure break in table to retun only table elements: no title no paragraph\n",
    "2. Get to cleaned dataframe in <font color=green><b>8</b></font> lines\n",
    "3. Get to excel or csv in <font color=green><b>9</b></font> lines\n",
    "4. Has useful ```pages``` parameter for setting <b>target page number</b> to read into the function that attempts to parse and return df or json. takes list or 'all'\n",
    "5. <em>camelot-py has useful detection features that could supoprt part of workflow for large scale jobs</em>"
   ]
  },
  {
   "cell_type": "markdown",
   "metadata": {
    "slideshow": {
     "slide_type": "slide"
    }
   },
   "source": [
    "```python\n",
    "df = tabula.read_pdf(searchable_pdf_amort_file, pages=4)\n",
    "cols = []\n",
    "[cols.append('{} {}'.format(k.split('.')[0],v))for k,v in zip(df.iloc[0].index, df.iloc[0])]\n",
    "df.drop([0,1,2,23,24],inplace=True)\n",
    "df.columns = cols\n",
    "\n",
    "for col in df.columns[2:]:\n",
    "    df[col] = df[col].apply(lambda x: float(x.replace(',','')))\n",
    "df.set_index('Payment No.', inplace=True)```"
   ]
  },
  {
   "cell_type": "code",
   "execution_count": null,
   "metadata": {
    "collapsed": true,
    "slideshow": {
     "slide_type": "skip"
    }
   },
   "outputs": [],
   "source": [
    "df = tabula.read_pdf(searchable_pdf_amort_file, pages=4)\n",
    "cols = []\n",
    "[cols.append('{} {}'.format(k.split('.')[0],v))for k,v in zip(df.iloc[0].index, df.iloc[0])]\n",
    "df.drop([0,1,2,23,24],inplace=True)\n",
    "df.columns = cols\n",
    "\n",
    "for col in df.columns[2:]:\n",
    "    df[col] = df[col].apply(lambda x: float(x.replace(',','')))\n",
    "df.set_index('Payment No.', inplace=True)"
   ]
  },
  {
   "cell_type": "code",
   "execution_count": null,
   "metadata": {
    "collapsed": true,
    "slideshow": {
     "slide_type": "slide"
    }
   },
   "outputs": [],
   "source": [
    "df"
   ]
  },
  {
   "cell_type": "markdown",
   "metadata": {
    "slideshow": {
     "slide_type": "slide"
    }
   },
   "source": [
    "```python\n",
    "df.to_excel('data/excel_data/tabula-to-excel-{}.xlsx'.format(datetime.now().strftime('%m-%d-%Y')))```"
   ]
  },
  {
   "cell_type": "code",
   "execution_count": null,
   "metadata": {
    "collapsed": true,
    "slideshow": {
     "slide_type": "skip"
    }
   },
   "outputs": [],
   "source": [
    "df.to_excel('data/excel_data/tabula-to-excel-{}.xlsx'.format(datetime.now().strftime('%m-%d-%Y')))"
   ]
  },
  {
   "cell_type": "markdown",
   "metadata": {
    "slideshow": {
     "slide_type": "skip"
    }
   },
   "source": [
    "### comparing  camelot and tabula for handling tight multiline table tabular data"
   ]
  },
  {
   "cell_type": "code",
   "execution_count": null,
   "metadata": {
    "collapsed": true,
    "slideshow": {
     "slide_type": "skip"
    }
   },
   "outputs": [],
   "source": [
    "# handles multiple pages, merging into one object to render dataframe\n",
    "# while camelot parses a document to return tables and pages individually\n",
    "camelot_page_limitation = camelot.read_pdf(searchable_pdf_license_file, flavor='stream')\n",
    "camelot_page_limitation"
   ]
  },
  {
   "cell_type": "code",
   "execution_count": null,
   "metadata": {
    "collapsed": true,
    "slideshow": {
     "slide_type": "skip"
    }
   },
   "outputs": [],
   "source": [
    "print('pages returned with camelot: {}'.format(camelot_page_limitation.n))\n",
    "camelot_page_limitation[0].df.tail(5)"
   ]
  },
  {
   "cell_type": "code",
   "execution_count": null,
   "metadata": {
    "collapsed": true,
    "slideshow": {
     "slide_type": "skip"
    }
   },
   "outputs": [],
   "source": [
    "tabula_license_page1 = tabula.read_pdf(searchable_pdf_license_file,pages=1)"
   ]
  },
  {
   "cell_type": "code",
   "execution_count": null,
   "metadata": {
    "collapsed": true,
    "slideshow": {
     "slide_type": "skip"
    }
   },
   "outputs": [],
   "source": [
    "tabula_license_page2 = tabula.read_pdf(searchable_pdf_license_file,pages=2)"
   ]
  },
  {
   "cell_type": "code",
   "execution_count": null,
   "metadata": {
    "collapsed": true,
    "slideshow": {
     "slide_type": "skip"
    }
   },
   "outputs": [],
   "source": [
    "tabula.read_pdf(searchable_pdf_license_file,pages=[1,2])"
   ]
  },
  {
   "cell_type": "markdown",
   "metadata": {
    "slideshow": {
     "slide_type": "skip"
    }
   },
   "source": [
    "Because ```type(tabula.read_pdf('data/pdf_data/exhibita-10-15-2018.pdf'))``` returns 'NoneType' and ```type(tabula.read_pdf('data/pdf_data/exhibita-10-15-2018.pdf',pages=4))``` returns 'pandas.core.frame.DataFrame' when dealing with the same searchable PDF, a useful pre-proessing step seems to be evaluating for the existence of a table object. \n",
    "\n",
    "\n",
    "\n",
    "Camelot has useful methods for this task. "
   ]
  },
  {
   "cell_type": "code",
   "execution_count": null,
   "metadata": {
    "collapsed": true,
    "slideshow": {
     "slide_type": "skip"
    }
   },
   "outputs": [],
   "source": [
    "type(tabula.read_pdf(searchable_pdf_amort_file))"
   ]
  },
  {
   "cell_type": "code",
   "execution_count": null,
   "metadata": {
    "collapsed": true,
    "slideshow": {
     "slide_type": "skip"
    }
   },
   "outputs": [],
   "source": [
    "type(tabula.read_pdf(searchable_pdf_amort_file,pages=4))"
   ]
  },
  {
   "cell_type": "code",
   "execution_count": null,
   "metadata": {
    "collapsed": true,
    "slideshow": {
     "slide_type": "skip"
    }
   },
   "outputs": [],
   "source": [
    "tabula.read_pdf(searchable_pdf_amort_file, pages=4)"
   ]
  },
  {
   "cell_type": "markdown",
   "metadata": {
    "slideshow": {
     "slide_type": "slide"
    }
   },
   "source": [
    "# What is an example workflow if you need to get PDF data with Python?"
   ]
  },
  {
   "cell_type": "markdown",
   "metadata": {
    "slideshow": {
     "slide_type": "subslide"
    }
   },
   "source": [
    "1. checking information in the metadata about a particular file and branching <b>OR</b> handling encryption  \n",
    "2. checking object type and branching : image, searchable pdf, scanned pdf\n",
    "3. checking and handling page orientation\n",
    "3. determining langauge\n",
    "4. checking for existence of tables or similarity in formattting and branching on table type or pattern similarity\n",
    "5. running evaluation on conversion to determine accuracy, parsing report or confidence values and branching\n",
    "6. splitting, extracting or converting to a target file type for delivery, analysis "
   ]
  },
  {
   "cell_type": "markdown",
   "metadata": {
    "slideshow": {
     "slide_type": "slide"
    }
   },
   "source": [
    "![](images/xkcd-right-tool-close-but-not.png)"
   ]
  },
  {
   "cell_type": "code",
   "execution_count": null,
   "metadata": {
    "collapsed": true
   },
   "outputs": [],
   "source": []
  }
 ],
 "metadata": {
  "celltoolbar": "Slideshow",
  "kernelspec": {
   "display_name": "Python 3",
   "language": "python",
   "name": "python3"
  },
  "language_info": {
   "codemirror_mode": {
    "name": "ipython",
    "version": 3
   },
   "file_extension": ".py",
   "mimetype": "text/x-python",
   "name": "python",
   "nbconvert_exporter": "python",
   "pygments_lexer": "ipython3",
   "version": "3.6.3"
  }
 },
 "nbformat": 4,
 "nbformat_minor": 2
}
